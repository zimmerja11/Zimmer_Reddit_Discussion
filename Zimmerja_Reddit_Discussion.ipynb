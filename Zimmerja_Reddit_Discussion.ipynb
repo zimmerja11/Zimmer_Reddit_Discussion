{
 "cells": [
  {
   "cell_type": "code",
   "execution_count": 327,
   "metadata": {},
   "outputs": [],
   "source": [
    "import pandas as pd\n",
    "import scipy.sparse as sp\n",
    "from scipy import linalg\n",
    "import numpy as np\n",
    "import time\n",
    "from pandas import DataFrame\n",
    "import csv\n",
    "import json\n",
    "import re\n",
    "import regex\n",
    "import seaborn as sns\n",
    "from collections import Counter\n",
    "import logging\n",
    "logging.basicConfig(format='%(asctime)s : %(levelname)s : %(message)s', level=logging.INFO)\n",
    "from datetime import datetime\n",
    "from dateutil import tz\n",
    "\n",
    "import sklearn\n",
    "from sklearn import metrics\n",
    "from sklearn.feature_extraction.text import CountVectorizer, TfidfVectorizer\n",
    "from sklearn.decomposition import NMF, LatentDirichletAllocation\n",
    "from sklearn.metrics import accuracy_score\n",
    "\n",
    "import statsmodels.api as sm\n",
    "import statsmodels.formula.api as smf\n",
    "\n",
    "import spacy\n",
    "from spacy.tokens import Doc\n",
    "#from spacy.en import English\n",
    "\n",
    "import nltk\n",
    "from nltk.corpus import stopwords\n",
    "from nltk.tokenize import word_tokenize\n",
    "from nltk.stem import WordNetLemmatizer\n",
    "nltk_words = set(nltk.corpus.words.words())\n",
    "from nltk.stem import SnowballStemmer\n",
    "snowball_stemmer = SnowballStemmer(\"english\")\n",
    "\n",
    "from gensim import corpora, models, similarities\n",
    "from gensim.corpora import Dictionary\n",
    "from gensim.models.tfidfmodel import TfidfModel\n",
    "from gensim.matutils import sparse2full\n",
    "from gensim.models import LdaModel\n",
    "\n",
    "import pyLDAvis \n",
    "import pyLDAvis.sklearn\n",
    "pyLDAvis.enable_notebook()"
   ]
  },
  {
   "cell_type": "markdown",
   "metadata": {},
   "source": [
    "## Read & Prepare Data"
   ]
  },
  {
   "cell_type": "code",
   "execution_count": 2,
   "metadata": {},
   "outputs": [],
   "source": [
    "#file = pd.read_pickle(\"RS_2018-09.xz\",compression='infer')\n",
    "# import lzma\n",
    "# with open(\"RS_2018-09.xz\", encoding='utf-8') as compressed:\n",
    "#     with lzma.LZMAFile(compressed) as uncompressed:\n",
    "#         for line in uncompressed:\n",
    "#             print(line)"
   ]
  },
  {
   "cell_type": "code",
   "execution_count": 3,
   "metadata": {},
   "outputs": [],
   "source": [
    "# with open(\"RS_2018-09\") as txtfile:\n",
    "#     data = json.loads(txtfile)\n",
    "#     for line in data:\n",
    "#         print(line)\n",
    "#         break"
   ]
  },
  {
   "cell_type": "code",
   "execution_count": 4,
   "metadata": {},
   "outputs": [],
   "source": [
    "# code from:\n",
    "# https://stackoverflow.com/questions/35159967/setting-google-application-credentials-for-bigquery-python-cli\n",
    "# https://stackoverflow.com/questions/42555142/downloading-a-file-from-google-cloud-storage-inside-a-folder\n",
    "# https://www.kaggle.com/c/talkingdata-adtracking-fraud-detection/discussion/56014\n",
    "\n",
    "\n",
    "# from google.cloud import storage\n",
    "\n",
    "# from io import BytesIO\n",
    "\n",
    "# import os\n",
    "# os.environ[\"GOOGLE_APPLICATION_CREDENTIALS\"] = \"/Users/zimmer/Documents/SI_671/zimmerja_671_project/Zimmerja-671-project-e5fa2b1d8041.json\"\n",
    "\n",
    "# Initialise a client\n",
    "# storage_client = storage.Client(\"Zimmerja-671-project-222514\")\n",
    "# # Create a bucket object for our bucket\n",
    "# bucket_name = 'zimmerja_671'\n",
    "# bucket = storage_client.get_bucket(bucket_name)\n",
    "# # Create a blob object from the filepath\n",
    "# blob = bucket.blob(\"ama_comment_data\")\n",
    "# # Download the file to a destination\n",
    "# blob.download_to_filename('ama_comment_data_sept.csv')\n",
    "\n"
   ]
  },
  {
   "cell_type": "code",
   "execution_count": 5,
   "metadata": {},
   "outputs": [],
   "source": [
    "# blob = bucket.blob(\"science_comment_data\")\n",
    "# # Download the file to a destination\n",
    "# blob.download_to_filename('science_comment_data_sept.csv')"
   ]
  },
  {
   "cell_type": "code",
   "execution_count": 6,
   "metadata": {},
   "outputs": [],
   "source": [
    "# blob = bucket.blob(\"pokemon_comment_data\")\n",
    "# # Download the file to a destination\n",
    "# blob.download_to_filename('pokemon_comment_data_sept.csv')"
   ]
  },
  {
   "cell_type": "markdown",
   "metadata": {},
   "source": [
    "### r/IAmA"
   ]
  },
  {
   "cell_type": "code",
   "execution_count": 7,
   "metadata": {},
   "outputs": [],
   "source": [
    "ama_posts = pd.read_csv(\"ama_post_data_sept.csv\")"
   ]
  },
  {
   "cell_type": "code",
   "execution_count": 8,
   "metadata": {},
   "outputs": [],
   "source": [
    "#ama_posts.head()"
   ]
  },
  {
   "cell_type": "code",
   "execution_count": 9,
   "metadata": {},
   "outputs": [],
   "source": [
    "ama_posts_clean = ama_posts[['created_utc', 'subreddit', 'author', 'num_comments', 'score', 'title', 'selftext', 'id', 'gilded', 'subreddit_id']]\n",
    "#ama_posts_clean[ama_posts_clean['id'] == '9ee0s9']"
   ]
  },
  {
   "cell_type": "code",
   "execution_count": 10,
   "metadata": {},
   "outputs": [],
   "source": [
    "ama_comments = pd.read_csv(\"ama_comment_data_sept.csv\")\n",
    "ama_comments_clean = ama_comments[['body', 'author', 'created_utc', 'subreddit_id', 'link_id', 'parent_id', 'score', 'id', 'gilded', 'subreddit']]\n",
    "#ama_comments_clean.head()"
   ]
  },
  {
   "cell_type": "code",
   "execution_count": 11,
   "metadata": {},
   "outputs": [],
   "source": [
    "# Get sample of posts with all associated comments for analysis\n",
    "# IAmA -> Top 5 posts = 37% of comments in dataset (Top 10 = 50%)\n",
    "# Science -> Top 11 posts = 25% of comments in dataset\n",
    "# Pokemon -> Top 46 posts = 25% of comments in dataset\n",
    "ama_sample_post_ids = ['t3_9h5oi0', 't3_9ee0s9', 't3_9c4uly', 't3_9cyhq5', 't3_9ens3f'] #rest of Top 10 -> 't3_9i8460', 't3_9ijtbj', 't3_9cd77w', 't3_9hqi4x'\n",
    "science_sample_post_ids = ['t3_9jj7z1','t3_9he1fn','t3_9jv6hs','t3_9fqrit','t3_9ihgph','t3_9j68tv','t3_9jem15','t3_9gor0n','t3_9emmr2','t3_9eslew','t3_9gu7x2']\n",
    "poke_sample_post_ids = ['t3_9irxal','t3_9ckkzs','t3_9jn0ns','t3_9eldgz','t3_9hmriv','t3_9k2maa','t3_9igeoz','t3_9enb3y','t3_9gfa35','t3_9gt5sp','t3_9d9olz','t3_9cjzan','t3_9gkj5t','t3_9ierdv','t3_9f29cp','t3_9e7ps7','t3_9cm90k','t3_9c2tfs','t3_9c66wh','t3_9ch4l0','t3_9cb1t0','t3_9ie0oa','t3_9h4yxo','t3_9ehis8','t3_9jc4wa','t3_9i5lz0','t3_9gtxup','t3_9emyyi','t3_9hqedh','t3_9gyb7b','t3_9k455q','t3_9c0ku3','t3_9fqw1g','t3_9g7zwb','t3_9hvu9x','t3_9i8yjh','t3_9j2gfw','t3_9c5i54','t3_9jwijj','t3_9is4h2','t3_9jvf2d','t3_9hu7np','t3_9dvf5f','t3_9jkyou','t3_9ed6y9','t3_9hgvh6']"
   ]
  },
  {
   "cell_type": "code",
   "execution_count": 12,
   "metadata": {},
   "outputs": [],
   "source": [
    "ama_comments_sample = ama_comments_clean[ama_comments_clean['link_id'].isin(ama_sample_post_ids)]"
   ]
  },
  {
   "cell_type": "code",
   "execution_count": 13,
   "metadata": {},
   "outputs": [
    {
     "data": {
      "text/plain": [
       "(32107, 10)"
      ]
     },
     "execution_count": 13,
     "metadata": {},
     "output_type": "execute_result"
    }
   ],
   "source": [
    "ama_comments_sample.shape"
   ]
  },
  {
   "cell_type": "markdown",
   "metadata": {},
   "source": [
    "### r/Science"
   ]
  },
  {
   "cell_type": "code",
   "execution_count": 14,
   "metadata": {},
   "outputs": [],
   "source": [
    "science_posts = pd.read_csv(\"science_post_data_sept.csv\")"
   ]
  },
  {
   "cell_type": "code",
   "execution_count": 15,
   "metadata": {},
   "outputs": [],
   "source": [
    "#science_posts.head()"
   ]
  },
  {
   "cell_type": "code",
   "execution_count": 16,
   "metadata": {},
   "outputs": [],
   "source": [
    "science_posts_clean = science_posts[['created_utc', 'subreddit', 'author', 'num_comments', 'score', 'title', 'selftext', 'id', 'gilded', 'subreddit_id']]\n",
    "#ama_posts_clean.head()"
   ]
  },
  {
   "cell_type": "code",
   "execution_count": 17,
   "metadata": {},
   "outputs": [],
   "source": [
    "science_comments = pd.read_csv(\"science_comment_data_sept.csv\")\n",
    "science_comments_clean = science_comments[['body', 'author', 'created_utc', 'subreddit_id', 'link_id', 'parent_id', 'score', 'id', 'gilded', 'subreddit']]\n",
    "#science_comments_clean.head()"
   ]
  },
  {
   "cell_type": "code",
   "execution_count": 18,
   "metadata": {},
   "outputs": [],
   "source": [
    "science_comments_sample = science_comments_clean[science_comments_clean['link_id'].isin(science_sample_post_ids)]"
   ]
  },
  {
   "cell_type": "code",
   "execution_count": 19,
   "metadata": {},
   "outputs": [
    {
     "data": {
      "text/plain": [
       "(29376, 10)"
      ]
     },
     "execution_count": 19,
     "metadata": {},
     "output_type": "execute_result"
    }
   ],
   "source": [
    "science_comments_sample.shape"
   ]
  },
  {
   "cell_type": "markdown",
   "metadata": {},
   "source": [
    "### r/Pokemon"
   ]
  },
  {
   "cell_type": "code",
   "execution_count": 20,
   "metadata": {},
   "outputs": [],
   "source": [
    "poke_posts = pd.read_csv(\"pokemon_post_data_sept.csv\")"
   ]
  },
  {
   "cell_type": "code",
   "execution_count": 21,
   "metadata": {},
   "outputs": [],
   "source": [
    "#poke_posts.head()"
   ]
  },
  {
   "cell_type": "code",
   "execution_count": 22,
   "metadata": {},
   "outputs": [],
   "source": [
    "poke_posts_clean = poke_posts[['created_utc', 'subreddit', 'author', 'num_comments', 'score', 'title', 'selftext', 'id', 'gilded', 'subreddit_id']]\n",
    "#poke_posts_clean.head()"
   ]
  },
  {
   "cell_type": "code",
   "execution_count": 23,
   "metadata": {},
   "outputs": [],
   "source": [
    "poke_comments = pd.read_csv(\"pokemon_comment_data_sept.csv\")\n",
    "poke_comments_clean = poke_comments[['body', 'author', 'created_utc', 'subreddit_id', 'link_id', 'parent_id', 'score', 'id', 'gilded', 'subreddit']]\n",
    "#poke_comments_clean.head()"
   ]
  },
  {
   "cell_type": "code",
   "execution_count": 24,
   "metadata": {},
   "outputs": [],
   "source": [
    "poke_comments_sample = poke_comments_clean[poke_comments_clean['link_id'].isin(poke_sample_post_ids)]"
   ]
  },
  {
   "cell_type": "code",
   "execution_count": 25,
   "metadata": {},
   "outputs": [
    {
     "data": {
      "text/plain": [
       "(13975, 10)"
      ]
     },
     "execution_count": 25,
     "metadata": {},
     "output_type": "execute_result"
    }
   ],
   "source": [
    "poke_comments_sample.shape"
   ]
  },
  {
   "cell_type": "markdown",
   "metadata": {},
   "source": [
    "# Preprocessing"
   ]
  },
  {
   "cell_type": "markdown",
   "metadata": {},
   "source": [
    "## Create BOW for subreddit"
   ]
  },
  {
   "cell_type": "code",
   "execution_count": 26,
   "metadata": {},
   "outputs": [],
   "source": [
    "#Create concatenated master string of all post submission titles, selftexts, and comment bodies in a subreddit\n",
    "#   Removes URLS, [deleted], ['removed']\n",
    "def create_subreddit_string(post_df, comment_df):\n",
    "    \n",
    "    temp_str = ''\n",
    "    \n",
    "    count=0\n",
    "    stage_one = len(post_df) + len(comment_df)\n",
    "    \n",
    "    # Get Post data\n",
    "    for index, row in post_df.iterrows():\n",
    "        count = count + 1\n",
    "        print('(POSTS): ', (count/stage_one)*100)\n",
    "        title = str(row[5]).lower()\n",
    "        body = str(row[6]).lower()\n",
    "\n",
    "        #title\n",
    "        #remove URL's for analysis\n",
    "        title = regex.sub(r'http[s]?:\\/\\/(?:[a-zA-Z]|[0-9]|[$-_@.&+]|[!*\\(\\), ]|(?:%[0-9a-fA-F][0-9a-fA-F]))+', '', title)\n",
    "            \n",
    "        title = regex.sub(r'^http[^' '\\n]', '', title)\n",
    "\n",
    "        if ((title == '[removed]') | (title == '[deleted]') | (title == 'nan')):\n",
    "            temp_str = temp_str\n",
    "        else:\n",
    "            temp_str = temp_str + ' ' + title #title\n",
    "        \n",
    "        #body\n",
    "        #remove URL's, deleted/removed posts for analysis\n",
    " \n",
    "        body = regex.sub(r'http[s]?:\\/\\/(?:[a-zA-Z]|[0-9]|[$-_@.&+]|[!*\\(\\), ]|(?:%[0-9a-fA-F][0-9a-fA-F]))+', '', body)\n",
    "\n",
    "        body = regex.sub(r'^http[^' '\\n]', '', body)\n",
    "\n",
    "        if ((body == '[removed]') | (body == '[deleted]') | (body == 'nan')):\n",
    "            temp_str = temp_str\n",
    "        else:\n",
    "            temp_str = temp_str + ' ' + body #selftext\n",
    "    \n",
    "    # Get Comment data\n",
    "    for index, row in comment_df.iterrows():\n",
    "        count = count + 1\n",
    "        print('(COMM): ', (count/stage_one)*100)\n",
    "        comm = str(row[0]).lower()\n",
    "        \n",
    "        #remove URL's, deleted/removed comments for analysis\n",
    "        \n",
    "        comm = regex.sub(r'http[s]?:\\/\\/(?:[a-zA-Z]|[0-9]|[$-_@.&+]|[!*\\(\\), ]|(?:%[0-9a-fA-F][0-9a-fA-F]))+', '', comm)\n",
    "            \n",
    "        comm = regex.sub(r'^http[^' '\\n]', '', comm)\n",
    "     \n",
    "        if ((comm == '[removed]') | (comm == '[deleted]') | (title == 'nan')):\n",
    "            temp_str = temp_str\n",
    "        else:\n",
    "            temp_str = temp_str + ' ' + comm #comment body\n",
    "    \n",
    "    temp_split = temp_str.split()\n",
    "    \n",
    "    #Remove stopwords, punctuation, non alphabetic characters, uninformative words\n",
    "    stops = stopwords.words('english')\n",
    "    newStopWords = ['AMA','[AMA Request]', 'IAmA', 'ama', '[Crosspost]', 'r/IAmA', '[x-post]', '[xpost]', '']\n",
    "    stops.extend(newStopWords)\n",
    "    \n",
    "    final_str = ''\n",
    "    \n",
    "    stage_two = len(temp_split) + stage_one\n",
    "    \n",
    "    for word in temp_split:\n",
    "        count = count + 1\n",
    "        print('(TWO): ', (count/stage_two)*100)\n",
    "        word = regex.sub(r\"[\\p{P}+]\", \"\", word)\n",
    "        word = regex.sub(r'\\d+', '', word)\n",
    "        if word.lower() in nltk_words or not word.isalpha():\n",
    "            if word not in stops:\n",
    "                final_str = final_str + ' ' + word\n",
    "    \n",
    "    return final_str"
   ]
  },
  {
   "cell_type": "markdown",
   "metadata": {},
   "source": [
    "### r/IAmA"
   ]
  },
  {
   "cell_type": "code",
   "execution_count": 27,
   "metadata": {},
   "outputs": [],
   "source": [
    "# #Create concatenated master string of all single-subreddit submission titles, selftexts\n",
    "# ama_all = ''\n",
    "# for index, row in ama_posts_clean.iterrows():\n",
    "#     title = str(row[5]).lower()\n",
    "#     body = str(row[6]).lower()\n",
    "    \n",
    "#     #remove URL's for analysis\n",
    "#     if (re.findall('http[s]?://(?:[a-zA-Z]|[0-9]|[$-_@.&+]|[!*\\(\\), ]|(?:%[0-9a-fA-F][0-9a-fA-F]))+', title)):\n",
    "#         title = regex.sub('http[s]?://(?:[a-zA-Z]|[0-9]|[$-_@.&+]|[!*\\(\\), ]|(?:%[0-9a-fA-F][0-9a-fA-F]))+', '', title)\n",
    "#         continue\n",
    "#     elif (re.findall('^http', title)):\n",
    "#         title = regex.sub('^http[^' '\\n]', '', title)\n",
    "#         continue\n",
    "#     elif ((title == '[removed]') | (title == '[deleted]')):\n",
    "#         ama_all = ama_all\n",
    "#     else:\n",
    "#         ama_all = ama_all + ' ' + title #title\n",
    "        \n",
    "#     #remove URL's, deleted/removed posts for analysis\n",
    "#     if (re.findall('http[s]?://(?:[a-zA-Z]|[0-9]|[$-_@.&+]|[!*\\(\\), ]|(?:%[0-9a-fA-F][0-9a-fA-F]))+', body)):\n",
    "#         body = regex.sub('http[s]?://(?:[a-zA-Z]|[0-9]|[$-_@.&+]|[!*\\(\\), ]|(?:%[0-9a-fA-F][0-9a-fA-F]))+', '', body)\n",
    "#         continue\n",
    "#     elif (re.findall('^http[^' '\\n]', body)):\n",
    "#         body = regex.sub('^http[^' '\\n]', '', body)\n",
    "#         continue\n",
    "#     elif ((body == '[removed]') | (body == '[deleted]')):\n",
    "#         ama_all = ama_all\n",
    "#     else:\n",
    "#         ama_all = ama_all + ' ' + body #selftext\n"
   ]
  },
  {
   "cell_type": "code",
   "execution_count": 28,
   "metadata": {},
   "outputs": [],
   "source": [
    "# #Concatenate strings of all sampled single-subreddit comment bodies to master string\n",
    "# count = 0\n",
    "# for index, row in ama_comments_sample.iterrows():\n",
    "#     count = count + 1\n",
    "#     print((count/32107)*100)\n",
    "    \n",
    "#     #remove URL's, deleted/removed comments for analysis\n",
    "#     if (re.findall('http[s]?://(?:[a-zA-Z]|[0-9]|[$-_@.&+]|[!*\\(\\), ]|(?:%[0-9a-fA-F][0-9a-fA-F]))+', row[0])):\n",
    "#         continue\n",
    "#     elif (re.findall('^http', row[0])):\n",
    "#         continue\n",
    "#     elif ((str(row[0]) == '[removed]') | (str(row[0]) == '[deleted]')):\n",
    "#         continue\n",
    "#     else:\n",
    "#         ama_all = ama_all + ' ' + str(row[0]).lower() #title"
   ]
  },
  {
   "cell_type": "code",
   "execution_count": 29,
   "metadata": {},
   "outputs": [],
   "source": [
    "# ama_split = ama_all.split(' ')\n",
    "# len(ama_split)"
   ]
  },
  {
   "cell_type": "code",
   "execution_count": 30,
   "metadata": {},
   "outputs": [],
   "source": [
    "# #Remove punctuation\n",
    "# nltk_words = set(nltk.corpus.words.words())\n",
    "# punc = [\",\", \"\\'\", \".\", \"!\", \"?\", \"(\", \")\", \"+\", \"-\", \"_\", \"[\", \"]\", \"&\", \"/\", \"\\\\\", \"*\", \"@\", \"#\", \"$\", \"%\", \"^\", \"=\", \"{\", \"}\", '\"']\n",
    "# ama_for_token = ''\n",
    "# count2 = 0\n",
    "# for word in ama_split:\n",
    "#     count2 = count2 + 1\n",
    "#     print((count2/1573858)*100)\n",
    "#     word = regex.sub(\"[\\p{P}+]\", \"\", word)\n",
    "#     word = regex.sub(r'\\d+', '', word)\n",
    "\n",
    "# #     temp = ''\n",
    "# #     for char in word:\n",
    "# #         char = re.sub('[0-9]', '', char)\n",
    "# #         if (char in punc):\n",
    "# #             char = ''\n",
    "# #         temp = temp + char\n",
    "# #     if temp != '':\n",
    "# #         ama_for_token = ama_for_token + ' ' + temp\n",
    "#     if word.lower() in nltk_words or not word.isalpha():\n",
    "#         ama_for_token = ama_for_token + ' ' + word"
   ]
  },
  {
   "cell_type": "code",
   "execution_count": 31,
   "metadata": {},
   "outputs": [],
   "source": [
    "# #Remove stopwords and various uninformative words\n",
    "\n",
    "# stops = stopwords.words('english')\n",
    "# newStopWords = ['AMA','[AMA Request]', 'IAmA', 'ama', '[Crosspost]', 'r/IAmA', '[x-post]', '[xpost]', '']\n",
    "# stops.extend(newStopWords)\n",
    "# filtered_ama_all = [word for word in ama_for_token.split(' ') if word not in stops]"
   ]
  },
  {
   "cell_type": "code",
   "execution_count": 32,
   "metadata": {},
   "outputs": [],
   "source": [
    "# ama_final_str = ' '.join(filtered_ama_all)"
   ]
  },
  {
   "cell_type": "code",
   "execution_count": 33,
   "metadata": {},
   "outputs": [],
   "source": [
    "# ama_final_str = create_subreddit_string(ama_posts_clean, ama_comments_sample)"
   ]
  },
  {
   "cell_type": "code",
   "execution_count": 34,
   "metadata": {},
   "outputs": [],
   "source": [
    "# ama_final_str = ama_final_str.replace('\\n', '')"
   ]
  },
  {
   "cell_type": "code",
   "execution_count": 35,
   "metadata": {},
   "outputs": [],
   "source": [
    "# # Write string to text file for future\n",
    "# text_file = open(\"ama_bow_string.txt\", \"w\")\n",
    "# text_file.write(ama_final_str)\n",
    "# text_file.close()"
   ]
  },
  {
   "cell_type": "code",
   "execution_count": 36,
   "metadata": {},
   "outputs": [],
   "source": [
    "# Open saved text file\n",
    "ama_temp = open(\"ama_bow_string.txt\", 'r')\n",
    "ama_final_str = ''\n",
    "for row in ama_temp:\n",
    "    ama_final_str = ama_final_str + ' ' + row"
   ]
  },
  {
   "cell_type": "code",
   "execution_count": 37,
   "metadata": {},
   "outputs": [
    {
     "data": {
      "text/plain": [
       "4210180"
      ]
     },
     "execution_count": 37,
     "metadata": {},
     "output_type": "execute_result"
    }
   ],
   "source": [
    "filtered_ama_all = ama_final_str.split()\n",
    "len(ama_final_str)"
   ]
  },
  {
   "cell_type": "markdown",
   "metadata": {},
   "source": [
    "### r/Science"
   ]
  },
  {
   "cell_type": "code",
   "execution_count": 38,
   "metadata": {},
   "outputs": [],
   "source": [
    "# #Create concatenated master string of all single-subreddit submission titles, selftexts\n",
    "# science_all = ''\n",
    "# for index, row in science_posts_clean.iterrows():\n",
    "    \n",
    "#     #remove URL's for analysis\n",
    "#     if (re.findall('http[s]?://(?:[a-zA-Z]|[0-9]|[$-_@.&+]|[!*\\(\\), ]|(?:%[0-9a-fA-F][0-9a-fA-F]))+', row[5])):\n",
    "#         continue\n",
    "#     elif (re.findall('^http', row[5])):\n",
    "#         continue\n",
    "#     elif ((row[5] == '[removed]') | (row[5] == '[deleted]')):\n",
    "#         science_all = science_all\n",
    "#     else:\n",
    "#         science_all = science_all + ' ' + str(row[5]).lower() #title\n",
    "        \n",
    "#     #remove URL's, deleted/removed posts for analysis\n",
    "#     if (re.findall('http[s]?://(?:[a-zA-Z]|[0-9]|[$-_@.&+]|[!*\\(\\), ]|(?:%[0-9a-fA-F][0-9a-fA-F]))+', str(row[6]))):\n",
    "#         continue\n",
    "#     elif (re.findall('^http', row[5])):\n",
    "#         continue\n",
    "#     elif ((str(row[6]) == '[removed]') | (str(row[6]) == '[deleted]')):\n",
    "#         science_all = science_all\n",
    "#     else:\n",
    "#         science_all = science_all + ' ' + str(row[6]).lower() #selftext"
   ]
  },
  {
   "cell_type": "code",
   "execution_count": 39,
   "metadata": {},
   "outputs": [],
   "source": [
    "# #Concatenate strings of all sampled single-subreddit comment bodies to master string\n",
    "# #count = 0\n",
    "# for index, row in science_comments_sample.iterrows():\n",
    "#     #count = count + 1\n",
    "#     #print((count/32107)*100)\n",
    "    \n",
    "#     #remove URL's, deleted/removed comments for analysis\n",
    "#     if (re.findall('http[s]?://(?:[a-zA-Z]|[0-9]|[$-_@.&+]|[!*\\(\\), ]|(?:%[0-9a-fA-F][0-9a-fA-F]))+', row[0])):\n",
    "#         continue\n",
    "#     elif (re.findall('^http', row[0])):\n",
    "#         continue\n",
    "#     elif ((str(row[0]) == '[removed]') | (str(row[0]) == '[deleted]')):\n",
    "#         continue\n",
    "#     else:\n",
    "#         science_all = science_all + ' ' + str(row[0]).lower() #title"
   ]
  },
  {
   "cell_type": "code",
   "execution_count": 40,
   "metadata": {},
   "outputs": [],
   "source": [
    "# science_split = science_all.split(' ')\n",
    "# len(science_split)"
   ]
  },
  {
   "cell_type": "code",
   "execution_count": 41,
   "metadata": {},
   "outputs": [],
   "source": [
    "# #Remove punctuation and non-alphabetic\n",
    "# science_for_token = ''\n",
    "# count2 = 0\n",
    "# for word in science_split:\n",
    "#     count2 = count2 + 1\n",
    "#     print((count2/1573858)*100)\n",
    "#     word = regex.sub(\"[\\p{P}+]\", \"\", word)\n",
    "#     word = regex.sub(r'\\d+', '', word)\n",
    "#     if word.lower() in nltk_words or not word.isalpha():\n",
    "#         science_for_token = science_for_token + ' ' + word"
   ]
  },
  {
   "cell_type": "code",
   "execution_count": 42,
   "metadata": {},
   "outputs": [],
   "source": [
    "# science_for_token[:10000]"
   ]
  },
  {
   "cell_type": "code",
   "execution_count": 43,
   "metadata": {},
   "outputs": [],
   "source": [
    "# #Remove stopwords and various uninformative words\n",
    "\n",
    "# stops = stopwords.words('english')\n",
    "# #newStopWords = ['AMA','[AMA Request]', 'IAmA', 'ama', '[Crosspost]', 'r/IAmA', '[x-post]', '[xpost]', '']\n",
    "# #stops.extend(newStopWords)\n",
    "# filtered_science_all = [word for word in science_for_token.split(' ') if word not in stops]"
   ]
  },
  {
   "cell_type": "code",
   "execution_count": 44,
   "metadata": {},
   "outputs": [],
   "source": [
    "# science_final_str = ' '.join(filtered_science_all)"
   ]
  },
  {
   "cell_type": "code",
   "execution_count": 45,
   "metadata": {},
   "outputs": [],
   "source": [
    "# science_final_str = create_subreddit_string(science_posts_clean, science_comments_sample)"
   ]
  },
  {
   "cell_type": "code",
   "execution_count": 46,
   "metadata": {},
   "outputs": [],
   "source": [
    "# science_final_str = science_final_str.replace('\\n', '')"
   ]
  },
  {
   "cell_type": "code",
   "execution_count": 47,
   "metadata": {},
   "outputs": [],
   "source": [
    "# # Write string to text file for future\n",
    "# text_file = open(\"science_bow_string.txt\", \"w\")\n",
    "# text_file.write(science_final_str)\n",
    "# text_file.close()"
   ]
  },
  {
   "cell_type": "code",
   "execution_count": 48,
   "metadata": {},
   "outputs": [],
   "source": [
    "# Open saved text file\n",
    "science_temp = open(\"science_bow_string.txt\", 'r')\n",
    "science_final_str = ''\n",
    "for row in science_temp:\n",
    "    science_final_str = science_final_str + ' ' + row"
   ]
  },
  {
   "cell_type": "code",
   "execution_count": 49,
   "metadata": {},
   "outputs": [
    {
     "data": {
      "text/plain": [
       "1715982"
      ]
     },
     "execution_count": 49,
     "metadata": {},
     "output_type": "execute_result"
    }
   ],
   "source": [
    "filtered_science_all = science_final_str.split()\n",
    "len(science_final_str)"
   ]
  },
  {
   "cell_type": "markdown",
   "metadata": {},
   "source": [
    "### r/Pokemon"
   ]
  },
  {
   "cell_type": "code",
   "execution_count": 50,
   "metadata": {},
   "outputs": [],
   "source": [
    "# #Create concatenated master string of all single-subreddit submission titles, selftexts\n",
    "# poke_all = ''\n",
    "# for index, row in poke_posts_clean.iterrows():\n",
    "    \n",
    "#     #remove URL's for analysis\n",
    "#     if (re.findall('http[s]?://(?:[a-zA-Z]|[0-9]|[$-_@.&+]|[!*\\(\\), ]|(?:%[0-9a-fA-F][0-9a-fA-F]))+', row[5])):\n",
    "#         continue\n",
    "#     elif (re.findall('^http', row[5])):\n",
    "#         continue\n",
    "#     elif ((row[5] == '[removed]') | (row[5] == '[deleted]')):\n",
    "#         poke_all = poke_all\n",
    "#     else:\n",
    "#         poke_all = poke_all + ' ' + str(row[5]).lower() #title\n",
    "        \n",
    "#     #remove URL's, deleted/removed posts for analysis\n",
    "#     if (re.findall('http[s]?://(?:[a-zA-Z]|[0-9]|[$-_@.&+]|[!*\\(\\), ]|(?:%[0-9a-fA-F][0-9a-fA-F]))+', str(row[6]))):\n",
    "#         continue\n",
    "#     elif ((str(row[6]) == '[removed]') | (str(row[6]) == '[deleted]')):\n",
    "#         poke_all = poke_all\n",
    "#     else:\n",
    "#         poke_all = poke_all + ' ' + str(row[6]).lower() #selftext"
   ]
  },
  {
   "cell_type": "code",
   "execution_count": 51,
   "metadata": {},
   "outputs": [],
   "source": [
    "# #Concatenate strings of all sampled single-subreddit comment bodies to master string\n",
    "# count = 0\n",
    "# for index, row in poke_comments_sample.iterrows():\n",
    "#     count = count + 1\n",
    "#     print((count/32107)*100)\n",
    "    \n",
    "#     #remove URL's, deleted/removed comments for analysis\n",
    "#     if (re.findall('http[s]?://(?:[a-zA-Z]|[0-9]|[$-_@.&+]|[!*\\(\\), ]|(?:%[0-9a-fA-F][0-9a-fA-F]))+', row[0])):\n",
    "#         continue\n",
    "#     elif (re.findall('^http', row[0])):\n",
    "#         continue\n",
    "#     elif ((str(row[0]) == '[removed]') | (str(row[0]) == '[deleted]')):\n",
    "#         continue\n",
    "#     else:\n",
    "#         poke_all = poke_all + ' ' + str(row[0]).lower() #title"
   ]
  },
  {
   "cell_type": "code",
   "execution_count": 52,
   "metadata": {},
   "outputs": [],
   "source": [
    "# poke_split = poke_all.split(' ')\n",
    "# len(poke_split)"
   ]
  },
  {
   "cell_type": "code",
   "execution_count": 53,
   "metadata": {},
   "outputs": [],
   "source": [
    "# #Remove punctuation and non alphabetic characters\n",
    "# poke_for_token = ''\n",
    "# count2 = 0\n",
    "# for word in poke_split:\n",
    "#     count2 = count2 + 1\n",
    "#     print((count2/1573858)*100)\n",
    "#     word = regex.sub(\"[\\p{P}+]\", \"\", word)\n",
    "#     word = regex.sub(r'\\d+', '', word)\n",
    "#     if word.lower() in nltk_words or not word.isalpha():\n",
    "#         poke_for_token = poke_for_token + ' ' + word"
   ]
  },
  {
   "cell_type": "code",
   "execution_count": 54,
   "metadata": {},
   "outputs": [],
   "source": [
    "# #Remove stopwords and various uninformative words\n",
    "\n",
    "# stops = stopwords.words('english')\n",
    "# #newStopWords = ['AMA','[AMA Request]', 'IAmA', 'ama', '[Crosspost]', 'r/IAmA', '[x-post]', '[xpost]', '']\n",
    "# #stops.extend(newStopWords)\n",
    "# filtered_poke_all = [word for word in poke_for_token.split(' ') if word not in stops]"
   ]
  },
  {
   "cell_type": "code",
   "execution_count": 55,
   "metadata": {},
   "outputs": [],
   "source": [
    "# poke_final_str = ' '.join(filtered_poke_all)"
   ]
  },
  {
   "cell_type": "code",
   "execution_count": 56,
   "metadata": {},
   "outputs": [],
   "source": [
    "# poke_final_str = create_subreddit_string(poke_posts_clean, poke_comments_sample)"
   ]
  },
  {
   "cell_type": "code",
   "execution_count": 57,
   "metadata": {},
   "outputs": [],
   "source": [
    "# poke_final_str = poke_final_str.replace('\\n', '')"
   ]
  },
  {
   "cell_type": "code",
   "execution_count": 58,
   "metadata": {},
   "outputs": [],
   "source": [
    "# # Write string to text file for future\n",
    "# text_file = open(\"pokemon_bow_string.txt\", \"w\")\n",
    "# text_file.write(poke_final_str)\n",
    "# text_file.close()"
   ]
  },
  {
   "cell_type": "code",
   "execution_count": 59,
   "metadata": {},
   "outputs": [],
   "source": [
    "# Open saved text file\n",
    "poke_temp = open(\"pokemon_bow_string.txt\", 'r')\n",
    "poke_final_str = ''\n",
    "for row in poke_temp:\n",
    "    poke_final_str = poke_final_str + ' ' + row"
   ]
  },
  {
   "cell_type": "code",
   "execution_count": 60,
   "metadata": {},
   "outputs": [
    {
     "data": {
      "text/plain": [
       "1146717"
      ]
     },
     "execution_count": 60,
     "metadata": {},
     "output_type": "execute_result"
    }
   ],
   "source": [
    "filtered_poke_all = poke_final_str.split()\n",
    "len(poke_final_str)"
   ]
  },
  {
   "cell_type": "markdown",
   "metadata": {},
   "source": [
    "### SpaCy and Gensim Trials"
   ]
  },
  {
   "cell_type": "code",
   "execution_count": 61,
   "metadata": {},
   "outputs": [],
   "source": [
    "# nlp = spacy.load(\"en_core_web_lg\")"
   ]
  },
  {
   "cell_type": "code",
   "execution_count": 62,
   "metadata": {},
   "outputs": [],
   "source": [
    "# #http://dsgeek.com/2018/02/19/tfidf_vectors.html\n",
    "# def keep_token(t):\n",
    "#     return (t.is_alpha and \n",
    "#             not (t.is_space or t.is_punct or \n",
    "#                  t.is_stop or t.like_num))\n",
    "\n",
    "# def lemmatize_doc(doc):\n",
    "#     return [ t.lemma_ for t in doc if keep_token(t)]"
   ]
  },
  {
   "cell_type": "code",
   "execution_count": 63,
   "metadata": {},
   "outputs": [],
   "source": [
    "# docs = [ama_final_str, science_final_str, poke_final_str]"
   ]
  },
  {
   "cell_type": "code",
   "execution_count": 64,
   "metadata": {},
   "outputs": [],
   "source": [
    "#Lemmatize data\n",
    "# lem = [lemmatize_doc(nlp(doc[:999999])) for doc in docs]"
   ]
  },
  {
   "cell_type": "code",
   "execution_count": 65,
   "metadata": {},
   "outputs": [],
   "source": [
    "# # Create dictionary\n",
    "# docs_dict = Dictionary(lem)\n",
    "# #docs_dict.compactify()"
   ]
  },
  {
   "cell_type": "code",
   "execution_count": 66,
   "metadata": {},
   "outputs": [],
   "source": [
    "# #Create BOWs for each subreddit\n",
    "# docs_corpus = [docs_dict.doc2bow(doc) for doc in lem]\n",
    "# model_tfidf = TfidfModel(docs_corpus, id2word=docs_dict)\n",
    "# docs_tfidf  = model_tfidf[docs_corpus]\n",
    "# docs_vecs   = np.vstack([sparse2full(c, len(docs_dict)) for c in docs_tfidf])"
   ]
  },
  {
   "cell_type": "code",
   "execution_count": 67,
   "metadata": {},
   "outputs": [],
   "source": [
    "# # docs_vecs[0] = IAmA\n",
    "# # docs_vecs[1] = Science\n",
    "# # docs_vecs[2] = Pokemon\n",
    "\n",
    "# docs_vecs[0]"
   ]
  },
  {
   "cell_type": "code",
   "execution_count": 68,
   "metadata": {},
   "outputs": [],
   "source": [
    "# wc = [nlp(doc[:999999]) for doc in docs]"
   ]
  },
  {
   "cell_type": "markdown",
   "metadata": {},
   "source": [
    "### 1. Relevance Scoring"
   ]
  },
  {
   "cell_type": "markdown",
   "metadata": {},
   "source": [
    "#### 1.1  |  Whole-subreddit pre-processing\n",
    "- Create Bag of Words representations from each subreddit's entire sample set\n",
    "- Get each subreddit's keywords\n",
    "- LDA Topic modeling on each subreddit BOW\n",
    "- Get Top 10 topics per subreddit, and the 10 most related tokens to that topic"
   ]
  },
  {
   "cell_type": "markdown",
   "metadata": {},
   "source": [
    "##### 1.1.1 Subreddit Keywords\n",
    " - Get create Bag of Words model for entire subreddit using tf-idf measure\n",
    " - Find Top 15 keywords for each subreddit according to tf-idf"
   ]
  },
  {
   "cell_type": "code",
   "execution_count": 69,
   "metadata": {},
   "outputs": [],
   "source": [
    "# AMA BOW Model\n",
    "tf_vectorizer = TfidfVectorizer() # tf-idf measure\n",
    "#tf_vectorizer = CountVectorizer() # raw count\n",
    "tf_ama = tf_vectorizer.fit_transform(filtered_ama_all)\n",
    "ama_features = tf_vectorizer.get_feature_names()"
   ]
  },
  {
   "cell_type": "code",
   "execution_count": 70,
   "metadata": {},
   "outputs": [
    {
     "name": "stdout",
     "output_type": "stream",
     "text": [
      "['gon', 'couched', 'cottonwood', 'cottage', 'costumer', 'oppress', 'costing', 'goner', 'showmanship', 'showroom', 'gonorrhea', 'goo', 'cosmogonic', 'opposable', 'goodly']\n"
     ]
    }
   ],
   "source": [
    "# Get Keywords for r/IAmA\n",
    "ama_indices = np.argsort(tf_vectorizer.idf_)[::-1]\n",
    "top_n = 15\n",
    "top_ama_features = [ama_features[i] for i in ama_indices[1:top_n+1]]\n",
    "print(top_ama_features)\n",
    "# https://stackoverflow.com/questions/34232190/scikit-learn-tfidfvectorizer-how-to-get-top-n-terms-with-highest-tf-idf-score"
   ]
  },
  {
   "cell_type": "code",
   "execution_count": 71,
   "metadata": {},
   "outputs": [],
   "source": [
    "# Science BOW Model\n",
    "tf_vectorizer = TfidfVectorizer()\n",
    "tf_science = tf_vectorizer.fit_transform(filtered_science_all)\n",
    "science_features = tf_vectorizer.get_feature_names()"
   ]
  },
  {
   "cell_type": "code",
   "execution_count": 72,
   "metadata": {},
   "outputs": [
    {
     "name": "stdout",
     "output_type": "stream",
     "text": [
      "['pulp', 'entail', 'ensue', 'enslavement', 'punching', 'pungent', 'enslave', 'punishable', 'enrichment', 'punta', 'puny', 'enriching', 'purchaser', 'enlisted', 'enlist']\n"
     ]
    }
   ],
   "source": [
    "# Get Keywords for r/Science\n",
    "science_indices = np.argsort(tf_vectorizer.idf_)[::-1]\n",
    "top_science_features = [science_features[i] for i in science_indices[1:top_n+1]]\n",
    "print(top_science_features)"
   ]
  },
  {
   "cell_type": "code",
   "execution_count": 73,
   "metadata": {},
   "outputs": [],
   "source": [
    "# Pokemon BOW Model\n",
    "tf_vectorizer = TfidfVectorizer()\n",
    "tf_poke = tf_vectorizer.fit_transform(filtered_poke_all)\n",
    "poke_features = tf_vectorizer.get_feature_names()"
   ]
  },
  {
   "cell_type": "code",
   "execution_count": 74,
   "metadata": {},
   "outputs": [
    {
     "name": "stdout",
     "output_type": "stream",
     "text": [
      "['inject', 'kickback', 'kiddy', 'kiln', 'kin', 'kindergarten', 'kindhearted', 'kingdom', 'kink', 'kip', 'kitty', 'knack', 'kneeling', 'knitting', 'kyogregroudon']\n"
     ]
    }
   ],
   "source": [
    "# Get Keywords for r/IAmA\n",
    "poke_indices = np.argsort(tf_vectorizer.idf_)[::-1]\n",
    "top_poke_features = [poke_features[i] for i in poke_indices[1:top_n+1]]\n",
    "print(top_poke_features)"
   ]
  },
  {
   "cell_type": "code",
   "execution_count": 75,
   "metadata": {},
   "outputs": [],
   "source": [
    "# idf = tf_vectorizer.idf_\n",
    "# print(sorted(dict(zip(poke_features, idf)).items(), key=lambda kv: kv[1], reverse=True))"
   ]
  },
  {
   "cell_type": "markdown",
   "metadata": {},
   "source": [
    "##### 1.1.2 Subreddit Topic Modelling\n",
    "- Use Latent Dirichlet Allocation Model Algorithm to find 10 Topics for each subreddit and the 10 BOW tokens most associated with each topic\n",
    "- Cache results in text files for future use"
   ]
  },
  {
   "cell_type": "code",
   "execution_count": 76,
   "metadata": {},
   "outputs": [],
   "source": [
    "no_top_words = 10\n",
    "\n",
    "def LDA_display(topic_matrix,feature_names, no_top_words):\n",
    "    \"\"\" This function prints the different topic numbers with the \n",
    "    four most common words in every topic\"\"\"\n",
    "    topic_summaries=[]\n",
    "    for topic_idx, topic in enumerate(topic_matrix):\n",
    "        print (\"Topic {}\".format(topic_idx))\n",
    "        x= (\" \".join([feature_names[i]\n",
    "                        for i in topic.argsort()[:-no_top_words - 1:-1]]))\n",
    "        print(x)\n",
    "        topic_summaries.append(x)\n",
    "    return topic_summaries"
   ]
  },
  {
   "cell_type": "code",
   "execution_count": 77,
   "metadata": {},
   "outputs": [],
   "source": [
    "# Set variables for LDA Topic Modeling\n",
    "n_topics = 10\n",
    "max_iter=50\n",
    "learning_method = 'online'\n",
    "random_state = 0"
   ]
  },
  {
   "cell_type": "code",
   "execution_count": 78,
   "metadata": {},
   "outputs": [],
   "source": [
    "# # Using Latent Dirichlet Allocation Model Algorithm to find 10 Topics in text\n",
    "# # r/IAmA\n",
    "# start0 = time.time()\n",
    "# lda_model = LatentDirichletAllocation(n_components=n_topics, max_iter=max_iter, learning_method=learning_method,random_state=random_state)\n",
    "# lda_model.fit(tf_ama) #docs_tfidf[0]\n",
    "# lda_W_ama = lda_model.transform(tf_ama) #docs_tfidf[0]\n",
    "# lda_H_ama = lda_model.components_\n",
    "# print(time.time()-start0)"
   ]
  },
  {
   "cell_type": "code",
   "execution_count": 79,
   "metadata": {},
   "outputs": [],
   "source": [
    "# ama_lda_summaries = LDA_display(lda_H_ama,ama_features,no_top_words)\n",
    "\n",
    "# with open('ama_sub_lda_topics.txt', 'w') as f:\n",
    "#     for item in ama_lda_summaries:\n",
    "#         f.write(\"%s\\n\" % item)"
   ]
  },
  {
   "cell_type": "code",
   "execution_count": 80,
   "metadata": {},
   "outputs": [],
   "source": [
    "# Open r/IAmA saved lda topic text file\n",
    "ama_lda_temp = open('ama_sub_lda_topics.txt', 'r')\n",
    "ama_lda_summaries = []\n",
    "for row in ama_lda_temp:\n",
    "    ama_lda_summaries.append(row.rstrip())"
   ]
  },
  {
   "cell_type": "code",
   "execution_count": 81,
   "metadata": {},
   "outputs": [],
   "source": [
    "# # Using Latent Dirichlet Allocation Model Algorithm to find 10 Topics in text\n",
    "# # r/Science\n",
    "# start = time.time()\n",
    "# lda_model = LatentDirichletAllocation(n_components=n_topics, max_iter=max_iter, learning_method=learning_method,random_state=random_state)\n",
    "# lda_model.fit(tf_science) #docs_tfidf[0]\n",
    "# lda_W_science = lda_model.transform(tf_science) #docs_tfidf[0]\n",
    "# lda_H_science = lda_model.components_\n",
    "# print(time.time() - start)"
   ]
  },
  {
   "cell_type": "code",
   "execution_count": 82,
   "metadata": {},
   "outputs": [],
   "source": [
    "# science_lda_summaries = LDA_display(lda_H_science,science_features,no_top_words)\n",
    "\n",
    "# with open('science_sub_lda_topics.txt', 'w') as f:\n",
    "#     for item in science_lda_summaries:\n",
    "#         f.write(\"%s\\n\" % item)"
   ]
  },
  {
   "cell_type": "code",
   "execution_count": 83,
   "metadata": {},
   "outputs": [],
   "source": [
    "# Open saved r/Science lda topic text file\n",
    "science_lda_temp = open('science_sub_lda_topics.txt', 'r')\n",
    "science_lda_summaries = []\n",
    "for row in science_lda_temp:\n",
    "    science_lda_summaries.append(row.rstrip())"
   ]
  },
  {
   "cell_type": "code",
   "execution_count": 84,
   "metadata": {},
   "outputs": [],
   "source": [
    "# # Using Latent Dirichlet Allocation Model Algorithm to find 10 Topics in text\n",
    "# # r/Pokemon\n",
    "# start2 = time.time()\n",
    "# lda_model.fit(tf_poke) #docs_tfidf[0]\n",
    "# lda_W_poke = lda_model.transform(tf_poke) #docs_tfidf[0]\n",
    "# lda_H_poke = lda_model.components_\n",
    "# print(time.time() - start2)"
   ]
  },
  {
   "cell_type": "code",
   "execution_count": 85,
   "metadata": {},
   "outputs": [],
   "source": [
    "# poke_lda_summaries = LDA_display(lda_H_poke,poke_features,no_top_words)\n",
    "\n",
    "# with open('poke_sub_lda_topics.txt', 'w') as f:\n",
    "#     for item in poke_lda_summaries:\n",
    "#         f.write(\"%s\\n\" % item)"
   ]
  },
  {
   "cell_type": "code",
   "execution_count": 86,
   "metadata": {},
   "outputs": [],
   "source": [
    "# Open saved r/Science lda topic text file\n",
    "poke_lda_temp = open('poke_sub_lda_topics.txt', 'r')\n",
    "poke_lda_summaries = []\n",
    "for row in poke_lda_temp:\n",
    "    poke_lda_summaries.append(row.rstrip())"
   ]
  },
  {
   "cell_type": "markdown",
   "metadata": {},
   "source": [
    "#### 1.2  |  Thread, Post, and Comment pre-processing\n",
    "- create Bag of Words model for each post (title & selftext)\n",
    "- create Bag of Words model for each comment body\n",
    "- create Bag of Words model for each thread (post and all child comments)\n",
    "    - Perform LDA topic modeling for each thread, retreiving top 10 words for each of the top 10 topics "
   ]
  },
  {
   "cell_type": "code",
   "execution_count": 87,
   "metadata": {},
   "outputs": [],
   "source": [
    "#Create concatenated string of submission title, selftext, and all child comment bodies for each post in a subreddit\n",
    "#   Removes URLS, [deleted], ['removed']\n",
    "# Topic Modeling\n",
    "# returns dictionary with each parent post's id as the key and a concatenated BOW string of the post's thread as the value\n",
    "def create_thread_string(post_df, comment_df):\n",
    "    \n",
    "    count=0\n",
    "    stage_one = len(post_df) + len(comment_df)\n",
    "    \n",
    "    thread_d = {}\n",
    "    \n",
    "    # Get Post data\n",
    "    for index, row in post_df.iterrows():\n",
    "        count = count + 1\n",
    "        print('(POSTS): ', (count/stage_one)*100)\n",
    "        title = str(row[5]).lower()\n",
    "        body = str(row[6]).lower()\n",
    "        \n",
    "        temp_str = ''\n",
    "        \n",
    "        #title\n",
    "        #remove URL's for analysis\n",
    "        \n",
    "        title = regex.sub(r'http[s]?:\\/\\/(?:[a-zA-Z]|[0-9]|[$-_@.&+]|[!*\\(\\), ]|(?:%[0-9a-fA-F][0-9a-fA-F]))+', '', title)\n",
    "\n",
    "        title = regex.sub(r'^http[^' '\\n]', '', title)\n",
    "\n",
    "        if ((title == '[removed]') | (title == '[deleted]') | (title == 'nan')):\n",
    "            temp_str = temp_str\n",
    "        else:\n",
    "            temp_str = temp_str + ' ' + title #title\n",
    "        \n",
    "        #body\n",
    "        #remove URL's, deleted/removed posts for analysis\n",
    "\n",
    "        body = regex.sub(r'http[s]?:\\/\\/(?:[a-zA-Z]|[0-9]|[$-_@.&+]|[!*\\(\\), ]|(?:%[0-9a-fA-F][0-9a-fA-F]))+', '', body)\n",
    "\n",
    "        body = regex.sub(r'^http[^' '\\n]', '', body)\n",
    "\n",
    "        if ((body == '[removed]') | (body == '[deleted]') | (body == 'nan')):\n",
    "            temp_str = temp_str\n",
    "        else:\n",
    "            temp_str = temp_str + ' ' + body #selftext\n",
    "            \n",
    "        thread_d[str(row[7])] = temp_str\n",
    "    \n",
    "    # Get Comment data\n",
    "    for index, row in comment_df.iterrows():\n",
    "        count = count + 1\n",
    "        print('(COMM): ', (count/stage_one)*100)\n",
    "        comm = str(row[0]).lower()        \n",
    "        \n",
    "        temp_str = ''\n",
    "        \n",
    "        #remove URL's, deleted/removed comments for analysis\n",
    "\n",
    "        comm = regex.sub(r'http[s]?:\\/\\/(?:[a-zA-Z]|[0-9]|[$-_@.&+]|[!*\\(\\), ]|(?:%[0-9a-fA-F][0-9a-fA-F]))+', '', comm)\n",
    "\n",
    "        comm = regex.sub(r'^http[^' '\\n]', '', comm)\n",
    "\n",
    "        if ((comm == '[removed]') | (comm == '[deleted]') | (comm == 'nan')):\n",
    "            temp_str = temp_str\n",
    "        else:\n",
    "            temp_str = temp_str + ' ' + comm #comment body\n",
    "        \n",
    "        if str(row[4][3:]) in thread_d:\n",
    "            thread_d[str(row[4][3:])] = thread_d[str(row[4][3:])] + ' ' + comm\n",
    "    \n",
    "    #Remove stopwords, punctuation, non alphabetic characters, uninformative words\n",
    "    stops = stopwords.words('english')\n",
    "    newStopWords = ['AMA','[AMA Request]', 'IAmA', 'ama', '[Crosspost]', 'r/IAmA', '[x-post]', '[xpost]', '']\n",
    "    stops.extend(newStopWords)\n",
    "    \n",
    "    stage_two = len(thread_d) + stage_one\n",
    "    \n",
    "    for thread in thread_d.items():\n",
    "        count = count + 1\n",
    "        print('(STAGE TWO): ', (count/stage_two)*100)\n",
    "        final_str = ''\n",
    "        for tok in thread[1].split():\n",
    "            word = regex.sub(r'[\\p{P}+]', '', tok)\n",
    "            word = regex.sub(r'\\d+', '', word)\n",
    "            if word.lower() in nltk_words or not word.isalpha():\n",
    "                if word not in stops:\n",
    "                    final_str = final_str + ' ' + word\n",
    "        thread_d[thread[0]] = final_str\n",
    "    \n",
    "    \n",
    "    return thread_d #dictionary with each parent post's id as the key and a concatenated BOW string of the post's thread as the value"
   ]
  },
  {
   "cell_type": "code",
   "execution_count": 88,
   "metadata": {},
   "outputs": [],
   "source": [
    "#Create concatenated string of each post's submission title and selftext\n",
    "#   Removes URLS, [deleted], ['removed']\n",
    "# Comment Scoring\n",
    "# returns dictionary with post id's as keys and post BOW lists as values\n",
    "def create_post_BOWs(post_df):\n",
    "    \n",
    "    count=0\n",
    "    stage_one = len(post_df)\n",
    "\n",
    "    post_d = {} \n",
    "    \n",
    "    # Get Post data\n",
    "    for index, row in post_df.iterrows():\n",
    "        count = count + 1\n",
    "        print('(POSTS): ', (count/stage_one)*100)\n",
    "        title = str(row[5]).lower()\n",
    "        body = str(row[6]).lower()\n",
    "        \n",
    "        temp_str = ''\n",
    "\n",
    "        #remove URL's for analysis\n",
    "\n",
    "        title = regex.sub(r'http[s]?:\\/\\/(?:[a-zA-Z]|[0-9]|[$-_@.&+]|[!*\\(\\), ]|(?:%[0-9a-fA-F][0-9a-fA-F]))+', '', title)\n",
    "  \n",
    "        title = regex.sub(r'^http[^' '\\n]', '', title)\n",
    "   \n",
    "        if ((title == '[removed]') | (title == '[deleted]') | (title == 'nan')):\n",
    "            continue\n",
    "        else:\n",
    "            temp_str = temp_str + ' ' + title #title\n",
    "\n",
    "        #remove URL's, deleted/removed posts for analysis\n",
    "\n",
    "        body = regex.sub(r'http[s]?:\\/\\/(?:[a-zA-Z]|[0-9]|[$-_@.&+]|[!*\\(\\), ]|(?:%[0-9a-fA-F][0-9a-fA-F]))+', '', body)\n",
    "   \n",
    "        body = regex.sub(r'^http[^' '\\n]', '', body)\n",
    "\n",
    "        if ((body == '[removed]') | (body == '[deleted]') | (body == 'nan')):\n",
    "            temp_str = temp_str\n",
    "        else:\n",
    "            temp_str = temp_str + ' ' + body #selftext\n",
    "\n",
    "        post_d[str(row[7])] = temp_str.split()\n",
    "        \n",
    "    \n",
    "    #Remove stopwords, punctuation, non alphabetic characters, uninformative words\n",
    "    stops = stopwords.words('english')\n",
    "    newStopWords = ['AMA','[AMA Request]', 'IAmA', 'ama', '[Crosspost]', 'r/IAmA', '[x-post]', '[xpost]', '']\n",
    "    stops.extend(newStopWords)\n",
    "    \n",
    "    stage_two = stage_one + len(post_d)\n",
    "    \n",
    "    final_d = {}\n",
    "    \n",
    "    for post in post_d.items():\n",
    "        count = count + 1\n",
    "        print('(STAGE TWO): ', (count/stage_two)*100)\n",
    "        temp_ls = []\n",
    "        for word in post[1]:\n",
    "            word = regex.sub(r'[\\p{P}+]', '', word)\n",
    "            word = regex.sub(r'\\d+', '', word)\n",
    "            if word.lower() in nltk_words or not word.isalpha():\n",
    "                if word not in stops:\n",
    "                    temp_ls.append(word)\n",
    "        final_d[post[0]] = temp_ls\n",
    "    \n",
    "    \n",
    "    return final_d #dictionary with post id's as keys and post BOW lists as values"
   ]
  },
  {
   "cell_type": "code",
   "execution_count": 89,
   "metadata": {},
   "outputs": [],
   "source": [
    "#Create list of BOWs of all comments in subreddit dataset\n",
    "#   Removes URLS, [deleted], ['removed']\n",
    "# Comment Scoring\n",
    "# returns dict with comment id as key and BOW list as value\n",
    "def create_comment_BOWs(comment_df):\n",
    "    \n",
    "    count = 0\n",
    "    stage_one = len(comment_df)\n",
    "    \n",
    "    comm_d = {} \n",
    "    \n",
    "    # Get Comment data\n",
    "    for index, row in comment_df.iterrows():\n",
    "        count = count + 1\n",
    "        print('(COMM): ', (count/stage_one)*100)\n",
    "        comm = str(row[0]).lower()\n",
    "        \n",
    "        temp_str = ''\n",
    "        \n",
    "        #remove URL's, deleted/removed comments for analysis\n",
    "\n",
    "        comm = regex.sub(r'http[s]?:\\/\\/(?:[a-zA-Z]|[0-9]|[$-_@.&+]|[!*\\(\\), ]|(?:%[0-9a-fA-F][0-9a-fA-F]))+', '', comm)\n",
    "\n",
    "        comm = regex.sub(r'^http[^' '\\n]', '', comm)\n",
    "\n",
    "        if ((comm == '[removed]') | (comm == '[deleted]') | (comm == 'nan')):\n",
    "            temp_str = temp_str\n",
    "        else:\n",
    "            temp_str = temp_str + ' ' + comm #comment body\n",
    "    \n",
    "        comm_d[str(row[7])] = temp_str.split()\n",
    "   \n",
    "    #Remove stopwords, punctuation, non alphabetic characters, uninformative words\n",
    "    stops = stopwords.words('english')\n",
    "    newStopWords = ['AMA','[AMA Request]', 'IAmA', 'ama', '[Crosspost]', 'r/IAmA', '[x-post]', '[xpost]', '']\n",
    "    stops.extend(newStopWords)\n",
    "    \n",
    "    stage_two = stage_one + len(comm_d)\n",
    "    \n",
    "    final_d = {}\n",
    "    \n",
    "    for comm in comm_d.items():\n",
    "        count = count + 1\n",
    "        print('(STAGE TWO): ', (count/stage_two)*100)\n",
    "        temp_ls = []\n",
    "        for word in comm[1]:\n",
    "            word = regex.sub(r'[\\p{P}+]', '', word)\n",
    "            word = regex.sub(r'\\d+', '', word)\n",
    "            if word.lower() in nltk_words or not word.isalpha():\n",
    "                if word not in stops:\n",
    "                    temp_ls.append(word)\n",
    "        final_d[comm[0]] = temp_ls\n",
    "    \n",
    "    \n",
    "    return final_d #dict with comment id as key and BOW list as value"
   ]
  },
  {
   "cell_type": "code",
   "execution_count": 90,
   "metadata": {},
   "outputs": [],
   "source": [
    "# Retrieve sampled data sets\n",
    "\n",
    "# AMA\n",
    "ama_post_sample = []\n",
    "for i in ama_sample_post_ids:\n",
    "    ama_post_sample.append(i[3:])\n",
    "    \n",
    "# Science\n",
    "science_post_sample = []\n",
    "for i in science_sample_post_ids:\n",
    "    science_post_sample.append(i[3:])\n",
    "\n",
    "# Pokemon\n",
    "poke_post_sample = []\n",
    "for i in poke_sample_post_ids:\n",
    "    poke_post_sample.append(i[3:])"
   ]
  },
  {
   "cell_type": "code",
   "execution_count": 91,
   "metadata": {},
   "outputs": [],
   "source": [
    "# Threads - create_thread_string(post_df, comment_df): returns dict [parentID] = concat BOW string\n",
    "# Posts - create_post_BOWs(post_df): returns dict [postID] = ls(BOW)\n",
    "# Comments - create_comment_BOWs(comment_df): returns dict [commentID] = ls(BOW)\n",
    "\n",
    "# ama_sample_post_ids = ['t3_9h5oi0', 't3_9ee0s9', 't3_9c4uly', 't3_9cyhq5', 't3_9ens3f'] #rest of Top 10 -> 't3_9i8460', 't3_9ijtbj', 't3_9cd77w', 't3_9hqi4x'\n",
    "# science_sample_post_ids = ['t3_9jj7z1','t3_9he1fn','t3_9jv6hs','t3_9fqrit','t3_9ihgph','t3_9j68tv','t3_9jem15','t3_9gor0n','t3_9emmr2','t3_9eslew','t3_9gu7x2']\n",
    "# poke_sample_post_ids = ['t3_9irxal','t3_9ckkzs','t3_9jn0ns','t3_9eldgz','t3_9hmriv','t3_9k2maa','t3_9igeoz','t3_9enb3y','t3_9gfa35','t3_9gt5sp','t3_9d9olz','t3_9cjzan','t3_9gkj5t','t3_9ierdv','t3_9f29cp','t3_9e7ps7','t3_9cm90k','t3_9c2tfs','t3_9c66wh','t3_9ch4l0','t3_9cb1t0','t3_9ie0oa','t3_9h4yxo','t3_9ehis8','t3_9jc4wa','t3_9i5lz0','t3_9gtxup','t3_9emyyi','t3_9hqedh','t3_9gyb7b','t3_9k455q','t3_9c0ku3','t3_9fqw1g','t3_9g7zwb','t3_9hvu9x','t3_9i8yjh','t3_9j2gfw','t3_9c5i54','t3_9jwijj','t3_9is4h2','t3_9jvf2d','t3_9hu7np','t3_9dvf5f','t3_9jkyou','t3_9ed6y9','t3_9hgvh6']\n",
    "\n",
    "# ama_comments_sample\n",
    "# science_comments_sample\n",
    "# poke_comments_sample"
   ]
  },
  {
   "cell_type": "code",
   "execution_count": 92,
   "metadata": {},
   "outputs": [],
   "source": [
    "# # AMA Thread BOW's (Post Title & Text, All Comment Bodies)\n",
    "# ama_thread_bow = create_thread_string(ama_posts_clean[ama_posts_clean['id'].isin(ama_post_sample)], ama_comments_sample)\n",
    "# len(ama_thread_bow)"
   ]
  },
  {
   "cell_type": "code",
   "execution_count": 93,
   "metadata": {},
   "outputs": [],
   "source": [
    "# #Cache ama_thread_bow\n",
    "# with open('ama_thread_bow.json', 'w') as file:\n",
    "#     json.dump(ama_thread_bow, file, indent=4)"
   ]
  },
  {
   "cell_type": "code",
   "execution_count": 94,
   "metadata": {},
   "outputs": [],
   "source": [
    "# #Open cached ama_thread_bow file\n",
    "# with open('ama_thread_bow.json', 'r') as file:\n",
    "#     ama_thread_bow = json.load(file)"
   ]
  },
  {
   "cell_type": "code",
   "execution_count": 95,
   "metadata": {},
   "outputs": [],
   "source": [
    "# # AMA Post BOW's (Title & Text)\n",
    "# ama_post_bow = create_post_BOWs(ama_posts_clean[ama_posts_clean['id'].isin(ama_post_sample)])\n",
    "# len(ama_post_bow)"
   ]
  },
  {
   "cell_type": "code",
   "execution_count": 96,
   "metadata": {},
   "outputs": [],
   "source": [
    "# # AMA Comment BOW's\n",
    "# ama_comm_bow = create_comment_BOWs(ama_comments_sample)\n",
    "# len(ama_comm_bow)"
   ]
  },
  {
   "cell_type": "code",
   "execution_count": 97,
   "metadata": {},
   "outputs": [],
   "source": [
    "# # Science Thread BOW's (Post Title & Text, All Comment Bodies)\n",
    "# science_thread_bow = create_thread_string(science_posts_clean[science_posts_clean['id'].isin(science_post_sample)], science_comments_sample)\n",
    "# len(science_thread_bow)"
   ]
  },
  {
   "cell_type": "code",
   "execution_count": 98,
   "metadata": {},
   "outputs": [],
   "source": [
    "# #Cache science_thread_bow\n",
    "# with open('science_thread_bow.json', 'w') as file:\n",
    "#     json.dump(science_thread_bow, file, indent=4)"
   ]
  },
  {
   "cell_type": "code",
   "execution_count": 99,
   "metadata": {},
   "outputs": [],
   "source": [
    "# #Open cached science_thread_bow file\n",
    "# with open('science_thread_bow.json', 'r') as file:\n",
    "#     science_thread_bow = json.load(file)"
   ]
  },
  {
   "cell_type": "code",
   "execution_count": 100,
   "metadata": {},
   "outputs": [],
   "source": [
    "# # Science Post BOW's (Title & Text)\n",
    "# science_post_bow = create_post_BOWs(science_posts_clean[science_posts_clean['id'].isin(science_post_sample)])\n",
    "# len(science_post_bow)"
   ]
  },
  {
   "cell_type": "code",
   "execution_count": 101,
   "metadata": {},
   "outputs": [],
   "source": [
    "# # Science Comment BOW's\n",
    "# science_comm_bow = create_comment_BOWs(science_comments_sample)\n",
    "# print(len(science_comm_bow))"
   ]
  },
  {
   "cell_type": "code",
   "execution_count": 102,
   "metadata": {},
   "outputs": [],
   "source": [
    "# # Pokemon Thread BOW's (Post Title & Text, All Comment Bodies)\n",
    "# poke_thread_bow = create_thread_string(poke_posts_clean[poke_posts_clean['id'].isin(poke_post_sample)], poke_comments_sample)\n",
    "# len(poke_thread_bow)"
   ]
  },
  {
   "cell_type": "code",
   "execution_count": 103,
   "metadata": {},
   "outputs": [],
   "source": [
    "# #Cache science_thread_bow\n",
    "# with open('science_thread_bow.json', 'w') as file:\n",
    "#     json.dump(science_thread_bow, file, indent=4)"
   ]
  },
  {
   "cell_type": "code",
   "execution_count": 104,
   "metadata": {},
   "outputs": [],
   "source": [
    "# #Open cached ama_thread_bow file\n",
    "# with open('science_thread_bow.json', 'r') as file:\n",
    "#     science_thread_bow = json.load(file)"
   ]
  },
  {
   "cell_type": "code",
   "execution_count": 105,
   "metadata": {},
   "outputs": [],
   "source": [
    "# # Pokemon Post BOW's (Title & Text)\n",
    "# poke_post_bow = create_post_BOWs(poke_posts_clean[poke_posts_clean['id'].isin(poke_post_sample)])\n",
    "# len(poke_post_bow)"
   ]
  },
  {
   "cell_type": "code",
   "execution_count": 106,
   "metadata": {},
   "outputs": [],
   "source": [
    "# # Pokemon Comment BOW's\n",
    "# poke_comm_bow = create_comment_BOWs(poke_comments_sample)\n",
    "# len(poke_comm_bow)"
   ]
  },
  {
   "cell_type": "code",
   "execution_count": 107,
   "metadata": {},
   "outputs": [],
   "source": [
    "# Thread BOW Models Function\n",
    "def thread_lda(thread_d):\n",
    "    resp_d = {} #format: {threadID: lda_topic_summaries}\n",
    "    \n",
    "    tf_vectorizer = TfidfVectorizer() # tf-idf measure\n",
    "    #tf_vectorizer = CountVectorizer() # raw count\n",
    "    lda_model = LatentDirichletAllocation(n_components=n_topics, max_iter=max_iter, learning_method=learning_method,random_state=random_state)\n",
    "    \n",
    "    count = 0\n",
    "    timer = len(thread_d)\n",
    "    \n",
    "    for tID in thread_d:\n",
    "        try:\n",
    "            if (len(thread_d[tID].split()) > 0):\n",
    "                tf_thread = tf_vectorizer.fit_transform(thread_d[tID].split())\n",
    "                thread_features = tf_vectorizer.get_feature_names()\n",
    "\n",
    "                # Using Latent Dirichlet Allocation Model Algorithm to find 10 Topics in thread\n",
    "                lda_model.fit(tf_thread) \n",
    "                lda_W_temp = lda_model.transform(tf_thread) \n",
    "                lda_H_temp = lda_model.components_\n",
    "\n",
    "                temp_lda_summaries = LDA_display(lda_H_temp,thread_features,no_top_words)\n",
    "\n",
    "                resp_d[tID] = temp_lda_summaries\n",
    "            else:\n",
    "                resp_d[tID] = []\n",
    "        except:\n",
    "            resp_d[tID] = []\n",
    "            \n",
    "        count = count + 1\n",
    "        print((count/timer)*100)\n",
    "        \n",
    "    return resp_d #return format: {threadID: lda_topic_summaries}"
   ]
  },
  {
   "cell_type": "code",
   "execution_count": 108,
   "metadata": {},
   "outputs": [],
   "source": [
    "# ama_thread_lda = thread_lda(ama_thread_bow)"
   ]
  },
  {
   "cell_type": "code",
   "execution_count": 109,
   "metadata": {},
   "outputs": [],
   "source": [
    "# #Cache ama_thread response dict\n",
    "# with open('ama_thread_resp.json', 'w') as file:\n",
    "#     json.dump(ama_thread_lda, file, indent=4)"
   ]
  },
  {
   "cell_type": "code",
   "execution_count": 110,
   "metadata": {},
   "outputs": [],
   "source": [
    "# #Open cached ama_thread response dict file\n",
    "# with open('ama_thread_resp.json', 'r') as file:\n",
    "#     ama_thread_lda = json.load(file)"
   ]
  },
  {
   "cell_type": "code",
   "execution_count": 111,
   "metadata": {},
   "outputs": [],
   "source": [
    "# science_thread_lda = thread_lda(science_thread_bow)"
   ]
  },
  {
   "cell_type": "code",
   "execution_count": 112,
   "metadata": {},
   "outputs": [],
   "source": [
    "# #Cache science_thread response dict\n",
    "# with open('science_thread_resp.json', 'w') as file:\n",
    "#     json.dump(science_thread_lda, file, indent=4)"
   ]
  },
  {
   "cell_type": "code",
   "execution_count": 113,
   "metadata": {},
   "outputs": [],
   "source": [
    "# #Open cached science_thread response dict file\n",
    "# with open('science_thread_resp.json', 'r') as file:\n",
    "#     science_thread_lda = json.load(file)"
   ]
  },
  {
   "cell_type": "code",
   "execution_count": 114,
   "metadata": {},
   "outputs": [],
   "source": [
    "# poke_thread_lda = thread_lda(poke_thread_bow)"
   ]
  },
  {
   "cell_type": "code",
   "execution_count": 115,
   "metadata": {},
   "outputs": [],
   "source": [
    "# #Cache poke_thread response dict\n",
    "# with open('poke_thread_resp.json', 'w') as file:\n",
    "#     json.dump(poke_thread_lda, file, indent=4)"
   ]
  },
  {
   "cell_type": "code",
   "execution_count": 116,
   "metadata": {},
   "outputs": [],
   "source": [
    "# #Open cached poke_thread response dict file\n",
    "# with open('poke_thread_resp.json', 'r') as file:\n",
    "#     poke_thread_lda = json.load(file)"
   ]
  },
  {
   "cell_type": "markdown",
   "metadata": {},
   "source": [
    "#### 1.3  |  Score Calculations"
   ]
  },
  {
   "cell_type": "markdown",
   "metadata": {},
   "source": [
    "###### Post Scoring"
   ]
  },
  {
   "cell_type": "markdown",
   "metadata": {},
   "source": [
    "Compare LDA modelled topics for subreddit against LDA modelled topics for thread:\n",
    "- Given the set of topics and their associated words for both the subreddit and thread\n",
    "    - for each thread topic, find its similarity strength relative to every subreddit topic\n",
    "        - strength_of_sim = count(thread_topic_words in subreddit_topic_words_list)\n",
    "        - for each topic, average all topic similarity scores\n",
    "    - for each thread, average all individual topic similarity scores to produce final topic modelling score"
   ]
  },
  {
   "cell_type": "code",
   "execution_count": 386,
   "metadata": {},
   "outputs": [],
   "source": [
    "def strength_of_sim(topic_ls, ls_of_ls): #topic list will be compared to each list in ls_of_ls\n",
    "    \n",
    "    scores_ls = []\n",
    "    \n",
    "    for ls in ls_of_ls:\n",
    "        raw_count = 0\n",
    "        for key in topic_ls:\n",
    "            if key in ls:\n",
    "                raw_count = raw_count + 1\n",
    "        scores_ls.append(raw_count)\n",
    "    \n",
    "    return (sum(scores_ls)/len(scores_ls))\n",
    "    "
   ]
  },
  {
   "cell_type": "code",
   "execution_count": 387,
   "metadata": {},
   "outputs": [],
   "source": [
    "# topic modelling similarity score function\n",
    "def tm_similarity(thread_lda_d, subreddit_lda):\n",
    "    \n",
    "    sub_topics = []\n",
    "    for topic in subreddit_lda:\n",
    "        topic_keys = topic.split()\n",
    "        sub_topics.append(topic_keys)\n",
    "    \n",
    "    sim_scores = {}\n",
    "    for thread in thread_lda_d:\n",
    "        thread_sum = thread_lda_d[thread]\n",
    "        thread_sim_score = []\n",
    "        for topic in thread_sum:\n",
    "            topic_keys = topic.split()\n",
    "            topic_score = strength_of_sim(topic_keys, sub_topics)\n",
    "            thread_sim_score.append(topic_score)\n",
    "        if (len(thread_sim_score) > 0):\n",
    "            sim_scores[thread] = (sum(thread_sim_score)/len(thread_sim_score))\n",
    "        else: \n",
    "            sim_scores[thread] = 0\n",
    "    return sim_scores #dictionary with threadID as key and subreddit similarity score as value\n",
    "    "
   ]
  },
  {
   "cell_type": "code",
   "execution_count": 388,
   "metadata": {},
   "outputs": [],
   "source": [
    "# # AMA post relevance score\n",
    "# ama_post_rels = tm_similarity(ama_thread_lda,ama_lda_summaries)"
   ]
  },
  {
   "cell_type": "code",
   "execution_count": 389,
   "metadata": {},
   "outputs": [],
   "source": [
    "# ama_post_rels"
   ]
  },
  {
   "cell_type": "code",
   "execution_count": 390,
   "metadata": {},
   "outputs": [],
   "source": [
    "# ama_posts_clean[ama_posts_clean['id'] == '9ee0s9'] #min\n",
    "# ama_posts_clean[ama_posts_clean['id'] == '9h5oi0'] #max"
   ]
  },
  {
   "cell_type": "code",
   "execution_count": 391,
   "metadata": {},
   "outputs": [],
   "source": [
    "# # Science post relevance score\n",
    "# science_post_rels = tm_similarity(science_thread_lda,science_lda_summaries)"
   ]
  },
  {
   "cell_type": "code",
   "execution_count": 392,
   "metadata": {},
   "outputs": [],
   "source": [
    "# science_post_rels"
   ]
  },
  {
   "cell_type": "code",
   "execution_count": 393,
   "metadata": {},
   "outputs": [],
   "source": [
    "# science_posts_clean[science_posts_clean['id'] == '9j68tv'] #max\n",
    "# science_posts_clean[science_posts_clean['id'] == '9fqrit'] #min"
   ]
  },
  {
   "cell_type": "code",
   "execution_count": 394,
   "metadata": {},
   "outputs": [],
   "source": [
    "# # Pokemon post relevance score\n",
    "# poke_post_rels = tm_similarity(poke_thread_lda,poke_lda_summaries)"
   ]
  },
  {
   "cell_type": "code",
   "execution_count": 395,
   "metadata": {},
   "outputs": [],
   "source": [
    "# poke_post_rels"
   ]
  },
  {
   "cell_type": "code",
   "execution_count": 396,
   "metadata": {},
   "outputs": [],
   "source": [
    "# poke_posts_clean[poke_posts_clean['id'] == '9k2maa'] #max\n",
    "# poke_posts_clean[poke_posts_clean['id'] == '9jvf2d'] #min"
   ]
  },
  {
   "cell_type": "markdown",
   "metadata": {},
   "source": [
    "###### Comment Scoring"
   ]
  },
  {
   "cell_type": "markdown",
   "metadata": {},
   "source": [
    "**Two-part scoring method:**\n",
    "\n",
    "    1. Subreddit-relevance Score: given a comment's BOW and the set of subreddit keywords (calc. above using tfidf)\n",
    "        \n",
    "        -  count(comment_BOW_words in keyword_set) / len(comment_BOW)\n",
    "    \n",
    "    2. Parent(thread)-relevance Score: given a comment's BOW and the parent post's BOW\n",
    "        \n",
    "        -  count(comment_BOW_words in post_BOW) / len(comment_BOW)"
   ]
  },
  {
   "cell_type": "code",
   "execution_count": 397,
   "metadata": {},
   "outputs": [],
   "source": [
    "# Keyword BOW Comparison function\n",
    "def key_bow_comp(comm_bow_d, sub_keys_ls):\n",
    "    \n",
    "    score_d = {}\n",
    "    \n",
    "    for comm in comm_bow_d:\n",
    "        score = 0\n",
    "        bow = comm_bow_d[comm]\n",
    "        for token in bow:\n",
    "            if token in sub_keys_ls:\n",
    "                score = score + 1\n",
    "        if (len(bow) > 0):\n",
    "            score = score/len(bow)\n",
    "        score_d[comm] = score\n",
    "        \n",
    "    return score_d"
   ]
  },
  {
   "cell_type": "code",
   "execution_count": 398,
   "metadata": {},
   "outputs": [],
   "source": [
    "# Post BOW to Comment BOW Comparison function\n",
    "def parent_bow_comp(comm_bow_d, post_bow_d, comm_df):\n",
    "    \n",
    "    score_d = {}\n",
    "    comm_post_d = {}\n",
    "    \n",
    "    for comm in comm_bow_d:\n",
    "        link_id = comm_df.loc[comm_df['id'] == comm, 'link_id'].item()\n",
    "        comm_post_d[comm] = link_id\n",
    "        link_id = link_id[3:]\n",
    "        score = 0\n",
    "        bow = comm_bow_d[comm]\n",
    "        for token in bow:\n",
    "            if token in post_bow_d[link_id]:\n",
    "                score = score + 1\n",
    "        if (len(bow) > 0):\n",
    "            score = score/len(bow)\n",
    "        score_d[comm] = score\n",
    "        \n",
    "    return score_d"
   ]
  },
  {
   "cell_type": "code",
   "execution_count": 130,
   "metadata": {},
   "outputs": [],
   "source": [
    "# # AMA subreddit relevance score\n",
    "# ama_comm_sub_rels = key_bow_comp(ama_comm_bow,top_ama_features)\n",
    "# # sorted(ama_comm_sub_rels, key=lambda kv: kv[1], reverse=True)[:10]"
   ]
  },
  {
   "cell_type": "code",
   "execution_count": 131,
   "metadata": {},
   "outputs": [],
   "source": [
    "# # AMA parent relevance score\n",
    "# ama_comm_parent_rels = parent_bow_comp(ama_comm_bow,ama_post_bow,ama_comments_clean)\n",
    "# # sorted(ama_comm_parent_rels, key=lambda kv: kv[1], reverse=True)[:10]"
   ]
  },
  {
   "cell_type": "code",
   "execution_count": 132,
   "metadata": {},
   "outputs": [],
   "source": [
    "# # Science subreddit relevance score\n",
    "# science_comm_sub_rels = key_bow_comp(science_comm_bow,top_science_features)\n",
    "# # sorted(science_comm_sub_rels, key=lambda kv: kv[1], reverse=True)[:10]"
   ]
  },
  {
   "cell_type": "code",
   "execution_count": 133,
   "metadata": {},
   "outputs": [],
   "source": [
    "# # Science parent relevance score\n",
    "# science_comm_parent_rels = parent_bow_comp(science_comm_bow,science_post_bow,science_comments_clean)\n",
    "# # sorted(science_comm_parent_rels, key=lambda kv: kv[1], reverse=True)[:10]"
   ]
  },
  {
   "cell_type": "code",
   "execution_count": 134,
   "metadata": {},
   "outputs": [],
   "source": [
    "# # Pokemon subreddit relevance score\n",
    "# poke_comm_sub_rels = key_bow_comp(poke_comm_bow,top_poke_features)\n",
    "# # sorted(poke_comm_sub_rels, key=lambda kv: kv[1], reverse=True)[:10]"
   ]
  },
  {
   "cell_type": "code",
   "execution_count": 135,
   "metadata": {},
   "outputs": [],
   "source": [
    "# # Pokemon parent relevance score\n",
    "# poke_comm_parent_rels = parent_bow_comp(poke_comm_bow,poke_post_bow,poke_comments_clean)\n",
    "# # sorted(poke_comm_parent_rels, key=lambda kv: kv[1], reverse=True)[:10]"
   ]
  },
  {
   "cell_type": "markdown",
   "metadata": {},
   "source": [
    "### 2. Originality Scoring"
   ]
  },
  {
   "cell_type": "code",
   "execution_count": 136,
   "metadata": {},
   "outputs": [],
   "source": [
    "df_ama_post_sample = ama_posts_clean[ama_posts_clean['id'].isin(ama_post_sample)]\n",
    "df_science_post_sample = science_posts_clean[science_posts_clean['id'].isin(science_post_sample)]\n",
    "df_poke_post_sample = poke_posts_clean[poke_posts_clean['id'].isin(poke_post_sample)]"
   ]
  },
  {
   "cell_type": "code",
   "execution_count": 137,
   "metadata": {},
   "outputs": [],
   "source": [
    "# get created_utc for each post\n",
    "def get_post_times(sample_df):\n",
    "    post_times = {}\n",
    "    for index, post in sample_df.iterrows():\n",
    "        pid = str(post[7])\n",
    "        post_utc = int(post[0])\n",
    "        post_times[pid] = post_utc\n",
    "    return post_times"
   ]
  },
  {
   "cell_type": "code",
   "execution_count": 138,
   "metadata": {},
   "outputs": [],
   "source": [
    "# get created_utc for each comment\n",
    "def get_comm_times(sample_df):\n",
    "    comm_times = {}\n",
    "    for index, comm in sample_df.iterrows():\n",
    "        cid = str(comm[7])\n",
    "        comm_utc = int(comm[2])\n",
    "        comm_times[cid] = comm_utc\n",
    "    return comm_times"
   ]
  },
  {
   "cell_type": "code",
   "execution_count": 139,
   "metadata": {},
   "outputs": [
    {
     "ename": "NameError",
     "evalue": "name 'ama_post_bow' is not defined",
     "output_type": "error",
     "traceback": [
      "\u001b[0;31m---------------------------------------------------------------------------\u001b[0m",
      "\u001b[0;31mNameError\u001b[0m                                 Traceback (most recent call last)",
      "\u001b[0;32m<ipython-input-139-f763b501cd74>\u001b[0m in \u001b[0;36m<module>\u001b[0;34m\u001b[0m\n\u001b[1;32m      2\u001b[0m \u001b[0mama_post_times\u001b[0m \u001b[0;34m=\u001b[0m \u001b[0mget_post_times\u001b[0m\u001b[0;34m(\u001b[0m\u001b[0mdf_ama_post_sample\u001b[0m\u001b[0;34m)\u001b[0m\u001b[0;34m\u001b[0m\u001b[0m\n\u001b[1;32m      3\u001b[0m \u001b[0mama_comm_times\u001b[0m \u001b[0;34m=\u001b[0m \u001b[0mget_comm_times\u001b[0m\u001b[0;34m(\u001b[0m\u001b[0mama_comments_sample\u001b[0m\u001b[0;34m)\u001b[0m\u001b[0;34m\u001b[0m\u001b[0m\n\u001b[0;32m----> 4\u001b[0;31m \u001b[0mprint\u001b[0m\u001b[0;34m(\u001b[0m\u001b[0mlen\u001b[0m\u001b[0;34m(\u001b[0m\u001b[0mama_post_times\u001b[0m\u001b[0;34m)\u001b[0m \u001b[0;34m==\u001b[0m \u001b[0mlen\u001b[0m\u001b[0;34m(\u001b[0m\u001b[0mama_post_bow\u001b[0m\u001b[0;34m)\u001b[0m\u001b[0;34m)\u001b[0m\u001b[0;34m\u001b[0m\u001b[0m\n\u001b[0m\u001b[1;32m      5\u001b[0m \u001b[0mprint\u001b[0m\u001b[0;34m(\u001b[0m\u001b[0mlen\u001b[0m\u001b[0;34m(\u001b[0m\u001b[0mama_comm_times\u001b[0m\u001b[0;34m)\u001b[0m \u001b[0;34m==\u001b[0m \u001b[0mlen\u001b[0m\u001b[0;34m(\u001b[0m\u001b[0mama_comm_bow\u001b[0m\u001b[0;34m)\u001b[0m\u001b[0;34m)\u001b[0m\u001b[0;34m\u001b[0m\u001b[0m\n",
      "\u001b[0;31mNameError\u001b[0m: name 'ama_post_bow' is not defined"
     ]
    }
   ],
   "source": [
    "# get created_utc for each ama post and comment\n",
    "ama_post_times = get_post_times(df_ama_post_sample)\n",
    "ama_comm_times = get_comm_times(ama_comments_sample)\n",
    "print(len(ama_post_times) == len(ama_post_bow))\n",
    "print(len(ama_comm_times) == len(ama_comm_bow))"
   ]
  },
  {
   "cell_type": "code",
   "execution_count": null,
   "metadata": {},
   "outputs": [],
   "source": [
    "# get created_utc for each science post and comment\n",
    "science_post_times = get_post_times(df_science_post_sample)\n",
    "science_comm_times = get_comm_times(science_comments_sample)\n",
    "print(len(science_post_times) == len(science_post_bow))\n",
    "print(len(science_comm_times) == len(science_comm_bow))"
   ]
  },
  {
   "cell_type": "code",
   "execution_count": null,
   "metadata": {},
   "outputs": [],
   "source": [
    "# get created_utc for each poke post and comment\n",
    "poke_post_times = get_post_times(df_poke_post_sample)\n",
    "poke_comm_times = get_comm_times(poke_comments_sample)\n",
    "print(len(poke_post_times) == len(poke_post_bow))\n",
    "print(len(poke_comm_times) == len(poke_comm_bow))"
   ]
  },
  {
   "cell_type": "markdown",
   "metadata": {},
   "source": [
    "#### 2.1 OverlapPrev & OverlapDist: Posts\n",
    "- For each post, find all older posts in the subreddit and calculate the similarity of each to the given post (given by the count of tokens from the old post's BOW appearing in the current post's BOW, normalized by the length of the old post)\n",
    "    - OverlapPrev is the similarity score of the most similar previously occurring post\n",
    "        - similarity_score = COUNT(old_post_tokens in current_post_tokens)\n",
    "        - OverlapPrev = MAX(similarity_score)\n",
    "    - OverlapDist is the distance (in # of posts) of the current comment from its most similar comment (as identified by OverlapPrev) "
   ]
  },
  {
   "cell_type": "code",
   "execution_count": null,
   "metadata": {},
   "outputs": [],
   "source": [
    "# function to find all posts prior to the given post, create BOW, calculate overlap score, and find most similar post\n",
    "def post_overlap_calc(post_bow_d, post_time_d):\n",
    "    \n",
    "    time_sort = sorted(post_time_d, key=lambda kv: kv[1])\n",
    "    \n",
    "    post_overlaps = {}\n",
    "    \n",
    "    for post in post_bow_d:\n",
    "        post_idx = time_sort.index(post)\n",
    "        bow = post_bow_d[post]\n",
    "        prev_post_ids = time_sort[:post_idx] #list of all posts in dict, sorted by time order (1 = first)\n",
    "        \n",
    "\n",
    "        top_prev_score = 0\n",
    "        dist_idx = 0\n",
    "        c = 0\n",
    "        \n",
    "        for prev in prev_post_ids:\n",
    "            prev_score = 0\n",
    "            if (len(post_bow_d[prev]) > 0):\n",
    "                for token in post_bow_d[prev]:\n",
    "                    if token in bow:\n",
    "                        prev_score = prev_score + 1\n",
    "                prev_score = prev_score / len(post_bow_d[prev])\n",
    "            else:\n",
    "                prev_score = 0\n",
    "            if prev_score > top_prev_score:\n",
    "                top_prev_score = prev_score\n",
    "                dist_idx = c\n",
    "            c = c + 1\n",
    "        post_overlaps[post] = [top_prev_score, post_idx-dist_idx]\n",
    "        \n",
    "    return post_overlaps #returns dict with postID as key and list containing the overlapPrev score and overlapDist score"
   ]
  },
  {
   "cell_type": "code",
   "execution_count": null,
   "metadata": {},
   "outputs": [],
   "source": [
    "# # ama post OverlapPrev & OverlapDist\n",
    "# ama_post_overlaps = post_overlap_calc(ama_post_bow,ama_post_times)\n",
    "# #ama_post_overlaps"
   ]
  },
  {
   "cell_type": "code",
   "execution_count": null,
   "metadata": {},
   "outputs": [],
   "source": [
    "# # science post OverlapPrev & OverlapDist\n",
    "# science_post_overlaps = post_overlap_calc(science_post_bow,science_post_times)\n",
    "# #science_post_overlaps"
   ]
  },
  {
   "cell_type": "code",
   "execution_count": null,
   "metadata": {},
   "outputs": [],
   "source": [
    "# # poke post OverlapPrev & OverlapDist\n",
    "# poke_post_overlaps = post_overlap_calc(poke_post_bow,poke_post_times)\n",
    "# #poke_post_overlaps"
   ]
  },
  {
   "cell_type": "markdown",
   "metadata": {},
   "source": [
    "#### 2.2 OverlapPrev & OverlapDist: Comments\n",
    "- For each comment, find all older comments on the post and calculate the similarity of each to the given comment (given by the count of tokens from the old comment's BOW appearing in the current comment's BOW, normalized by the length of the old comment)\n",
    "    - OverlapPrev is the similarity score of the most similar previously occurring comment\n",
    "        - similarity_score = COUNT(old_comment_tokens in current_comment_tokens)\n",
    "        - OverlapPrev = MAX(similarity_score)\n",
    "    - OverlapDist is the distance (in # of comment) of the current comment from its most similar comment (as identified by OverlapPrev) "
   ]
  },
  {
   "cell_type": "code",
   "execution_count": null,
   "metadata": {},
   "outputs": [],
   "source": [
    "# function to find all comments in a thread prior to the given comment, create BOW, calculate overlap score, and find most similar comment\n",
    "def comment_overlap_calc(comm_bow_d, comm_time_d):\n",
    "    \n",
    "    time_sort = sorted(comm_time_d, key=lambda kv: kv[1])\n",
    "    \n",
    "    comm_overlaps = {}\n",
    "    \n",
    "    timer1 = 0\n",
    "    \n",
    "    for comm in comm_bow_d:\n",
    "        timer1 = timer1 + 1\n",
    "        comm_idx = time_sort.index(comm)\n",
    "        bow = comm_bow_d[comm]\n",
    "        prev_comm_ids = time_sort[:comm_idx] #list of all comments in dict, sorted by time order (1 = first)\n",
    "        \n",
    "\n",
    "        top_prev_score = 0\n",
    "        dist_idx = 0\n",
    "        c = 0\n",
    "        \n",
    "        timer2 = 0\n",
    "        \n",
    "        for prev in prev_comm_ids:\n",
    "            timer2 = timer2 + 1\n",
    "            print((timer1/len(comm_bow_d)), (timer2/len(prev_comm_ids)))\n",
    "            prev_score = 0\n",
    "            if (len(comm_bow_d[prev]) > 0):\n",
    "                shared = list(set(bow) & set(comm_bow_d[prev]))\n",
    "                for token in shared:\n",
    "                    prev_token_freq = comm_bow_d[prev].count(token)\n",
    "                    token_freq = bow.count(token)\n",
    "                    prev_score = prev_score + (prev_token_freq * token_freq)\n",
    "                prev_score = prev_score / len(comm_bow_d[prev])\n",
    "            else:\n",
    "                prev_score = 0\n",
    "            if prev_score > top_prev_score:\n",
    "                top_prev_score = prev_score\n",
    "                dist_idx = c\n",
    "            c = c + 1\n",
    "            \n",
    "        comm_overlaps[comm] = [top_prev_score, comm_idx-dist_idx]\n",
    "        \n",
    "    return comm_overlaps #returns dict with commID as key and list containing the overlapPrev score and overlapDist score"
   ]
  },
  {
   "cell_type": "code",
   "execution_count": null,
   "metadata": {},
   "outputs": [],
   "source": [
    "# # ama comment OverlapPrev & OverlapDist\n",
    "# ama_comm_overlaps = comment_overlap_calc(ama_comm_bow,ama_comm_times)\n",
    "# ama_comm_overlaps"
   ]
  },
  {
   "cell_type": "code",
   "execution_count": null,
   "metadata": {},
   "outputs": [],
   "source": [
    "# # science comment OverlapPrev & OverlapDist\n",
    "# science_comm_overlaps = comment_overlap_calc(science_comm_bow,science_comm_times)\n",
    "# science_comm_overlaps"
   ]
  },
  {
   "cell_type": "code",
   "execution_count": 140,
   "metadata": {},
   "outputs": [],
   "source": [
    "# # pokemon comment OverlapPrev & OverlapDist\n",
    "# poke_comm_overlaps = comment_overlap_calc(poke_comm_bow,poke_comm_times)\n",
    "# poke_comm_overlaps"
   ]
  },
  {
   "cell_type": "code",
   "execution_count": 141,
   "metadata": {},
   "outputs": [],
   "source": [
    "# print(len(ama_comm_bow))\n",
    "# print(len(ama_comm_times))\n",
    "# print(len(ama_comments_sample))"
   ]
  },
  {
   "cell_type": "markdown",
   "metadata": {},
   "source": [
    "### 3. Surface Feature Scores"
   ]
  },
  {
   "cell_type": "markdown",
   "metadata": {},
   "source": [
    "#### 3.1 Lengthiness\n",
    "###### - Posts \n",
    "    - score is calculated with a 30% weight for title length score, and a 70% weight for selftext length score. Individual scores calculated as follows:\n",
    "    \n",
    "        - title length score = len(title) / avg_subreddit_title_len\n",
    "        \n",
    "        - selftext length score = len(selftext) / avg_subreddit_selftext_len\n",
    "        \n",
    "###### - Comments \n",
    "\n",
    "    - body length score = len(body) / avg_subreddit_body_len"
   ]
  },
  {
   "cell_type": "code",
   "execution_count": 142,
   "metadata": {},
   "outputs": [],
   "source": [
    "# Avg subreddit post length helper function\n",
    "def avg_sub_post_length(sub_post_df):\n",
    "    avg_sub_title = 0\n",
    "    avg_sub_selftext = 0\n",
    "    count = 0\n",
    "    for index, post in sub_post_df.iterrows():\n",
    "        count = count + 1\n",
    "        avg_sub_title = avg_sub_title + len(str(post[5]))\n",
    "        avg_sub_selftext = avg_sub_selftext + len(str(post[6]))\n",
    "    avg_sub_title = avg_sub_title / count\n",
    "    avg_sub_selftext = avg_sub_selftext / count\n",
    "    return [avg_sub_title, avg_sub_selftext]"
   ]
  },
  {
   "cell_type": "code",
   "execution_count": 143,
   "metadata": {},
   "outputs": [],
   "source": [
    "# Avg subreddit comment length helper function\n",
    "def avg_sub_comment_length(sub_comment_df):\n",
    "    avg_sub_body = 0\n",
    "    count = 0\n",
    "    for index, comm in sub_comment_df.iterrows():\n",
    "        count = count + 1\n",
    "        #print(comm[0])\n",
    "        avg_sub_body = avg_sub_body + len(str(comm[0]))\n",
    "    avg_sub_body = avg_sub_body / count\n",
    "    return avg_sub_body"
   ]
  },
  {
   "cell_type": "code",
   "execution_count": 144,
   "metadata": {},
   "outputs": [],
   "source": [
    "# Post length calculator function\n",
    "def post_len_score_calc(sub_post_df, avg_sub_title, avg_sub_selftext):\n",
    "    \n",
    "    post_len_scores = {}\n",
    "    \n",
    "    for index, post in sub_post_df.iterrows():\n",
    "        post_len_scores[str(post[7])] = (0.3*(len(str(post[5])) / avg_sub_title)) + (0.7*(len(str(post[6])) / avg_sub_selftext))\n",
    "        \n",
    "    return post_len_scores"
   ]
  },
  {
   "cell_type": "code",
   "execution_count": 145,
   "metadata": {},
   "outputs": [],
   "source": [
    "# Comment length calculator function\n",
    "def comm_len_score_calc(sub_comm_df, avg_sub_body):\n",
    "    \n",
    "    comm_len_scores = {}\n",
    "    \n",
    "    for index, comm in sub_comm_df.iterrows():\n",
    "        comm_len_scores[str(comm[7])] = len(str(comm[0]))/avg_sub_body\n",
    "        \n",
    "    return comm_len_scores"
   ]
  },
  {
   "cell_type": "code",
   "execution_count": 146,
   "metadata": {},
   "outputs": [],
   "source": [
    "# # AmA avg lengths\n",
    "# ama_avg_post_len = avg_sub_post_length(df_ama_post_sample)\n",
    "# ama_avg_comm_len = avg_sub_comment_length(ama_comments_sample)"
   ]
  },
  {
   "cell_type": "code",
   "execution_count": 147,
   "metadata": {},
   "outputs": [],
   "source": [
    "# # Science avg lengths\n",
    "# science_avg_post_len = avg_sub_post_length(df_science_post_sample)\n",
    "# science_avg_comm_len = avg_sub_comment_length(science_comments_sample)"
   ]
  },
  {
   "cell_type": "code",
   "execution_count": 148,
   "metadata": {},
   "outputs": [],
   "source": [
    "# # Pokemon avg lengths\n",
    "# poke_avg_post_len = avg_sub_post_length(df_poke_post_sample)\n",
    "# poke_avg_comm_len = avg_sub_comment_length(poke_comments_sample)"
   ]
  },
  {
   "cell_type": "code",
   "execution_count": 149,
   "metadata": {},
   "outputs": [],
   "source": [
    "# print(ama_avg_post_len, ama_avg_comm_len)\n",
    "# print(science_avg_post_len, science_avg_comm_len)\n",
    "# print(poke_avg_post_len, poke_avg_comm_len)"
   ]
  },
  {
   "cell_type": "code",
   "execution_count": 150,
   "metadata": {},
   "outputs": [],
   "source": [
    "# # AMA - Posts\n",
    "# ama_post_len_scores = post_len_score_calc(df_ama_post_sample, ama_avg_post_len[0], ama_avg_post_len[1])\n",
    "# #print(ama_post_len_scores)"
   ]
  },
  {
   "cell_type": "code",
   "execution_count": 151,
   "metadata": {},
   "outputs": [],
   "source": [
    "# # AMA - Comments\n",
    "# ama_comm_len_scores = comm_len_score_calc(ama_comments_sample, ama_avg_comm_len)\n",
    "# #print(ama_comm_len_scores)"
   ]
  },
  {
   "cell_type": "code",
   "execution_count": 152,
   "metadata": {},
   "outputs": [],
   "source": [
    "# # Science - Posts\n",
    "# science_post_len_scores = post_len_score_calc(df_science_post_sample, science_avg_post_len[0], science_avg_post_len[1])\n",
    "# #print(science_post_len_scores)"
   ]
  },
  {
   "cell_type": "code",
   "execution_count": 153,
   "metadata": {},
   "outputs": [],
   "source": [
    "# # Science - Comments\n",
    "# science_comm_len_scores = comm_len_score_calc(science_comments_sample, science_avg_comm_len)\n",
    "# #print(science_comm_len_scores)"
   ]
  },
  {
   "cell_type": "code",
   "execution_count": 154,
   "metadata": {},
   "outputs": [],
   "source": [
    "# # Pokemon - Posts\n",
    "# poke_post_len_scores = post_len_score_calc(df_poke_post_sample, poke_avg_post_len[0], poke_avg_post_len[1])\n",
    "# #print(poke_post_len_scores)"
   ]
  },
  {
   "cell_type": "code",
   "execution_count": 155,
   "metadata": {},
   "outputs": [],
   "source": [
    "# # Pokemon - Comments\n",
    "# poke_comm_len_scores = comm_len_score_calc(poke_comments_sample, poke_avg_comm_len)\n",
    "# #print(poke_comm_len_scores)"
   ]
  },
  {
   "cell_type": "markdown",
   "metadata": {},
   "source": [
    "#### 3.2 Capitals & Curses"
   ]
  },
  {
   "cell_type": "code",
   "execution_count": 156,
   "metadata": {},
   "outputs": [
    {
     "data": {
      "text/plain": [
       "67"
      ]
     },
     "execution_count": 156,
     "metadata": {},
     "output_type": "execute_result"
    }
   ],
   "source": [
    "curses = []\n",
    "with open('flat_swearWords.txt', 'r') as swearFile:\n",
    "    for term in swearFile:\n",
    "        curses.append(term)\n",
    "len(curses)"
   ]
  },
  {
   "cell_type": "code",
   "execution_count": 157,
   "metadata": {},
   "outputs": [],
   "source": [
    "def post_caps_and_curses(post_df):\n",
    "    \n",
    "    score_d = {}\n",
    "    \n",
    "    for index, row in post_df.iterrows():\n",
    "        \n",
    "        #get Post title and body\n",
    "        title = str(row[5]).lower()\n",
    "        body = str(row[6]).lower()\n",
    "        \n",
    "        temp_str = ''\n",
    "        \n",
    "        #title\n",
    "        #remove URL's for analysis\n",
    "        \n",
    "        title = regex.sub(r'http[s]?:\\/\\/(?:[a-zA-Z]|[0-9]|[$-_@.&+]|[!*\\(\\), ]|(?:%[0-9a-fA-F][0-9a-fA-F]))+', '', title)\n",
    "\n",
    "        \n",
    "        title = regex.sub(r'^http[^' '\\n]', '', title)\n",
    "        \n",
    "        if ((title == '[removed]') | (title == '[deleted]') | (title == 'nan')):\n",
    "            temp_str = temp_str\n",
    "        else:\n",
    "            temp_str = temp_str + ' ' + title #title\n",
    "        \n",
    "        #body\n",
    "        #remove URL's, deleted/removed posts for analysis\n",
    "        \n",
    "        body = regex.sub(r'http[s]?:\\/\\/(?:[a-zA-Z]|[0-9]|[$-_@.&+]|[!*\\(\\), ]|(?:%[0-9a-fA-F][0-9a-fA-F]))+', '', body)\n",
    "            \n",
    "        body = regex.sub(r'^http[^' '\\n]', '', body)\n",
    "        \n",
    "        if ((body == '[removed]') | (body == '[deleted]') | (body == 'nan')):\n",
    "            temp_str = temp_str\n",
    "        else:\n",
    "            temp_str = temp_str + ' ' + body #selftext\n",
    "            \n",
    "        #caps = re.findall('\\w*?([A-Z](\\w*)[A-Z])\\w*',temp_str) # get all chunks of consec. caps directly - not perfect\n",
    "        caps = re.findall(r'\\w*?[A-Z]\\w*[A-Z]\\w*',temp_str) # get all words with consec. caps inside\n",
    "        cap_count = 0\n",
    "        for word in caps:\n",
    "            for char in word:\n",
    "                if (char.isupper()):\n",
    "                    cap_count = cap_count + 1\n",
    "        cap_score = (len(caps) * cap_count)/len(temp_str.split())\n",
    "        \n",
    "        curse_count = 0\n",
    "        token_ls = word_tokenize(temp_str)\n",
    "        #snowball_stemmer.stem(word)\n",
    "        for curse in curses:\n",
    "            for token in token_ls:\n",
    "                if curse in token:\n",
    "                    print(curse)\n",
    "                    curse_count = curse_count + 1\n",
    "        curse_score = curse_count / len(token_ls)\n",
    "        \n",
    "        score_d[str(row[7])] = [cap_score, curse_score]\n",
    "    return score_d"
   ]
  },
  {
   "cell_type": "code",
   "execution_count": 158,
   "metadata": {},
   "outputs": [],
   "source": [
    "# ama_post_surface_scores = post_caps_and_curses(df_ama_post_sample)\n",
    "# # ama_post_surface_scores"
   ]
  },
  {
   "cell_type": "code",
   "execution_count": 159,
   "metadata": {},
   "outputs": [],
   "source": [
    "# science_post_surface_scores = post_caps_and_curses(df_science_post_sample)\n",
    "# # science_post_surface_scores"
   ]
  },
  {
   "cell_type": "code",
   "execution_count": 160,
   "metadata": {},
   "outputs": [],
   "source": [
    "# poke_post_surface_scores = post_caps_and_curses(df_poke_post_sample)\n",
    "# # poke_post_surface_scores"
   ]
  },
  {
   "cell_type": "code",
   "execution_count": 399,
   "metadata": {},
   "outputs": [],
   "source": [
    "def comm_caps_and_curses(comm_df):\n",
    "    \n",
    "    score_d = {}\n",
    "    \n",
    "    for index, row in comm_df.iterrows():\n",
    "        \n",
    "        #get comm body\n",
    "        body = str(row[0])\n",
    "        \n",
    "        temp_str = ''\n",
    "        \n",
    "        #body\n",
    "        #remove URL's, deleted/removed for analysis\n",
    "        \n",
    "        body = regex.sub(r'http[s]?:\\/\\/(?:[a-zA-Z]|[0-9]|[$-_@.&+]|[!*\\(\\), ]|(?:%[0-9a-fA-F][0-9a-fA-F]))+', '', body)\n",
    "            \n",
    "        body = regex.sub(r'^http[^' '\\n]', '', body)\n",
    "        \n",
    "        if ((body == '[removed]') | (body == '[deleted]') | (body == 'nan')):\n",
    "            temp_str = temp_str\n",
    "        else:\n",
    "            temp_str = temp_str + ' ' + body #selftext\n",
    "        \n",
    "        #Capitals\n",
    "        \n",
    "        #caps = re.findall('\\w*?([A-Z](\\w*)[A-Z])\\w*',temp_str) # get all chunks of consec. caps directly - not perfect\n",
    "        caps = re.findall(r'\\w*?[A-Z]\\w*[A-Z]\\w*',temp_str) # get all words with consec. caps inside\n",
    "        cap_count = 0\n",
    "        for word in caps:\n",
    "            for char in word:\n",
    "                if (char.isupper()):\n",
    "                    cap_count = cap_count + 1\n",
    "        if ((len(temp_str.split())) > 0):\n",
    "            cap_score = (len(caps) * cap_count)/len(temp_str.split())\n",
    "        else:\n",
    "            cap_score = 0\n",
    "            \n",
    "        #Curses\n",
    "        \n",
    "        curse_count = 0\n",
    "        token_ls = word_tokenize(temp_str)\n",
    "        #snowball_stemmer.stem(word)\n",
    "        for curse in curses:\n",
    "            for token in token_ls:\n",
    "                if curse in token:\n",
    "                    curse_count = curse_count + 1\n",
    "        if (len(token_ls) > 0):\n",
    "            curse_score = curse_count / len(token_ls)\n",
    "        else:\n",
    "            curse_score = 0\n",
    "        \n",
    "        score_d[str(row[7])] = [cap_score, curse_score]\n",
    "    return score_d"
   ]
  },
  {
   "cell_type": "code",
   "execution_count": 162,
   "metadata": {},
   "outputs": [],
   "source": [
    "# ama_comm_surface_scores = comm_caps_and_curses(ama_comments_sample)\n",
    "# #ama_comm_surface_scores"
   ]
  },
  {
   "cell_type": "code",
   "execution_count": 163,
   "metadata": {},
   "outputs": [],
   "source": [
    "# science_comm_surface_scores = comm_caps_and_curses(science_comments_sample)\n",
    "# #science_comm_surface_scores"
   ]
  },
  {
   "cell_type": "code",
   "execution_count": 164,
   "metadata": {},
   "outputs": [],
   "source": [
    "# poke_comm_surface_scores = comm_caps_and_curses(poke_comments_sample)\n",
    "#poke_comm_surface_scores"
   ]
  },
  {
   "cell_type": "markdown",
   "metadata": {},
   "source": [
    "#### 3.3 Timeliness"
   ]
  },
  {
   "cell_type": "code",
   "execution_count": 165,
   "metadata": {},
   "outputs": [],
   "source": [
    "# gives dictionary of parent posts with postID as key and avg difference between comment and post time within thread as value\n",
    "def avg_thread_comm_time(sub_post_df,sub_comm_df):\n",
    "    \n",
    "    thread_times = {}\n",
    "    \n",
    "    for ix, post in sub_post_df.iterrows():\n",
    "        parent_id = 't3_' + str(post[7])\n",
    "        parent_time = post[0]\n",
    "        count = 0\n",
    "        time = 0\n",
    "        for index, comm in sub_comm_df[sub_comm_df['link_id'] == parent_id].iterrows():\n",
    "            count = count + 1\n",
    "            diff = comm[2] - parent_time\n",
    "            time = time + diff\n",
    "        if (count > 0):\n",
    "            time = time / count\n",
    "        else:\n",
    "            time = 0\n",
    "            \n",
    "        thread_times[str(post[7])] = [time, parent_time]\n",
    "    \n",
    "    return thread_times"
   ]
  },
  {
   "cell_type": "code",
   "execution_count": 166,
   "metadata": {},
   "outputs": [],
   "source": [
    "def get_comm_time_scores(comm_df, comm_times_d):\n",
    "    \n",
    "    time_scores = {}\n",
    "    \n",
    "    for ix, comm in comm_df.iterrows():\n",
    "        parent = comm[4][3:]\n",
    "#         if parent in comm_times_d:\n",
    "        score = (comm[2] - comm_times_d[parent][1]) / comm_times_d[parent][0]\n",
    "        time_scores[str(comm[7])] = score\n",
    "#         else:\n",
    "#             time_scores[str(comm[7])] = #\n",
    "    return time_scores"
   ]
  },
  {
   "cell_type": "code",
   "execution_count": 167,
   "metadata": {},
   "outputs": [],
   "source": [
    "# ama_avg_comm_times = avg_thread_comm_time(df_ama_post_sample, ama_comments_sample)\n",
    "# science_avg_comm_times = avg_thread_comm_time(df_science_post_sample, science_comments_sample)\n",
    "# poke_avg_comm_times = avg_thread_comm_time(df_poke_post_sample, poke_comments_sample)"
   ]
  },
  {
   "cell_type": "code",
   "execution_count": 168,
   "metadata": {},
   "outputs": [],
   "source": [
    "# ama_comm_time_scores = get_comm_time_scores(ama_comments_sample, ama_avg_comm_times)"
   ]
  },
  {
   "cell_type": "code",
   "execution_count": 169,
   "metadata": {},
   "outputs": [],
   "source": [
    "# science_comm_time_scores = get_comm_time_scores(science_comments_sample, science_avg_comm_times)"
   ]
  },
  {
   "cell_type": "code",
   "execution_count": 170,
   "metadata": {},
   "outputs": [],
   "source": [
    "# poke_comm_time_scores = get_comm_time_scores(poke_comments_sample, poke_avg_comm_times)"
   ]
  },
  {
   "cell_type": "code",
   "execution_count": 171,
   "metadata": {},
   "outputs": [],
   "source": [
    "# function to get average time of day for posts in subreddit during time period (September 2018)\n",
    "    # defined according to Detroit local time (all times converted to reflect Detroit time zone and compared)\n",
    "\n",
    "def get_avg_sub_TOD(sub_post_df):\n",
    "    \n",
    "    avg_time = {'hour': 0, 'min': 0}\n",
    "    \n",
    "    for ix, post in sub_post_df.iterrows():\n",
    "        utc = post[0]\n",
    "        dt = datetime.fromtimestamp(utc)\n",
    "        avg_time['hour'] = avg_time['hour'] + dt.hour\n",
    "        avg_time['min'] = avg_time['min'] + dt.minute\n",
    "\n",
    "    avg_time['hour'] = avg_time['hour'] / len(sub_post_df)\n",
    "    avg_time['min'] = avg_time['min'] / len(sub_post_df)\n",
    "    \n",
    "    return avg_time"
   ]
  },
  {
   "cell_type": "code",
   "execution_count": 172,
   "metadata": {},
   "outputs": [],
   "source": [
    "# function to calculate timeliness scores for each post in sample\n",
    "def get_post_time_scores(post_df, avg_time):\n",
    "    \n",
    "    scores_d = {}\n",
    "    \n",
    "    for ix, post in post_df.iterrows():\n",
    "        dt = datetime.fromtimestamp(post[0])\n",
    "        min_diff = abs(avg_time['min'] - dt.minute)/60 #convert minute diff to hours\n",
    "        hour_diff = abs(avg_time['hour'] - dt.hour) + min_diff #get timeliness relative to avg in terms of hours\n",
    "        scores_d[str(post[7])] = hour_diff\n",
    "    \n",
    "    return scores_d"
   ]
  },
  {
   "cell_type": "code",
   "execution_count": 173,
   "metadata": {},
   "outputs": [],
   "source": [
    "# get avg post times for each subreddit\n",
    "ama_avg_dt = get_avg_sub_TOD(df_ama_post_sample)\n",
    "science_avg_dt = get_avg_sub_TOD(df_science_post_sample)\n",
    "poke_avg_dt = get_avg_sub_TOD(df_poke_post_sample)"
   ]
  },
  {
   "cell_type": "code",
   "execution_count": 174,
   "metadata": {},
   "outputs": [],
   "source": [
    "# # get post timeliness scores for each subreddit\n",
    "# ama_post_time_scores = get_post_time_scores(df_ama_post_sample, ama_avg_dt)\n",
    "# science_post_time_scores = get_post_time_scores(df_science_post_sample, science_avg_dt)\n",
    "# poke_post_time_scores = get_post_time_scores(df_poke_post_sample, poke_avg_dt)"
   ]
  },
  {
   "cell_type": "markdown",
   "metadata": {},
   "source": [
    "### 4. Reddit-specific & Discussion Scores"
   ]
  },
  {
   "cell_type": "markdown",
   "metadata": {},
   "source": [
    "#### 4.1 Reply Percentage Score\n",
    "- For each post:\n",
    "    - Total number of child comments on post / Total number of comments on subreddit for time period (1 month)\n",
    "- For each comment:\n",
    "    - Total number of child comments on comment / Total number of comments on parent post's thread"
   ]
  },
  {
   "cell_type": "code",
   "execution_count": 175,
   "metadata": {},
   "outputs": [],
   "source": [
    "#function for post reply percentage score calculation\n",
    "def post_reply_perc(post_df, sub_comm_count):\n",
    "    \n",
    "    scores_d = {}\n",
    "    \n",
    "    for ix, row in post_df.iterrows():\n",
    "        score = row[3] / sub_comm_count\n",
    "        scores_d[str(row[7])] = score\n",
    "        \n",
    "    return scores_d"
   ]
  },
  {
   "cell_type": "code",
   "execution_count": 176,
   "metadata": {},
   "outputs": [],
   "source": [
    "#function for comment reply percentage score calculation\n",
    "def comm_reply_perc(comm_df, post_df):\n",
    "    \n",
    "    comms = {} # key is ID, value is count of first level children\n",
    "    this_sample = []\n",
    "    \n",
    "    for ix, row in comm_df.iterrows():\n",
    "        this_sample.append(str(row[7]))\n",
    "        parent = str(row[5]).lower()\n",
    "        if (parent[:2] == 't1'):\n",
    "            if (parent[3:] not in comms):\n",
    "                comms[parent[3:]] = 0\n",
    "            comms[parent[3:]] = comms[parent[3:]] + 1\n",
    "    \n",
    "    scores_d = {}\n",
    "    except_c = 0\n",
    "    # if comm from comm_df has no children, will not be in c\n",
    "    # extra comms that are not in comm_df may be in c, as parents of comm_df comms may not be in comm_df\n",
    "    for c in comms: \n",
    "        try:\n",
    "            link = comm_df.loc[comm_df['id'] == c, 'link_id'].item()[3:]\n",
    "            if (comms[c] > 0):\n",
    "                scores_d[c] = comms[c] / post_df.loc[post_df['id'] == link, 'num_comments'].item()\n",
    "            else:\n",
    "                scores_d[c] = 0\n",
    "        except:\n",
    "            except_c = except_c + 1\n",
    "            scores_d[c] = 0\n",
    "    \n",
    "    missed = 0\n",
    "    # Error handling to make sure every comm in comm_df receives a score (account for cases where comm has no children)\n",
    "    for i in this_sample:\n",
    "        if i not in scores_d:\n",
    "            missed = missed + 1\n",
    "            scores_d[i] = 0\n",
    "    print(except_c/len(this_sample), missed/len(this_sample))\n",
    "    return scores_d"
   ]
  },
  {
   "cell_type": "code",
   "execution_count": 177,
   "metadata": {},
   "outputs": [],
   "source": [
    "# Get total comment counts for each subreddit during September 2018\n",
    "ama_all_post_comms = ama_posts_clean[['num_comments']].sum(axis=0).item()\n",
    "science_all_post_comms = science_posts_clean[['num_comments']].sum(axis=0).item()\n",
    "poke_all_post_comms = poke_posts_clean[['num_comments']].sum(axis=0).item()"
   ]
  },
  {
   "cell_type": "code",
   "execution_count": 178,
   "metadata": {},
   "outputs": [],
   "source": [
    "# #Calculate post reply percentage scores for each subreddit\n",
    "# ama_post_reply_scores = post_reply_perc(df_ama_post_sample, ama_all_post_comms)\n",
    "# science_post_reply_scores = post_reply_perc(df_science_post_sample, science_all_post_comms)\n",
    "# poke_post_reply_scores = post_reply_perc(df_poke_post_sample, poke_all_post_comms)"
   ]
  },
  {
   "cell_type": "code",
   "execution_count": 179,
   "metadata": {},
   "outputs": [],
   "source": [
    "# #Calculate comment reply percentage scores for each subreddit\n",
    "# ama_comm_reply_scores = comm_reply_perc(ama_comments_sample, ama_posts_clean)\n",
    "# science_comm_reply_scores = comm_reply_perc(science_comments_sample, science_posts_clean)\n",
    "# poke_comm_reply_scores = comm_reply_perc(poke_comments_sample, poke_posts_clean)"
   ]
  },
  {
   "cell_type": "markdown",
   "metadata": {},
   "source": [
    "#### 4.2 Reddit Score (Lower Bound of Wilson Score Confidence Interval)\n",
    "- For each post and comment:\n",
    "    - Retrieve Reddit score from data"
   ]
  },
  {
   "cell_type": "code",
   "execution_count": 180,
   "metadata": {},
   "outputs": [],
   "source": [
    "# # Get Reddit scores for all posts in each subreddit sample\n",
    "# ama_post_reddit_scores = {}\n",
    "# science_post_reddit_scores = {}\n",
    "# poke_post_reddit_scores = {}\n",
    "# for ix, post in df_ama_post_sample.iterrows():\n",
    "#     ama_post_reddit_scores[post[7]] = int(post[4])\n",
    "# for ix, post in df_science_post_sample.iterrows():\n",
    "#     science_post_reddit_scores[post[7]] = int(post[4])\n",
    "# for ix, post in df_poke_post_sample.iterrows():\n",
    "#     poke_post_reddit_scores[post[7]] = int(post[4])"
   ]
  },
  {
   "cell_type": "code",
   "execution_count": 181,
   "metadata": {},
   "outputs": [],
   "source": [
    "# # Get Reddit scores for all comments in each subreddit sample\n",
    "# ama_comm_reddit_scores = {}\n",
    "# science_comm_reddit_scores = {}\n",
    "# poke_comm_reddit_scores = {}\n",
    "# for ix, post in ama_comments_sample.iterrows():\n",
    "#     ama_comm_reddit_scores[post[7]] = int(post[6])\n",
    "# for ix, post in science_comments_sample.iterrows():\n",
    "#     science_comm_reddit_scores[post[7]] = int(post[6])\n",
    "# for ix, post in poke_comments_sample.iterrows():\n",
    "#     poke_comm_reddit_scores[post[7]] = int(post[6])"
   ]
  },
  {
   "cell_type": "code",
   "execution_count": 182,
   "metadata": {},
   "outputs": [],
   "source": [
    "# len(ama_comm_sub_rels) == len(ama_comm_reddit_scores)\n",
    "# len(science_comm_sub_rels) == len(science_comm_reddit_scores)\n",
    "# len(poke_comm_sub_rels) == len(poke_comm_reddit_scores)"
   ]
  },
  {
   "cell_type": "markdown",
   "metadata": {},
   "source": [
    "#### 4.3 Link Quantity Score\n",
    "- For each post/comment:\n",
    "    - \\# of links in body / # of tokens in body"
   ]
  },
  {
   "cell_type": "code",
   "execution_count": 183,
   "metadata": {},
   "outputs": [],
   "source": [
    "#function to retrieve post link quantity scores\n",
    "def post_link_quantity(post_df):\n",
    "    \n",
    "    score_d = {}\n",
    "    \n",
    "    for index, row in post_df.iterrows():\n",
    "        \n",
    "        #get Post title and body\n",
    "        title = str(row[5])\n",
    "        body = str(row[6])\n",
    "        \n",
    "        temp_str = ''\n",
    "        \n",
    "        #title\n",
    "        if ((title == '[removed]') | (title == '[deleted]') | (title == 'nan')):\n",
    "            temp_str = temp_str\n",
    "        else:\n",
    "            temp_str = temp_str + ' ' + title #title\n",
    "        \n",
    "        #body\n",
    "        if ((body == '[removed]') | (body == '[deleted]') | (body == 'nan')):\n",
    "            temp_str = temp_str\n",
    "        else:\n",
    "            temp_str = temp_str + ' ' + body #selftext\n",
    "        \n",
    "        # Count number of URL's for analysis (correctly formatted)\n",
    "        link_count = len(regex.findall(r'http[s]?:\\/\\/(?:[a-zA-Z]|[0-9]|[$-_@.&+]|[!*\\(\\), ]|(?:%[0-9a-fA-F][0-9a-fA-F]))+', temp_str))\n",
    "        \n",
    "#         temp_str = regex.sub(r'http[s]?://(?:[a-zA-Z]|[0-9]|[$-_@.&+]|[!*\\(\\), ]|(?:%[0-9a-fA-F][0-9a-fA-F]))+', '', body)\n",
    "        \n",
    "#         # Count number of failed/mistyped/etc. URL's\n",
    "#         link_count = link_count + len(regex.findall(r'^http[^' '\\n]', temp_str)\n",
    "        if (len(body.split()) > 0):\n",
    "            score_d[row[7]] = link_count / len(temp_str.split())\n",
    "        else:\n",
    "            score_d[row[7]] = 0\n",
    "    \n",
    "    return score_d # dict with postID as key and link quantity score as value"
   ]
  },
  {
   "cell_type": "code",
   "execution_count": 184,
   "metadata": {},
   "outputs": [],
   "source": [
    "#function to retrieve comment link quantity scores\n",
    "def comm_link_quantity(comm_df):\n",
    "    \n",
    "    score_d = {}\n",
    "    \n",
    "    for index, row in comm_df.iterrows():\n",
    "        \n",
    "        #get Post title and body\n",
    "        body = str(row[0])\n",
    "        \n",
    "        #body\n",
    "        if ((body == '[removed]') | (body == '[deleted]') | (body == 'nan')):\n",
    "            body = ''\n",
    "        \n",
    "        # Count number of URL's for analysis (correctly formatted)\n",
    "        link_count = len(regex.findall(r'http[s]?:\\/\\/(?:[a-zA-Z]|[0-9]|[$-_@.&+]|[!*\\(\\), ]|(?:%[0-9a-fA-F][0-9a-fA-F]))+', body))\n",
    "        \n",
    "#         temp_str = regex.sub(r'http[s]?://(?:[a-zA-Z]|[0-9]|[$-_@.&+]|[!*\\(\\), ]|(?:%[0-9a-fA-F][0-9a-fA-F]))+', '', body)\n",
    "        \n",
    "#         # Count number of failed/mistyped/etc. URL's\n",
    "#         link_count = link_count + len(regex.findall(r'^http[^' '\\n]', temp_str)\n",
    "        if (len(body.split()) > 0):\n",
    "            score_d[row[7]] = link_count / len(body.split())\n",
    "        else:\n",
    "            score_d[row[7]] = 0\n",
    "    \n",
    "    return score_d # dict with postID as key and link quantity score as value"
   ]
  },
  {
   "cell_type": "code",
   "execution_count": 185,
   "metadata": {},
   "outputs": [],
   "source": [
    "# ama_post_link_quantity = post_link_quantity(df_ama_post_sample)\n",
    "# science_post_link_quantity = post_link_quantity(df_science_post_sample)\n",
    "# poke_post_link_quantity = post_link_quantity(df_poke_post_sample)"
   ]
  },
  {
   "cell_type": "code",
   "execution_count": 186,
   "metadata": {},
   "outputs": [],
   "source": [
    "# ama_comm_link_quantity = comm_link_quantity(ama_comments_sample)\n",
    "# science_comm_link_quantity = comm_link_quantity(science_comments_sample)\n",
    "# poke_comm_link_quantity = comm_link_quantity(poke_comments_sample)"
   ]
  },
  {
   "cell_type": "markdown",
   "metadata": {},
   "source": [
    "#### 4.4 Question Count\n",
    "- For each post/comment:\n",
    "    - number of questions in body"
   ]
  },
  {
   "cell_type": "code",
   "execution_count": 187,
   "metadata": {},
   "outputs": [],
   "source": [
    "# function to calculate Question Count for Posts\n",
    "def post_Qcount(post_df):\n",
    "    \n",
    "    scores_d = {}\n",
    "    \n",
    "    for ix, row in post_df.iterrows():\n",
    "        temp_str = ''\n",
    "        title = str(row[5]).lower()\n",
    "        body = str(row[6]).lower()\n",
    "\n",
    "        #title\n",
    "        #remove URL's for analysis        \n",
    "        title = regex.sub(r'http[s]?:\\/\\/(?:[a-zA-Z]|[0-9]|[$-_@.&+]|[!*\\(\\), ]|(?:%[0-9a-fA-F][0-9a-fA-F]))+', '', title)\n",
    "\n",
    "        title = regex.sub(r'^http[^' '\\n]', '', title)\n",
    "        \n",
    "        if ((title == '[removed]') | (title == '[deleted]')):\n",
    "            temp_str = temp_str\n",
    "        else:\n",
    "            temp_str = temp_str + ' ' + title #title\n",
    "        \n",
    "        #body\n",
    "        #remove URL's, deleted/removed posts for analysis\n",
    "            \n",
    "        body = regex.sub(r'http[s]?:\\/\\/(?:[a-zA-Z]|[0-9]|[$-_@.&+]|[!*\\(\\), ]|(?:%[0-9a-fA-F][0-9a-fA-F]))+', '', body)\n",
    "\n",
    "        body = regex.sub(r'^http[^' '\\n]', '', body)\n",
    "\n",
    "        if ((body == '[removed]') | (body == '[deleted]') | (body == 'nan')):\n",
    "            temp_str = temp_str\n",
    "        else:\n",
    "            temp_str = temp_str + ' ' + body #selftext\n",
    "            \n",
    "        q_count = len(regex.findall(r'(?<=[a-zA-z0-9%!]|\\w\\s{1})\\?(?=\\s+|[\\?\\!\\)\\]])', temp_str))\n",
    "        \n",
    "        scores_d[str(row[7])] = q_count\n",
    "        \n",
    "    return scores_d"
   ]
  },
  {
   "cell_type": "code",
   "execution_count": 188,
   "metadata": {},
   "outputs": [],
   "source": [
    "# function to calculate Question Count for Comments\n",
    "def comm_Qcount(comm_df):\n",
    "    \n",
    "    scores_d = {}\n",
    "    \n",
    "    for ix, row in comm_df.iterrows():\n",
    "        temp_str = ''\n",
    "        body = str(row[0]).lower()\n",
    "\n",
    "        #body\n",
    "        #remove URL's, deleted/removed posts for analysis\n",
    "            \n",
    "        body = regex.sub(r'http[s]?:\\/\\/(?:[a-zA-Z]|[0-9]|[$-_@.&+]|[!*\\(\\), ]|(?:%[0-9a-fA-F][0-9a-fA-F]))+', '', body)\n",
    "\n",
    "        body = regex.sub(r'^http[^' '\\n]', '', body)\n",
    "\n",
    "        if ((body == '[removed]') | (body == '[deleted]') | (body == 'nan')):\n",
    "            temp_str = temp_str\n",
    "        else:\n",
    "            temp_str = temp_str + ' ' + body #selftext\n",
    "            \n",
    "        q_count = len(regex.findall(r'(?<=[a-zA-z0-9%!]|\\w\\s{1})\\?(?=\\s+|[\\?\\!\\)\\]])', temp_str))\n",
    "        \n",
    "        scores_d[str(row[7])] = q_count\n",
    "        \n",
    "    return scores_d"
   ]
  },
  {
   "cell_type": "code",
   "execution_count": 189,
   "metadata": {},
   "outputs": [],
   "source": [
    "# # calculate scores for both for all 3 subreddits\n",
    "# ama_post_q_counts = post_Qcount(df_ama_post_sample)\n",
    "# ama_post_q_counts = post_Qcount(df_science_post_sample)\n",
    "# ama_post_q_counts = post_Qcount(df_poke_post_sample)\n",
    "# ama_comm_q_counts = comm_Qcount(ama_comments_sample)\n",
    "# science_comm_q_counts = comm_Qcount(science_comments_sample)\n",
    "# poke_comm_q_counts = comm_Qcount(poke_comments_sample)"
   ]
  },
  {
   "cell_type": "markdown",
   "metadata": {},
   "source": [
    "## Logistic Regression Classifier"
   ]
  },
  {
   "cell_type": "markdown",
   "metadata": {},
   "source": [
    "#### For both posts and comments, build two samples of 200 observations (67 per subreddit)"
   ]
  },
  {
   "cell_type": "code",
   "execution_count": 190,
   "metadata": {},
   "outputs": [],
   "source": [
    "#Create 2 dataframes with samples of 201 posts and 201 comments (respectively), filtering deleted/removed content\n",
    "# comm_annot_sample = pd.concat([ama_comments_sample[(ama_comments_sample['body'] != '[deleted]') & (ama_comments_sample['body'] != '[removed]')].sample(67), science_comments_sample[(science_comments_sample['body'] != '[deleted]') & (science_comments_sample['body'] != '[removed]')].sample(67), poke_comments_sample[(poke_comments_sample['body'] != '[deleted]') & (poke_comments_sample['body'] != '[removed]')].sample(67)])\n",
    "# post_annot_sample = pd.concat([ama_posts_clean[(ama_posts_clean['selftext'] != '[deleted]') & (ama_posts_clean['selftext'] != '[removed]')].sample(67), science_posts_clean[(science_posts_clean['selftext'] != '[deleted]') & (science_posts_clean['selftext'] != '[removed]')].sample(67), poke_posts_clean[(poke_posts_clean['selftext'] != '[deleted]') & (poke_posts_clean['selftext'] != '[removed]')].sample(67)])"
   ]
  },
  {
   "cell_type": "code",
   "execution_count": 191,
   "metadata": {},
   "outputs": [],
   "source": [
    "# # Send annotation samples to csv \n",
    "# comm_annot_sample[['subreddit', 'body', 'id']].to_csv('comment_annotation_sample.csv')\n",
    "# post_annot_sample[['subreddit', 'title', 'selftext', 'id']].to_csv('post_annotation_sample.csv')"
   ]
  },
  {
   "cell_type": "code",
   "execution_count": 192,
   "metadata": {},
   "outputs": [],
   "source": [
    "# # Create second set of sample posts and comments\n",
    "# comm_annot2_sample = pd.concat([\n",
    "#     ama_comments_sample[(ama_comments_sample['body'] != '[deleted]') & (ama_comments_sample['body'] != '[removed]') & (~ama_comments_sample['id'].isin(comm_sample1))].sample(67), \n",
    "#     science_comments_sample[(science_comments_sample['body'] != '[deleted]') & (science_comments_sample['body'] != '[removed]') & (~science_comments_sample['id'].isin(comm_sample1))].sample(67), \n",
    "#     poke_comments_sample[(poke_comments_sample['body'] != '[deleted]') & (poke_comments_sample['body'] != '[removed]') & (~poke_comments_sample['id'].isin(comm_sample1))].sample(67)\n",
    "# ])\n",
    "# post_annot2_sample = pd.concat([\n",
    "#     ama_posts_clean[(ama_posts_clean['selftext'] != '[deleted]') & (ama_posts_clean['selftext'] != '[removed]') & (~ama_posts_clean['id'].isin(post_sample1))].sample(67), \n",
    "#     science_posts_clean[(science_posts_clean['selftext'] != '[deleted]') & (science_posts_clean['selftext'] != '[removed]') & (~science_posts_clean['id'].isin(post_sample1))].sample(67), \n",
    "#     poke_posts_clean[(poke_posts_clean['selftext'] != '[deleted]') & (poke_posts_clean['selftext'] != '[removed]') & (~poke_posts_clean['id'].isin(post_sample1))].sample(67)\n",
    "# ])"
   ]
  },
  {
   "cell_type": "code",
   "execution_count": 193,
   "metadata": {},
   "outputs": [],
   "source": [
    "# # Send annotation samples to csv \n",
    "# comm_annot2_sample[['subreddit', 'body', 'id']].to_csv('comment_annotation_sample2.csv')\n",
    "# post_annot2_sample[['subreddit', 'title', 'selftext', 'id']].to_csv('post_annotation_sample2.csv')"
   ]
  },
  {
   "cell_type": "code",
   "execution_count": 194,
   "metadata": {},
   "outputs": [
    {
     "name": "stdout",
     "output_type": "stream",
     "text": [
      "(402, 2) (402, 2)\n"
     ]
    }
   ],
   "source": [
    "# Read in completed annotation samples from csv\n",
    "c1 = pd.read_csv('comment_annotations1.csv')\n",
    "c2 = pd.read_csv('comment_annotations2.csv')\n",
    "comm_anno_f = pd.concat([c1, c2])\n",
    "post_anno_f = pd.concat([pd.read_csv('post_annotations1.csv'), pd.read_csv('post_annotations2.csv')])\n",
    "comm_anno_f.columns = ['subreddit', 'body', 'rating','id']\n",
    "comm_anno_f = comm_anno_f[['id', 'rating']]\n",
    "post_anno_f.columns = ['subreddit', 'title', 'selftext', 'rating', 'id']\n",
    "post_anno_f = post_anno_f[['id', 'rating']]\n",
    "print(comm_anno_f.shape, post_anno_f.shape)"
   ]
  },
  {
   "cell_type": "code",
   "execution_count": 195,
   "metadata": {},
   "outputs": [
    {
     "name": "stdout",
     "output_type": "stream",
     "text": [
      "402 402\n"
     ]
    }
   ],
   "source": [
    "# get lists of all annotated posts and comments\n",
    "comm_sample1 = comm_anno_f['id'].tolist()\n",
    "post_sample1 = post_anno_f['id'].tolist()\n",
    "print(len(comm_sample1), len(post_sample1))"
   ]
  },
  {
   "cell_type": "code",
   "execution_count": 196,
   "metadata": {},
   "outputs": [],
   "source": [
    "all_comm_clean = pd.concat([ama_comments_clean, science_comments_clean, poke_comments_clean])"
   ]
  },
  {
   "cell_type": "code",
   "execution_count": 197,
   "metadata": {},
   "outputs": [],
   "source": [
    "all_posts_clean = pd.concat([ama_posts_clean, science_posts_clean, poke_posts_clean])"
   ]
  },
  {
   "cell_type": "code",
   "execution_count": 198,
   "metadata": {},
   "outputs": [],
   "source": [
    "# create dataframes containing all annotated comment and post features\n",
    "annotated_comms = all_comm_clean[all_comm_clean['id'].isin(comm_sample1)]\n",
    "annotated_posts = all_posts_clean[all_posts_clean['id'].isin(post_sample1)]"
   ]
  },
  {
   "cell_type": "code",
   "execution_count": 199,
   "metadata": {},
   "outputs": [],
   "source": [
    "# print(annotated_comms.shape, annotated_posts.shape)"
   ]
  },
  {
   "cell_type": "code",
   "execution_count": 200,
   "metadata": {},
   "outputs": [],
   "source": [
    "annotated_ama = annotated_posts[annotated_posts['subreddit'] == 'IAmA']\n",
    "annotated_ama_ls = annotated_ama['id'].tolist()\n",
    "annotated_science = annotated_posts[annotated_posts['subreddit'] == 'science']\n",
    "annotated_science_ls = annotated_science['id'].tolist()\n",
    "annotated_poke = annotated_posts[annotated_posts['subreddit'] == 'pokemon']\n",
    "annotated_poke_ls = annotated_poke['id'].tolist()"
   ]
  },
  {
   "cell_type": "code",
   "execution_count": 201,
   "metadata": {},
   "outputs": [],
   "source": [
    "# print(annotated_ama.shape, annotated_science.shape, annotated_poke.shape)"
   ]
  },
  {
   "cell_type": "code",
   "execution_count": 202,
   "metadata": {},
   "outputs": [],
   "source": [
    "fixed_link_id = []\n",
    "for i in post_sample1:\n",
    "    fixed_link_id.append('t3_' + str(i))"
   ]
  },
  {
   "cell_type": "code",
   "execution_count": 203,
   "metadata": {},
   "outputs": [],
   "source": [
    "post_annot_comments = pd.concat([ama_comments_clean[ama_comments_clean['link_id'].isin(fixed_link_id)], \n",
    "                                 science_comments_clean[science_comments_clean['link_id'].isin(fixed_link_id)],\n",
    "                                 poke_comments_clean[poke_comments_clean['link_id'].isin(fixed_link_id)]\n",
    "                                ])"
   ]
  },
  {
   "cell_type": "code",
   "execution_count": 204,
   "metadata": {},
   "outputs": [],
   "source": [
    "# len(post_annot_comments)"
   ]
  },
  {
   "cell_type": "code",
   "execution_count": 205,
   "metadata": {},
   "outputs": [],
   "source": [
    "# Post Relevance scoring\n",
    "\n",
    "# Subreddit Topic score\n",
    "# anno_post_thread = create_thread_string(annotated_posts, post_annot_comments)"
   ]
  },
  {
   "cell_type": "code",
   "execution_count": 206,
   "metadata": {},
   "outputs": [],
   "source": [
    "# anno_post_lda = thread_lda(anno_post_thread)"
   ]
  },
  {
   "cell_type": "code",
   "execution_count": 207,
   "metadata": {},
   "outputs": [],
   "source": [
    "# #Cache ama_thread response dict\n",
    "# with open('annotated_thread_resp.json', 'w') as file:\n",
    "#     json.dump(anno_post_lda, file, indent=4)"
   ]
  },
  {
   "cell_type": "code",
   "execution_count": 273,
   "metadata": {},
   "outputs": [],
   "source": [
    "#Cache ama_thread response dict\n",
    "with open('annotated_thread_resp.json', 'r') as file:\n",
    "    anno_post_lda = json.load(file)"
   ]
  },
  {
   "cell_type": "code",
   "execution_count": 209,
   "metadata": {},
   "outputs": [
    {
     "name": "stdout",
     "output_type": "stream",
     "text": [
      "105 133 133\n"
     ]
    }
   ],
   "source": [
    "anno_ama_lda = {}\n",
    "anno_science_lda = {}\n",
    "anno_poke_lda = {}\n",
    "for post in anno_post_lda:\n",
    "    if post in annotated_ama_ls:\n",
    "        anno_ama_lda[post] = anno_post_lda[post]\n",
    "    if post in annotated_science_ls:\n",
    "        anno_science_lda[post] = anno_post_lda[post]\n",
    "    if post in annotated_poke_ls:\n",
    "        anno_poke_lda[post] = anno_post_lda[post]\n",
    "print(len(anno_ama_lda), len(anno_science_lda), len(anno_poke_lda))"
   ]
  },
  {
   "cell_type": "code",
   "execution_count": 210,
   "metadata": {},
   "outputs": [],
   "source": [
    "#AMA topic scores\n",
    "ama_anno_post_tm_scores = tm_similarity(anno_ama_lda, ama_lda_summaries)\n",
    "#Science topic scores\n",
    "science_anno_post_tm_scores = tm_similarity(anno_science_lda, science_lda_summaries)\n",
    "#Poke topic scores\n",
    "poke_anno_post_tm_scores = tm_similarity(anno_poke_lda, poke_lda_summaries)\n",
    "\n",
    "#Join dicts\n",
    "anno_post_tm_scores = {**ama_anno_post_tm_scores, **science_anno_post_tm_scores}\n",
    "anno_post_tm_scores = {**anno_post_tm_scores, **poke_anno_post_tm_scores}"
   ]
  },
  {
   "cell_type": "code",
   "execution_count": 211,
   "metadata": {},
   "outputs": [],
   "source": [
    "ama_sub_len_avg = avg_sub_post_length(ama_posts_clean)\n",
    "science_sub_len_avg = avg_sub_post_length(science_posts_clean)\n",
    "poke_sub_len_avg = avg_sub_post_length(poke_posts_clean)"
   ]
  },
  {
   "cell_type": "code",
   "execution_count": 212,
   "metadata": {},
   "outputs": [],
   "source": [
    "ama_annot_post_len_scores = post_len_score_calc(annotated_ama, ama_sub_len_avg[0], ama_sub_len_avg[1])\n",
    "science_annot_post_len_scores = post_len_score_calc(annotated_science, science_sub_len_avg[0], science_sub_len_avg[1])\n",
    "poke_annot_post_len_scores = post_len_score_calc(annotated_poke, poke_sub_len_avg[0], poke_sub_len_avg[1])"
   ]
  },
  {
   "cell_type": "code",
   "execution_count": 213,
   "metadata": {},
   "outputs": [],
   "source": [
    "annot_post_len_scores = {**ama_annot_post_len_scores, **science_annot_post_len_scores}\n",
    "annot_post_len_scores = {**annot_post_len_scores, **poke_annot_post_len_scores}"
   ]
  },
  {
   "cell_type": "code",
   "execution_count": 214,
   "metadata": {},
   "outputs": [],
   "source": [
    "annot_caps_and_curses = post_caps_and_curses(annotated_posts)"
   ]
  },
  {
   "cell_type": "code",
   "execution_count": 215,
   "metadata": {},
   "outputs": [],
   "source": [
    "ama_all_avg_tod = get_avg_sub_TOD(ama_posts_clean)\n",
    "science_all_avg_tod = get_avg_sub_TOD(science_posts_clean)\n",
    "poke_all_avg_tod = get_avg_sub_TOD(poke_posts_clean)"
   ]
  },
  {
   "cell_type": "code",
   "execution_count": 216,
   "metadata": {},
   "outputs": [],
   "source": [
    "ama_annot_post_time_scores = get_post_time_scores(annotated_ama, ama_all_avg_tod)"
   ]
  },
  {
   "cell_type": "code",
   "execution_count": 217,
   "metadata": {},
   "outputs": [],
   "source": [
    "science_annot_post_time_scores = get_post_time_scores(annotated_science, science_all_avg_tod)"
   ]
  },
  {
   "cell_type": "code",
   "execution_count": 218,
   "metadata": {},
   "outputs": [],
   "source": [
    "poke_annot_post_time_scores = get_post_time_scores(annotated_poke, poke_all_avg_tod)"
   ]
  },
  {
   "cell_type": "code",
   "execution_count": 219,
   "metadata": {},
   "outputs": [],
   "source": [
    "annot_post_time_scores = {**ama_annot_post_time_scores, **science_annot_post_time_scores}\n",
    "annot_post_time_scores = {**annot_post_time_scores, **poke_annot_post_time_scores}"
   ]
  },
  {
   "cell_type": "code",
   "execution_count": 220,
   "metadata": {},
   "outputs": [],
   "source": [
    "ama_annot_post_reply_perc = post_reply_perc(annotated_ama, ama_all_post_comms)\n",
    "science_annot_post_reply_perc = post_reply_perc(annotated_science, science_all_post_comms)\n",
    "poke_annot_post_reply_perc = post_reply_perc(annotated_poke, poke_all_post_comms)"
   ]
  },
  {
   "cell_type": "code",
   "execution_count": 221,
   "metadata": {},
   "outputs": [],
   "source": [
    "annot_post_reply_perc_scores = {**ama_annot_post_reply_perc, **science_annot_post_reply_perc}\n",
    "annot_post_reply_perc_scores = {**annot_post_reply_perc_scores, **poke_annot_post_reply_perc}"
   ]
  },
  {
   "cell_type": "code",
   "execution_count": 223,
   "metadata": {},
   "outputs": [],
   "source": [
    "# Get Reddit scores for all posts in each subreddit sample\n",
    "# annot_ama_post_reddit_scores = {}\n",
    "# annot_science_post_reddit_scores = {}\n",
    "# annot_poke_post_reddit_scores = {}\n",
    "annot_post_reddit_scores = {}\n",
    "for ix, post in annotated_posts.iterrows():\n",
    "    annot_post_reddit_scores[post[7]] = int(post[4])\n",
    "#     annot_ama_post_reddit_scores[post[7]] = int(post[4])\n",
    "# for ix, post in annotated_science.iterrows():\n",
    "#     annot_science_post_reddit_scores[post[7]] = int(post[4])\n",
    "# for ix, post in annotated_poke.iterrows():\n",
    "#     annot_poke_post_reddit_scores[post[7]] = int(post[4])"
   ]
  },
  {
   "cell_type": "code",
   "execution_count": 224,
   "metadata": {},
   "outputs": [],
   "source": [
    "# annot_post_reddit_scores = {**annot_ama_post_reddit_scores, **annot_science_post_reddit_scores}\n",
    "# annot_post_reddit_scores = {**annot_post_reddit_scores, **annot_poke_post_reddit_scores}"
   ]
  },
  {
   "cell_type": "code",
   "execution_count": 225,
   "metadata": {},
   "outputs": [],
   "source": [
    "annot_post_link_quant = post_link_quantity(annotated_posts)"
   ]
  },
  {
   "cell_type": "code",
   "execution_count": 226,
   "metadata": {},
   "outputs": [],
   "source": [
    "annot_post_question_score = post_Qcount(annotated_posts)"
   ]
  },
  {
   "cell_type": "code",
   "execution_count": 227,
   "metadata": {},
   "outputs": [],
   "source": [
    "# all_comm_sub_rels = {**ama_comm_sub_rels, **science_comm_sub_rels}\n",
    "# all_comm_sub_rels = {**all_comm_sub_rels, **poke_comm_sub_rels}\n",
    "\n",
    "# all_comm_parent_rels = {**ama_comm_parent_rels, **science_comm_parent_rels}\n",
    "# all_comm_parent_rels = {**all_comm_parent_rels, **poke_comm_parent_rels}\n",
    "\n",
    "# all_comm_len_scores = {**ama_comm_len_scores, **science_comm_len_scores}\n",
    "# all_comm_len_scores = {**all_comm_len_scores, **poke_comm_len_scores}\n",
    "\n",
    "# all_comm_time_scores = {**ama_comm_time_scores, **science_comm_time_scores}\n",
    "# all_comm_time_scores = {**all_comm_time_scores, **poke_comm_time_scores}\n",
    "\n",
    "# all_comm_surface_scores = {**ama_comm_surface_scores, **science_comm_surface_scores}\n",
    "# all_comm_surface_scores = {**all_comm_surface_scores, **poke_comm_surface_scores}\n",
    "\n",
    "# all_comm_reply_scores = {**ama_comm_reply_scores, **science_comm_reply_scores}\n",
    "# all_comm_reply_scores = {**all_comm_reply_scores, **poke_comm_reply_scores}\n",
    "\n",
    "# all_comm_reddit_scores = {**ama_comm_reddit_scores, **science_comm_reddit_scores}\n",
    "# all_comm_reddit_scores = {**all_comm_reddit_scores, **poke_comm_reddit_scores}\n",
    "\n",
    "# all_comm_link_quantity = {**ama_comm_link_quantity, **science_comm_link_quantity}\n",
    "# all_comm_link_quantity = {**all_comm_link_quantity, **poke_comm_link_quantity}\n",
    "\n",
    "# all_comm_q_counts = {**ama_comm_q_counts, **science_comm_q_counts}\n",
    "# all_comm_q_counts = {**all_comm_q_counts, **poke_comm_q_counts}"
   ]
  },
  {
   "cell_type": "code",
   "execution_count": 229,
   "metadata": {},
   "outputs": [
    {
     "data": {
      "text/html": [
       "<div>\n",
       "<style>\n",
       "    .dataframe thead tr:only-child th {\n",
       "        text-align: right;\n",
       "    }\n",
       "\n",
       "    .dataframe thead th {\n",
       "        text-align: left;\n",
       "    }\n",
       "\n",
       "    .dataframe tbody tr th {\n",
       "        vertical-align: top;\n",
       "    }\n",
       "</style>\n",
       "<table border=\"1\" class=\"dataframe\">\n",
       "  <thead>\n",
       "    <tr style=\"text-align: right;\">\n",
       "      <th></th>\n",
       "      <th>created_utc</th>\n",
       "      <th>subreddit</th>\n",
       "      <th>author</th>\n",
       "      <th>num_comments</th>\n",
       "      <th>score</th>\n",
       "      <th>title</th>\n",
       "      <th>selftext</th>\n",
       "      <th>id</th>\n",
       "      <th>gilded</th>\n",
       "      <th>subreddit_id</th>\n",
       "    </tr>\n",
       "  </thead>\n",
       "  <tbody>\n",
       "    <tr>\n",
       "      <th>0</th>\n",
       "      <td>1535918035</td>\n",
       "      <td>IAmA</td>\n",
       "      <td>-Neon_Tiger-</td>\n",
       "      <td>11</td>\n",
       "      <td>0</td>\n",
       "      <td>I'm a 21 yr old student that interned, unpaid ...</td>\n",
       "      <td>[https://imgur.com/gallery/7t2kEVO](https://im...</td>\n",
       "      <td>9cezj5</td>\n",
       "      <td>0</td>\n",
       "      <td>t5_2qzb6</td>\n",
       "    </tr>\n",
       "    <tr>\n",
       "      <th>30</th>\n",
       "      <td>1537041442</td>\n",
       "      <td>IAmA</td>\n",
       "      <td>paolo_0</td>\n",
       "      <td>1232</td>\n",
       "      <td>8247</td>\n",
       "      <td>I'm Paolo Cattaneo. I've been travelling solo ...</td>\n",
       "      <td>Hey Reddit! \\nMy name is Paolo. I'm 37yo and 3...</td>\n",
       "      <td>9g4fy4</td>\n",
       "      <td>0</td>\n",
       "      <td>t5_2qzb6</td>\n",
       "    </tr>\n",
       "    <tr>\n",
       "      <th>45</th>\n",
       "      <td>1537135864</td>\n",
       "      <td>IAmA</td>\n",
       "      <td>piedmontsardinia</td>\n",
       "      <td>1</td>\n",
       "      <td>2242</td>\n",
       "      <td>Hi! We're the organizers of HackUMass, one of ...</td>\n",
       "      <td>Link to the AMA: https://www.reddit.com/r/umas...</td>\n",
       "      <td>9geoxx</td>\n",
       "      <td>0</td>\n",
       "      <td>t5_2qzb6</td>\n",
       "    </tr>\n",
       "    <tr>\n",
       "      <th>46</th>\n",
       "      <td>1537138897</td>\n",
       "      <td>IAmA</td>\n",
       "      <td>SamRendina</td>\n",
       "      <td>30</td>\n",
       "      <td>9</td>\n",
       "      <td>Dear reddit, I am a musician whose worked tire...</td>\n",
       "      <td>It's been a chaotic journey and I've only just...</td>\n",
       "      <td>9gf1zo</td>\n",
       "      <td>0</td>\n",
       "      <td>t5_2qzb6</td>\n",
       "    </tr>\n",
       "    <tr>\n",
       "      <th>61</th>\n",
       "      <td>1536366954</td>\n",
       "      <td>IAmA</td>\n",
       "      <td>youthvgovthefilm</td>\n",
       "      <td>19</td>\n",
       "      <td>33</td>\n",
       "      <td>I am a documentary filmmaker covering the land...</td>\n",
       "      <td>I'm a documentary filmmaker and have been foll...</td>\n",
       "      <td>9e03z7</td>\n",
       "      <td>0</td>\n",
       "      <td>t5_2qzb6</td>\n",
       "    </tr>\n",
       "  </tbody>\n",
       "</table>\n",
       "</div>"
      ],
      "text/plain": [
       "    created_utc subreddit            author  num_comments  score  \\\n",
       "0    1535918035      IAmA      -Neon_Tiger-            11      0   \n",
       "30   1537041442      IAmA           paolo_0          1232   8247   \n",
       "45   1537135864      IAmA  piedmontsardinia             1   2242   \n",
       "46   1537138897      IAmA        SamRendina            30      9   \n",
       "61   1536366954      IAmA  youthvgovthefilm            19     33   \n",
       "\n",
       "                                                title  \\\n",
       "0   I'm a 21 yr old student that interned, unpaid ...   \n",
       "30  I'm Paolo Cattaneo. I've been travelling solo ...   \n",
       "45  Hi! We're the organizers of HackUMass, one of ...   \n",
       "46  Dear reddit, I am a musician whose worked tire...   \n",
       "61  I am a documentary filmmaker covering the land...   \n",
       "\n",
       "                                             selftext      id  gilded  \\\n",
       "0   [https://imgur.com/gallery/7t2kEVO](https://im...  9cezj5       0   \n",
       "30  Hey Reddit! \\nMy name is Paolo. I'm 37yo and 3...  9g4fy4       0   \n",
       "45  Link to the AMA: https://www.reddit.com/r/umas...  9geoxx       0   \n",
       "46  It's been a chaotic journey and I've only just...  9gf1zo       0   \n",
       "61  I'm a documentary filmmaker and have been foll...  9e03z7       0   \n",
       "\n",
       "   subreddit_id  \n",
       "0      t5_2qzb6  \n",
       "30     t5_2qzb6  \n",
       "45     t5_2qzb6  \n",
       "46     t5_2qzb6  \n",
       "61     t5_2qzb6  "
      ]
     },
     "execution_count": 229,
     "metadata": {},
     "output_type": "execute_result"
    }
   ],
   "source": [
    "annotated_posts.head(5)"
   ]
  },
  {
   "cell_type": "code",
   "execution_count": 232,
   "metadata": {},
   "outputs": [
    {
     "name": "stdout",
     "output_type": "stream",
     "text": [
      "371\n"
     ]
    }
   ],
   "source": [
    "master_anno_post_scores = {}\n",
    "for ix, row in annotated_posts.iterrows():\n",
    "    temp = []\n",
    "    temp.append(anno_post_tm_scores[row[7]]) # Subreddit relevance score\n",
    "    temp.append(annot_post_len_scores[row[7]]) # Length score\n",
    "    temp.append(annot_post_time_scores[row[7]]) # Time score\n",
    "    temp.append(annot_caps_and_curses[row[7]][0]) # Capitals score\n",
    "    temp.append(annot_caps_and_curses[row[7]][1]) # Curses score\n",
    "    temp.append(annot_post_reply_perc_scores[row[7]]) # Reply Percentage score\n",
    "    temp.append(annot_post_reddit_scores[row[7]]) # Reddit (Wilson) score\n",
    "    temp.append(annot_post_link_quant[row[7]]) # Link Quantity score\n",
    "    temp.append(annot_post_question_score[row[7]]) #Question Count score\n",
    "    master_anno_post_scores[row[7]] = temp\n",
    "print(len(master_anno_post_scores))"
   ]
  },
  {
   "cell_type": "code",
   "execution_count": 244,
   "metadata": {},
   "outputs": [
    {
     "name": "stdout",
     "output_type": "stream",
     "text": [
      "        id  rating\n",
      "64  9fagqy       4\n",
      "0   9fagqy       4\n",
      "**\n",
      "       id  rating\n",
      "1  9f5yng       5\n",
      "3  9f5yng       5\n",
      "**\n",
      "        id  rating\n",
      "25  9k2va9       1\n",
      "5   9k2va9       2\n",
      "**\n",
      "        id  rating\n",
      "13  9jqlod       4\n",
      "7   9jqlod       5\n",
      "**\n",
      "        id  rating\n",
      "57  9c4mgd       2\n",
      "8   9c4mgd       5\n",
      "**\n",
      "        id  rating\n",
      "17  9jona3       5\n",
      "10  9jona3       5\n",
      "**\n",
      "        id  rating\n",
      "58  9hjujp       3\n",
      "12  9hjujp       3\n",
      "**\n",
      "        id  rating\n",
      "46  9gf1zo       4\n",
      "14  9gf1zo       2\n",
      "**\n",
      "        id  rating\n",
      "18  9jg8ue       3\n",
      "15  9jg8ue       3\n",
      "**\n",
      "        id  rating\n",
      "20  9ioch3       1\n",
      "16  9ioch3       5\n",
      "**\n",
      "        id  rating\n",
      "60  9d7gl9       3\n",
      "19  9d7gl9       3\n",
      "**\n",
      "        id  rating\n",
      "54  9g4fy4       4\n",
      "20  9g4fy4       4\n",
      "**\n",
      "        id  rating\n",
      "37  9ijsf5       2\n",
      "24  9ijsf5       3\n",
      "**\n",
      "        id  rating\n",
      "42  9ik1yw       5\n",
      "26  9ik1yw       5\n",
      "**\n",
      "        id  rating\n",
      "45  9dmll5       3\n",
      "31  9dmll5       4\n",
      "**\n",
      "        id  rating\n",
      "28  9e03z7       4\n",
      "33  9e03z7       4\n",
      "**\n",
      "        id  rating\n",
      "15  9dj8h7       4\n",
      "34  9dj8h7       5\n",
      "**\n",
      "        id  rating\n",
      "39  9c7fxk       3\n",
      "36  9c7fxk       2\n",
      "**\n",
      "        id  rating\n",
      "27  9hub5t       3\n",
      "41  9hub5t       4\n",
      "**\n",
      "        id  rating\n",
      "43  9iv1lr       3\n",
      "44  9iv1lr       2\n",
      "**\n",
      "        id  rating\n",
      "35  9fwcdq       2\n",
      "49  9fwcdq       3\n",
      "**\n",
      "        id  rating\n",
      "65  9iso2g       2\n",
      "50  9iso2g       4\n",
      "**\n",
      "        id  rating\n",
      "31  9ftmet       1\n",
      "54  9ftmet       1\n",
      "**\n",
      "        id  rating\n",
      "3   9hgt60       4\n",
      "58  9hgt60       2\n",
      "**\n",
      "        id  rating\n",
      "63  9geoxx       2\n",
      "59  9geoxx       2\n",
      "**\n",
      "        id  rating\n",
      "62  9dig4s       5\n",
      "60  9dig4s       3\n",
      "**\n",
      "        id  rating\n",
      "66  9i9ovv       3\n",
      "61  9i9ovv       3\n",
      "**\n",
      "        id  rating\n",
      "38  9cx49y       2\n",
      "62  9cx49y       2\n",
      "**\n",
      "        id  rating\n",
      "2   9cv6d2       4\n",
      "65  9cv6d2       3\n",
      "**\n",
      "         id  rating\n",
      "130  9dccj4       1\n",
      "132  9dccj4       3\n",
      "**\n",
      "         id  rating\n",
      "200  9hrqxy       2\n",
      "195  9hrqxy       3\n",
      "**\n"
     ]
    }
   ],
   "source": [
    "# len(set(df_anno_post_scores['id'].tolist()))\n",
    "duplicates = post_anno_f[post_anno_f['id'].duplicated() == True].values.tolist()\n",
    "\n",
    "for dup in duplicates:\n",
    "    print(post_anno_f[post_anno_f['id'] == dup[0]])\n",
    "    print('**')"
   ]
  },
  {
   "cell_type": "code",
   "execution_count": 289,
   "metadata": {},
   "outputs": [
    {
     "name": "stdout",
     "output_type": "stream",
     "text": [
      "(371, 11)\n"
     ]
    },
    {
     "data": {
      "text/html": [
       "<div>\n",
       "<style>\n",
       "    .dataframe thead tr:only-child th {\n",
       "        text-align: right;\n",
       "    }\n",
       "\n",
       "    .dataframe thead th {\n",
       "        text-align: left;\n",
       "    }\n",
       "\n",
       "    .dataframe tbody tr th {\n",
       "        vertical-align: top;\n",
       "    }\n",
       "</style>\n",
       "<table border=\"1\" class=\"dataframe\">\n",
       "  <thead>\n",
       "    <tr style=\"text-align: right;\">\n",
       "      <th></th>\n",
       "      <th>id</th>\n",
       "      <th>sub_rel</th>\n",
       "      <th>length</th>\n",
       "      <th>time</th>\n",
       "      <th>capitals</th>\n",
       "      <th>curses</th>\n",
       "      <th>replies</th>\n",
       "      <th>wilson</th>\n",
       "      <th>links</th>\n",
       "      <th>qcount</th>\n",
       "      <th>rating</th>\n",
       "    </tr>\n",
       "  </thead>\n",
       "  <tbody>\n",
       "    <tr>\n",
       "      <th>0</th>\n",
       "      <td>9bywep</td>\n",
       "      <td>0.42</td>\n",
       "      <td>0.757302</td>\n",
       "      <td>8.963843</td>\n",
       "      <td>0.0</td>\n",
       "      <td>0.0</td>\n",
       "      <td>0.001923</td>\n",
       "      <td>1489.0</td>\n",
       "      <td>0.000000</td>\n",
       "      <td>0.0</td>\n",
       "      <td>4.0</td>\n",
       "    </tr>\n",
       "    <tr>\n",
       "      <th>1</th>\n",
       "      <td>9c1c39</td>\n",
       "      <td>0.26</td>\n",
       "      <td>0.669872</td>\n",
       "      <td>8.240465</td>\n",
       "      <td>0.0</td>\n",
       "      <td>0.0</td>\n",
       "      <td>0.000019</td>\n",
       "      <td>11.0</td>\n",
       "      <td>0.000000</td>\n",
       "      <td>0.0</td>\n",
       "      <td>3.0</td>\n",
       "    </tr>\n",
       "    <tr>\n",
       "      <th>2</th>\n",
       "      <td>9c2od0</td>\n",
       "      <td>0.00</td>\n",
       "      <td>0.627405</td>\n",
       "      <td>3.102824</td>\n",
       "      <td>0.0</td>\n",
       "      <td>0.0</td>\n",
       "      <td>0.000000</td>\n",
       "      <td>0.0</td>\n",
       "      <td>0.000000</td>\n",
       "      <td>0.0</td>\n",
       "      <td>1.0</td>\n",
       "    </tr>\n",
       "    <tr>\n",
       "      <th>3</th>\n",
       "      <td>9c4fbt</td>\n",
       "      <td>0.20</td>\n",
       "      <td>0.319505</td>\n",
       "      <td>0.962335</td>\n",
       "      <td>0.0</td>\n",
       "      <td>0.0</td>\n",
       "      <td>0.000000</td>\n",
       "      <td>13.0</td>\n",
       "      <td>0.000000</td>\n",
       "      <td>0.0</td>\n",
       "      <td>2.0</td>\n",
       "    </tr>\n",
       "    <tr>\n",
       "      <th>4</th>\n",
       "      <td>9c4mgd</td>\n",
       "      <td>0.37</td>\n",
       "      <td>5.427266</td>\n",
       "      <td>1.394904</td>\n",
       "      <td>0.0</td>\n",
       "      <td>0.0</td>\n",
       "      <td>0.000895</td>\n",
       "      <td>59.0</td>\n",
       "      <td>0.014337</td>\n",
       "      <td>0.0</td>\n",
       "      <td>3.5</td>\n",
       "    </tr>\n",
       "  </tbody>\n",
       "</table>\n",
       "</div>"
      ],
      "text/plain": [
       "       id  sub_rel    length      time  capitals  curses   replies  wilson  \\\n",
       "0  9bywep     0.42  0.757302  8.963843       0.0     0.0  0.001923  1489.0   \n",
       "1  9c1c39     0.26  0.669872  8.240465       0.0     0.0  0.000019    11.0   \n",
       "2  9c2od0     0.00  0.627405  3.102824       0.0     0.0  0.000000     0.0   \n",
       "3  9c4fbt     0.20  0.319505  0.962335       0.0     0.0  0.000000    13.0   \n",
       "4  9c4mgd     0.37  5.427266  1.394904       0.0     0.0  0.000895    59.0   \n",
       "\n",
       "      links  qcount  rating  \n",
       "0  0.000000     0.0     4.0  \n",
       "1  0.000000     0.0     3.0  \n",
       "2  0.000000     0.0     1.0  \n",
       "3  0.000000     0.0     2.0  \n",
       "4  0.014337     0.0     3.5  "
      ]
     },
     "execution_count": 289,
     "metadata": {},
     "output_type": "execute_result"
    }
   ],
   "source": [
    "df_anno_post_scores = pd.DataFrame(master_anno_post_scores)\n",
    "df_anno_post_scores = df_anno_post_scores.transpose()\n",
    "df_anno_post_scores = df_anno_post_scores.reset_index()\n",
    "df_anno_post_scores.columns = ['id', 'sub_rel', 'length', 'time', 'capitals', 'curses', 'replies', 'wilson', 'links', 'qcount']\n",
    "master_anno_posts = pd.merge(df_anno_post_scores, post_anno_f, left_on='id', right_on='id')\n",
    "# master_anno_posts = master_anno_posts[['id', 'rating', 'sub_rel', 'length', 'time', 'capitals', 'curses', 'replies', 'wilson', 'links', 'qcount']]\n",
    "master_anno_posts = master_anno_posts.groupby('id').mean().reset_index()\n",
    "print(master_anno_posts.shape)\n",
    "master_anno_posts.head(5)"
   ]
  },
  {
   "cell_type": "markdown",
   "metadata": {},
   "source": [
    "### Annotated Comment Score Calculations"
   ]
  },
  {
   "cell_type": "code",
   "execution_count": 252,
   "metadata": {},
   "outputs": [
    {
     "data": {
      "text/plain": [
       "172"
      ]
     },
     "execution_count": 252,
     "metadata": {},
     "output_type": "execute_result"
    }
   ],
   "source": [
    "links = []\n",
    "for ix, c in annotated_comms.iterrows():\n",
    "    link_id = c[4][3:]\n",
    "    links.append(link_id)\n",
    "len(set(links))"
   ]
  },
  {
   "cell_type": "code",
   "execution_count": 253,
   "metadata": {},
   "outputs": [],
   "source": [
    "ann_comm_parents_df = all_posts_clean[all_posts_clean['id'].isin(links)]"
   ]
  },
  {
   "cell_type": "code",
   "execution_count": 254,
   "metadata": {},
   "outputs": [
    {
     "name": "stdout",
     "output_type": "stream",
     "text": [
      "4\n"
     ]
    }
   ],
   "source": [
    "drop = []\n",
    "for l in links:\n",
    "    if l not in ann_comm_parents_df['id'].tolist():\n",
    "        drop.append('t3_'+l)\n",
    "print(len(drop))"
   ]
  },
  {
   "cell_type": "code",
   "execution_count": 255,
   "metadata": {},
   "outputs": [
    {
     "data": {
      "text/plain": [
       "(398, 10)"
      ]
     },
     "execution_count": 255,
     "metadata": {},
     "output_type": "execute_result"
    }
   ],
   "source": [
    "annotated_comm_clean = annotated_comms[~annotated_comms['link_id'].isin(drop)]\n",
    "annotated_comm_clean.shape"
   ]
  },
  {
   "cell_type": "code",
   "execution_count": 256,
   "metadata": {},
   "outputs": [
    {
     "name": "stdout",
     "output_type": "stream",
     "text": [
      "(POSTS):  0.5952380952380952\n",
      "(POSTS):  1.1904761904761905\n",
      "(POSTS):  1.7857142857142856\n",
      "(POSTS):  2.380952380952381\n",
      "(POSTS):  2.976190476190476\n",
      "(POSTS):  3.571428571428571\n",
      "(POSTS):  4.166666666666666\n",
      "(POSTS):  4.761904761904762\n",
      "(POSTS):  5.357142857142857\n",
      "(POSTS):  5.952380952380952\n",
      "(POSTS):  6.547619047619048\n",
      "(POSTS):  7.142857142857142\n",
      "(POSTS):  7.738095238095238\n",
      "(POSTS):  8.333333333333332\n",
      "(POSTS):  8.928571428571429\n",
      "(POSTS):  9.523809523809524\n",
      "(POSTS):  10.119047619047619\n",
      "(POSTS):  10.714285714285714\n",
      "(POSTS):  11.30952380952381\n",
      "(POSTS):  11.904761904761903\n",
      "(POSTS):  12.5\n",
      "(POSTS):  13.095238095238097\n",
      "(POSTS):  13.690476190476192\n",
      "(POSTS):  14.285714285714285\n",
      "(POSTS):  14.880952380952381\n",
      "(POSTS):  15.476190476190476\n",
      "(POSTS):  16.071428571428573\n",
      "(POSTS):  16.666666666666664\n",
      "(POSTS):  17.261904761904763\n",
      "(POSTS):  17.857142857142858\n",
      "(POSTS):  18.452380952380953\n",
      "(POSTS):  19.047619047619047\n",
      "(POSTS):  19.642857142857142\n",
      "(POSTS):  20.238095238095237\n",
      "(POSTS):  20.833333333333336\n",
      "(POSTS):  21.428571428571427\n",
      "(POSTS):  22.023809523809522\n",
      "(POSTS):  22.61904761904762\n",
      "(POSTS):  23.214285714285715\n",
      "(POSTS):  23.809523809523807\n",
      "(POSTS):  24.404761904761905\n",
      "(POSTS):  25.0\n",
      "(POSTS):  25.595238095238095\n",
      "(POSTS):  26.190476190476193\n",
      "(POSTS):  26.785714285714285\n",
      "(POSTS):  27.380952380952383\n",
      "(POSTS):  27.976190476190478\n",
      "(POSTS):  28.57142857142857\n",
      "(POSTS):  29.166666666666668\n",
      "(POSTS):  29.761904761904763\n",
      "(POSTS):  30.357142857142854\n",
      "(POSTS):  30.952380952380953\n",
      "(POSTS):  31.547619047619047\n",
      "(POSTS):  32.142857142857146\n",
      "(POSTS):  32.73809523809524\n",
      "(POSTS):  33.33333333333333\n",
      "(POSTS):  33.92857142857143\n",
      "(POSTS):  34.523809523809526\n",
      "(POSTS):  35.11904761904761\n",
      "(POSTS):  35.714285714285715\n",
      "(POSTS):  36.30952380952381\n",
      "(POSTS):  36.904761904761905\n",
      "(POSTS):  37.5\n",
      "(POSTS):  38.095238095238095\n",
      "(POSTS):  38.69047619047619\n",
      "(POSTS):  39.285714285714285\n",
      "(POSTS):  39.88095238095239\n",
      "(POSTS):  40.476190476190474\n",
      "(POSTS):  41.07142857142857\n",
      "(POSTS):  41.66666666666667\n",
      "(POSTS):  42.26190476190476\n",
      "(POSTS):  42.857142857142854\n",
      "(POSTS):  43.452380952380956\n",
      "(POSTS):  44.047619047619044\n",
      "(POSTS):  44.642857142857146\n",
      "(POSTS):  45.23809523809524\n",
      "(POSTS):  45.83333333333333\n",
      "(POSTS):  46.42857142857143\n",
      "(POSTS):  47.023809523809526\n",
      "(POSTS):  47.61904761904761\n",
      "(POSTS):  48.214285714285715\n",
      "(POSTS):  48.80952380952381\n",
      "(POSTS):  49.404761904761905\n",
      "(POSTS):  50.0\n",
      "(POSTS):  50.595238095238095\n",
      "(POSTS):  51.19047619047619\n",
      "(POSTS):  51.78571428571429\n",
      "(POSTS):  52.38095238095239\n",
      "(POSTS):  52.976190476190474\n",
      "(POSTS):  53.57142857142857\n",
      "(POSTS):  54.166666666666664\n",
      "(POSTS):  54.761904761904766\n",
      "(POSTS):  55.35714285714286\n",
      "(POSTS):  55.952380952380956\n",
      "(POSTS):  56.547619047619044\n",
      "(POSTS):  57.14285714285714\n",
      "(POSTS):  57.738095238095234\n",
      "(POSTS):  58.333333333333336\n",
      "(POSTS):  58.92857142857143\n",
      "(POSTS):  59.523809523809526\n",
      "(POSTS):  60.11904761904761\n",
      "(POSTS):  60.71428571428571\n",
      "(POSTS):  61.30952380952381\n",
      "(POSTS):  61.904761904761905\n",
      "(POSTS):  62.5\n",
      "(POSTS):  63.095238095238095\n",
      "(POSTS):  63.69047619047619\n",
      "(POSTS):  64.28571428571429\n",
      "(POSTS):  64.88095238095238\n",
      "(POSTS):  65.47619047619048\n",
      "(POSTS):  66.07142857142857\n",
      "(POSTS):  66.66666666666666\n",
      "(POSTS):  67.26190476190477\n",
      "(POSTS):  67.85714285714286\n",
      "(POSTS):  68.45238095238095\n",
      "(POSTS):  69.04761904761905\n",
      "(POSTS):  69.64285714285714\n",
      "(POSTS):  70.23809523809523\n",
      "(POSTS):  70.83333333333334\n",
      "(POSTS):  71.42857142857143\n",
      "(POSTS):  72.02380952380952\n",
      "(POSTS):  72.61904761904762\n",
      "(POSTS):  73.21428571428571\n",
      "(POSTS):  73.80952380952381\n",
      "(POSTS):  74.40476190476191\n",
      "(POSTS):  75.0\n",
      "(POSTS):  75.59523809523809\n",
      "(POSTS):  76.19047619047619\n",
      "(POSTS):  76.78571428571429\n",
      "(POSTS):  77.38095238095238\n",
      "(POSTS):  77.97619047619048\n",
      "(POSTS):  78.57142857142857\n",
      "(POSTS):  79.16666666666666\n",
      "(POSTS):  79.76190476190477\n",
      "(POSTS):  80.35714285714286\n",
      "(POSTS):  80.95238095238095\n",
      "(POSTS):  81.54761904761905\n",
      "(POSTS):  82.14285714285714\n",
      "(POSTS):  82.73809523809523\n",
      "(POSTS):  83.33333333333334\n",
      "(POSTS):  83.92857142857143\n",
      "(POSTS):  84.52380952380952\n",
      "(POSTS):  85.11904761904762\n",
      "(POSTS):  85.71428571428571\n",
      "(POSTS):  86.30952380952381\n",
      "(POSTS):  86.90476190476191\n",
      "(POSTS):  87.5\n",
      "(POSTS):  88.09523809523809\n",
      "(POSTS):  88.69047619047619\n",
      "(POSTS):  89.28571428571429\n",
      "(POSTS):  89.88095238095238\n",
      "(POSTS):  90.47619047619048\n",
      "(POSTS):  91.07142857142857\n",
      "(POSTS):  91.66666666666666\n",
      "(POSTS):  92.26190476190477\n",
      "(POSTS):  92.85714285714286\n",
      "(POSTS):  93.45238095238095\n",
      "(POSTS):  94.04761904761905\n",
      "(POSTS):  94.64285714285714\n",
      "(POSTS):  95.23809523809523\n",
      "(POSTS):  95.83333333333334\n",
      "(POSTS):  96.42857142857143\n",
      "(POSTS):  97.02380952380952\n",
      "(POSTS):  97.61904761904762\n",
      "(POSTS):  98.21428571428571\n",
      "(POSTS):  98.80952380952381\n",
      "(POSTS):  99.40476190476191\n",
      "(POSTS):  100.0\n",
      "(STAGE TWO):  50.297619047619044\n",
      "(STAGE TWO):  50.595238095238095\n",
      "(STAGE TWO):  50.89285714285714\n",
      "(STAGE TWO):  51.19047619047619\n",
      "(STAGE TWO):  51.488095238095234\n",
      "(STAGE TWO):  51.78571428571429\n",
      "(STAGE TWO):  52.083333333333336\n",
      "(STAGE TWO):  52.38095238095239\n",
      "(STAGE TWO):  52.67857142857143\n",
      "(STAGE TWO):  52.976190476190474\n",
      "(STAGE TWO):  53.273809523809526\n",
      "(STAGE TWO):  53.57142857142857\n",
      "(STAGE TWO):  53.86904761904761\n",
      "(STAGE TWO):  54.166666666666664\n",
      "(STAGE TWO):  54.46428571428571\n",
      "(STAGE TWO):  54.761904761904766\n",
      "(STAGE TWO):  55.05952380952381\n",
      "(STAGE TWO):  55.35714285714286\n",
      "(STAGE TWO):  55.654761904761905\n",
      "(STAGE TWO):  55.952380952380956\n",
      "(STAGE TWO):  56.25\n",
      "(STAGE TWO):  56.547619047619044\n",
      "(STAGE TWO):  56.845238095238095\n",
      "(STAGE TWO):  57.14285714285714\n",
      "(STAGE TWO):  57.44047619047619\n",
      "(STAGE TWO):  57.738095238095234\n",
      "(STAGE TWO):  58.03571428571429\n",
      "(STAGE TWO):  58.333333333333336\n",
      "(STAGE TWO):  58.63095238095239\n",
      "(STAGE TWO):  58.92857142857143\n",
      "(STAGE TWO):  59.226190476190474\n",
      "(STAGE TWO):  59.523809523809526\n",
      "(STAGE TWO):  59.82142857142857\n",
      "(STAGE TWO):  60.11904761904761\n",
      "(STAGE TWO):  60.416666666666664\n",
      "(STAGE TWO):  60.71428571428571\n",
      "(STAGE TWO):  61.011904761904766\n",
      "(STAGE TWO):  61.30952380952381\n",
      "(STAGE TWO):  61.60714285714286\n",
      "(STAGE TWO):  61.904761904761905\n",
      "(STAGE TWO):  62.202380952380956\n",
      "(STAGE TWO):  62.5\n",
      "(STAGE TWO):  62.797619047619044\n",
      "(STAGE TWO):  63.095238095238095\n",
      "(STAGE TWO):  63.39285714285714\n",
      "(STAGE TWO):  63.69047619047619\n",
      "(STAGE TWO):  63.988095238095234\n",
      "(STAGE TWO):  64.28571428571429\n",
      "(STAGE TWO):  64.58333333333334\n",
      "(STAGE TWO):  64.88095238095238\n",
      "(STAGE TWO):  65.17857142857143\n",
      "(STAGE TWO):  65.47619047619048\n",
      "(STAGE TWO):  65.77380952380952\n",
      "(STAGE TWO):  66.07142857142857\n",
      "(STAGE TWO):  66.36904761904762\n",
      "(STAGE TWO):  66.66666666666666\n",
      "(STAGE TWO):  66.96428571428571\n",
      "(STAGE TWO):  67.26190476190477\n",
      "(STAGE TWO):  67.55952380952381\n",
      "(STAGE TWO):  67.85714285714286\n",
      "(STAGE TWO):  68.15476190476191\n",
      "(STAGE TWO):  68.45238095238095\n",
      "(STAGE TWO):  68.75\n",
      "(STAGE TWO):  69.04761904761905\n",
      "(STAGE TWO):  69.34523809523809\n",
      "(STAGE TWO):  69.64285714285714\n",
      "(STAGE TWO):  69.94047619047619\n",
      "(STAGE TWO):  70.23809523809523\n",
      "(STAGE TWO):  70.53571428571429\n",
      "(STAGE TWO):  70.83333333333334\n",
      "(STAGE TWO):  71.13095238095238\n",
      "(STAGE TWO):  71.42857142857143\n",
      "(STAGE TWO):  71.72619047619048\n",
      "(STAGE TWO):  72.02380952380952\n",
      "(STAGE TWO):  72.32142857142857\n",
      "(STAGE TWO):  72.61904761904762\n",
      "(STAGE TWO):  72.91666666666666\n",
      "(STAGE TWO):  73.21428571428571\n",
      "(STAGE TWO):  73.51190476190477\n",
      "(STAGE TWO):  73.80952380952381\n",
      "(STAGE TWO):  74.10714285714286\n",
      "(STAGE TWO):  74.40476190476191\n",
      "(STAGE TWO):  74.70238095238095\n",
      "(STAGE TWO):  75.0\n",
      "(STAGE TWO):  75.29761904761905\n",
      "(STAGE TWO):  75.59523809523809\n",
      "(STAGE TWO):  75.89285714285714\n",
      "(STAGE TWO):  76.19047619047619\n",
      "(STAGE TWO):  76.48809523809523\n",
      "(STAGE TWO):  76.78571428571429\n",
      "(STAGE TWO):  77.08333333333334\n",
      "(STAGE TWO):  77.38095238095238\n",
      "(STAGE TWO):  77.67857142857143\n",
      "(STAGE TWO):  77.97619047619048\n",
      "(STAGE TWO):  78.27380952380952\n",
      "(STAGE TWO):  78.57142857142857\n",
      "(STAGE TWO):  78.86904761904762\n",
      "(STAGE TWO):  79.16666666666666\n",
      "(STAGE TWO):  79.46428571428571\n",
      "(STAGE TWO):  79.76190476190477\n",
      "(STAGE TWO):  80.05952380952381\n",
      "(STAGE TWO):  80.35714285714286\n",
      "(STAGE TWO):  80.65476190476191\n",
      "(STAGE TWO):  80.95238095238095\n",
      "(STAGE TWO):  81.25\n",
      "(STAGE TWO):  81.54761904761905\n",
      "(STAGE TWO):  81.84523809523809\n",
      "(STAGE TWO):  82.14285714285714\n",
      "(STAGE TWO):  82.44047619047619\n",
      "(STAGE TWO):  82.73809523809523\n",
      "(STAGE TWO):  83.03571428571429\n",
      "(STAGE TWO):  83.33333333333334\n",
      "(STAGE TWO):  83.63095238095238\n",
      "(STAGE TWO):  83.92857142857143\n",
      "(STAGE TWO):  84.22619047619048\n",
      "(STAGE TWO):  84.52380952380952\n",
      "(STAGE TWO):  84.82142857142857\n",
      "(STAGE TWO):  85.11904761904762\n",
      "(STAGE TWO):  85.41666666666666\n",
      "(STAGE TWO):  85.71428571428571\n",
      "(STAGE TWO):  86.01190476190477\n",
      "(STAGE TWO):  86.30952380952381\n",
      "(STAGE TWO):  86.60714285714286\n",
      "(STAGE TWO):  86.90476190476191\n",
      "(STAGE TWO):  87.20238095238095\n",
      "(STAGE TWO):  87.5\n",
      "(STAGE TWO):  87.79761904761905\n",
      "(STAGE TWO):  88.09523809523809\n",
      "(STAGE TWO):  88.39285714285714\n",
      "(STAGE TWO):  88.69047619047619\n",
      "(STAGE TWO):  88.98809523809523\n",
      "(STAGE TWO):  89.28571428571429\n",
      "(STAGE TWO):  89.58333333333334\n",
      "(STAGE TWO):  89.88095238095238\n",
      "(STAGE TWO):  90.17857142857143\n",
      "(STAGE TWO):  90.47619047619048\n",
      "(STAGE TWO):  90.77380952380952\n",
      "(STAGE TWO):  91.07142857142857\n",
      "(STAGE TWO):  91.36904761904762\n",
      "(STAGE TWO):  91.66666666666666\n",
      "(STAGE TWO):  91.96428571428571\n",
      "(STAGE TWO):  92.26190476190477\n",
      "(STAGE TWO):  92.55952380952381\n",
      "(STAGE TWO):  92.85714285714286\n",
      "(STAGE TWO):  93.15476190476191\n",
      "(STAGE TWO):  93.45238095238095\n",
      "(STAGE TWO):  93.75\n",
      "(STAGE TWO):  94.04761904761905\n",
      "(STAGE TWO):  94.34523809523809\n",
      "(STAGE TWO):  94.64285714285714\n",
      "(STAGE TWO):  94.94047619047619\n",
      "(STAGE TWO):  95.23809523809523\n",
      "(STAGE TWO):  95.53571428571429\n",
      "(STAGE TWO):  95.83333333333334\n",
      "(STAGE TWO):  96.13095238095238\n",
      "(STAGE TWO):  96.42857142857143\n",
      "(STAGE TWO):  96.72619047619048\n",
      "(STAGE TWO):  97.02380952380952\n",
      "(STAGE TWO):  97.32142857142857\n",
      "(STAGE TWO):  97.61904761904762\n",
      "(STAGE TWO):  97.91666666666666\n",
      "(STAGE TWO):  98.21428571428571\n",
      "(STAGE TWO):  98.51190476190477\n",
      "(STAGE TWO):  98.80952380952381\n",
      "(STAGE TWO):  99.10714285714286\n",
      "(STAGE TWO):  99.40476190476191\n",
      "(STAGE TWO):  99.70238095238095\n",
      "(STAGE TWO):  100.0\n"
     ]
    }
   ],
   "source": [
    "annotated_comm_parent_bows = create_post_BOWs(ann_comm_parents_df)"
   ]
  },
  {
   "cell_type": "code",
   "execution_count": 257,
   "metadata": {},
   "outputs": [],
   "source": [
    "anno_ama_comm_clean = annotated_comm_clean[annotated_comm_clean['subreddit'] == 'IAmA']\n",
    "anno_science_comm_clean = annotated_comm_clean[annotated_comm_clean['subreddit'] == 'science']\n",
    "anno_poke_comm_clean = annotated_comm_clean[annotated_comm_clean['subreddit'] == 'pokemon']"
   ]
  },
  {
   "cell_type": "code",
   "execution_count": 258,
   "metadata": {},
   "outputs": [
    {
     "name": "stdout",
     "output_type": "stream",
     "text": [
      "(COMM):  0.7518796992481203\n",
      "(COMM):  1.5037593984962405\n",
      "(COMM):  2.2556390977443606\n",
      "(COMM):  3.007518796992481\n",
      "(COMM):  3.7593984962406015\n",
      "(COMM):  4.511278195488721\n",
      "(COMM):  5.263157894736842\n",
      "(COMM):  6.015037593984962\n",
      "(COMM):  6.7669172932330826\n",
      "(COMM):  7.518796992481203\n",
      "(COMM):  8.270676691729323\n",
      "(COMM):  9.022556390977442\n",
      "(COMM):  9.774436090225564\n",
      "(COMM):  10.526315789473683\n",
      "(COMM):  11.278195488721805\n",
      "(COMM):  12.030075187969924\n",
      "(COMM):  12.781954887218044\n",
      "(COMM):  13.533834586466165\n",
      "(COMM):  14.285714285714285\n",
      "(COMM):  15.037593984962406\n",
      "(COMM):  15.789473684210526\n",
      "(COMM):  16.541353383458645\n",
      "(COMM):  17.293233082706767\n",
      "(COMM):  18.045112781954884\n",
      "(COMM):  18.796992481203006\n",
      "(COMM):  19.548872180451127\n",
      "(COMM):  20.30075187969925\n",
      "(COMM):  21.052631578947366\n",
      "(COMM):  21.804511278195488\n",
      "(COMM):  22.55639097744361\n",
      "(COMM):  23.308270676691727\n",
      "(COMM):  24.06015037593985\n",
      "(COMM):  24.81203007518797\n",
      "(COMM):  25.563909774436087\n",
      "(COMM):  26.31578947368421\n",
      "(COMM):  27.06766917293233\n",
      "(COMM):  27.819548872180448\n",
      "(COMM):  28.57142857142857\n",
      "(COMM):  29.32330827067669\n",
      "(COMM):  30.075187969924812\n",
      "(COMM):  30.82706766917293\n",
      "(COMM):  31.57894736842105\n",
      "(COMM):  32.33082706766917\n",
      "(COMM):  33.08270676691729\n",
      "(COMM):  33.83458646616541\n",
      "(COMM):  34.58646616541353\n",
      "(COMM):  35.338345864661655\n",
      "(COMM):  36.09022556390977\n",
      "(COMM):  36.84210526315789\n",
      "(COMM):  37.59398496240601\n",
      "(COMM):  38.34586466165413\n",
      "(COMM):  39.097744360902254\n",
      "(COMM):  39.849624060150376\n",
      "(COMM):  40.6015037593985\n",
      "(COMM):  41.35338345864661\n",
      "(COMM):  42.10526315789473\n",
      "(COMM):  42.857142857142854\n",
      "(COMM):  43.609022556390975\n",
      "(COMM):  44.3609022556391\n",
      "(COMM):  45.11278195488722\n",
      "(COMM):  45.86466165413533\n",
      "(COMM):  46.616541353383454\n",
      "(COMM):  47.368421052631575\n",
      "(COMM):  48.1203007518797\n",
      "(COMM):  48.87218045112782\n",
      "(COMM):  49.62406015037594\n",
      "(COMM):  50.37593984962406\n",
      "(COMM):  51.127819548872175\n",
      "(COMM):  51.8796992481203\n",
      "(COMM):  52.63157894736842\n",
      "(COMM):  53.383458646616546\n",
      "(COMM):  54.13533834586466\n",
      "(COMM):  54.88721804511278\n",
      "(COMM):  55.639097744360896\n",
      "(COMM):  56.390977443609025\n",
      "(COMM):  57.14285714285714\n",
      "(COMM):  57.89473684210527\n",
      "(COMM):  58.64661654135338\n",
      "(COMM):  59.3984962406015\n",
      "(COMM):  60.150375939849624\n",
      "(COMM):  60.902255639097746\n",
      "(COMM):  61.65413533834586\n",
      "(COMM):  62.40601503759399\n",
      "(COMM):  63.1578947368421\n",
      "(COMM):  63.90977443609023\n",
      "(COMM):  64.66165413533834\n",
      "(COMM):  65.41353383458647\n",
      "(COMM):  66.16541353383458\n",
      "(COMM):  66.9172932330827\n",
      "(COMM):  67.66917293233082\n",
      "(COMM):  68.42105263157895\n",
      "(COMM):  69.17293233082707\n",
      "(COMM):  69.92481203007519\n",
      "(COMM):  70.67669172932331\n",
      "(COMM):  71.42857142857143\n",
      "(COMM):  72.18045112781954\n",
      "(COMM):  72.93233082706767\n",
      "(COMM):  73.68421052631578\n",
      "(COMM):  74.43609022556392\n",
      "(COMM):  75.18796992481202\n",
      "(COMM):  75.93984962406014\n",
      "(COMM):  76.69172932330827\n",
      "(COMM):  77.44360902255639\n",
      "(COMM):  78.19548872180451\n",
      "(COMM):  78.94736842105263\n",
      "(COMM):  79.69924812030075\n",
      "(COMM):  80.45112781954887\n",
      "(COMM):  81.203007518797\n",
      "(COMM):  81.95488721804512\n",
      "(COMM):  82.70676691729322\n",
      "(COMM):  83.45864661654136\n",
      "(COMM):  84.21052631578947\n",
      "(COMM):  84.9624060150376\n",
      "(COMM):  85.71428571428571\n",
      "(COMM):  86.46616541353383\n",
      "(COMM):  87.21804511278195\n",
      "(COMM):  87.96992481203007\n",
      "(COMM):  88.7218045112782\n",
      "(COMM):  89.47368421052632\n",
      "(COMM):  90.22556390977444\n",
      "(COMM):  90.97744360902256\n",
      "(COMM):  91.72932330827066\n",
      "(COMM):  92.4812030075188\n",
      "(COMM):  93.23308270676691\n",
      "(COMM):  93.98496240601504\n",
      "(COMM):  94.73684210526315\n",
      "(COMM):  95.48872180451127\n",
      "(COMM):  96.2406015037594\n",
      "(COMM):  96.99248120300751\n",
      "(COMM):  97.74436090225564\n",
      "(COMM):  98.49624060150376\n",
      "(COMM):  99.24812030075188\n",
      "(COMM):  100.0\n",
      "(STAGE TWO):  50.37593984962406\n",
      "(STAGE TWO):  50.75187969924813\n",
      "(STAGE TWO):  51.127819548872175\n",
      "(STAGE TWO):  51.50375939849624\n",
      "(STAGE TWO):  51.8796992481203\n",
      "(STAGE TWO):  52.255639097744364\n",
      "(STAGE TWO):  52.63157894736842\n",
      "(STAGE TWO):  53.00751879699248\n",
      "(STAGE TWO):  53.383458646616546\n",
      "(STAGE TWO):  53.75939849624061\n",
      "(STAGE TWO):  54.13533834586466\n",
      "(STAGE TWO):  54.51127819548872\n",
      "(STAGE TWO):  54.88721804511278\n",
      "(STAGE TWO):  55.26315789473685\n",
      "(STAGE TWO):  55.639097744360896\n",
      "(STAGE TWO):  56.015037593984964\n",
      "(STAGE TWO):  56.390977443609025\n",
      "(STAGE TWO):  56.766917293233085\n",
      "(STAGE TWO):  57.14285714285714\n",
      "(STAGE TWO):  57.5187969924812\n",
      "(STAGE TWO):  57.89473684210527\n",
      "(STAGE TWO):  58.27067669172933\n",
      "(STAGE TWO):  58.64661654135338\n",
      "(STAGE TWO):  59.02255639097744\n",
      "(STAGE TWO):  59.3984962406015\n",
      "(STAGE TWO):  59.77443609022557\n",
      "(STAGE TWO):  60.150375939849624\n",
      "(STAGE TWO):  60.526315789473685\n",
      "(STAGE TWO):  60.902255639097746\n",
      "(STAGE TWO):  61.278195488721806\n",
      "(STAGE TWO):  61.65413533834586\n",
      "(STAGE TWO):  62.03007518796993\n",
      "(STAGE TWO):  62.40601503759399\n",
      "(STAGE TWO):  62.78195488721805\n",
      "(STAGE TWO):  63.1578947368421\n",
      "(STAGE TWO):  63.53383458646616\n",
      "(STAGE TWO):  63.90977443609023\n",
      "(STAGE TWO):  64.28571428571429\n",
      "(STAGE TWO):  64.66165413533834\n",
      "(STAGE TWO):  65.0375939849624\n",
      "(STAGE TWO):  65.41353383458647\n",
      "(STAGE TWO):  65.78947368421053\n",
      "(STAGE TWO):  66.16541353383458\n",
      "(STAGE TWO):  66.54135338345864\n",
      "(STAGE TWO):  66.9172932330827\n",
      "(STAGE TWO):  67.29323308270678\n",
      "(STAGE TWO):  67.66917293233082\n",
      "(STAGE TWO):  68.04511278195488\n",
      "(STAGE TWO):  68.42105263157895\n",
      "(STAGE TWO):  68.796992481203\n",
      "(STAGE TWO):  69.17293233082707\n",
      "(STAGE TWO):  69.54887218045113\n",
      "(STAGE TWO):  69.92481203007519\n",
      "(STAGE TWO):  70.30075187969925\n",
      "(STAGE TWO):  70.67669172932331\n",
      "(STAGE TWO):  71.05263157894737\n",
      "(STAGE TWO):  71.42857142857143\n",
      "(STAGE TWO):  71.80451127819549\n",
      "(STAGE TWO):  72.18045112781954\n",
      "(STAGE TWO):  72.55639097744361\n",
      "(STAGE TWO):  72.93233082706767\n",
      "(STAGE TWO):  73.30827067669173\n",
      "(STAGE TWO):  73.68421052631578\n",
      "(STAGE TWO):  74.06015037593986\n",
      "(STAGE TWO):  74.43609022556392\n",
      "(STAGE TWO):  74.81203007518798\n",
      "(STAGE TWO):  75.18796992481202\n",
      "(STAGE TWO):  75.56390977443608\n",
      "(STAGE TWO):  75.93984962406014\n",
      "(STAGE TWO):  76.31578947368422\n",
      "(STAGE TWO):  76.69172932330827\n",
      "(STAGE TWO):  77.06766917293233\n",
      "(STAGE TWO):  77.44360902255639\n",
      "(STAGE TWO):  77.81954887218046\n",
      "(STAGE TWO):  78.19548872180451\n",
      "(STAGE TWO):  78.57142857142857\n",
      "(STAGE TWO):  78.94736842105263\n",
      "(STAGE TWO):  79.32330827067669\n",
      "(STAGE TWO):  79.69924812030075\n",
      "(STAGE TWO):  80.07518796992481\n",
      "(STAGE TWO):  80.45112781954887\n",
      "(STAGE TWO):  80.82706766917293\n",
      "(STAGE TWO):  81.203007518797\n",
      "(STAGE TWO):  81.57894736842105\n",
      "(STAGE TWO):  81.95488721804512\n",
      "(STAGE TWO):  82.33082706766918\n",
      "(STAGE TWO):  82.70676691729322\n",
      "(STAGE TWO):  83.0827067669173\n",
      "(STAGE TWO):  83.45864661654136\n",
      "(STAGE TWO):  83.83458646616542\n",
      "(STAGE TWO):  84.21052631578947\n",
      "(STAGE TWO):  84.58646616541353\n",
      "(STAGE TWO):  84.9624060150376\n",
      "(STAGE TWO):  85.33834586466166\n",
      "(STAGE TWO):  85.71428571428571\n",
      "(STAGE TWO):  86.09022556390977\n",
      "(STAGE TWO):  86.46616541353383\n",
      "(STAGE TWO):  86.8421052631579\n",
      "(STAGE TWO):  87.21804511278195\n",
      "(STAGE TWO):  87.59398496240601\n",
      "(STAGE TWO):  87.96992481203007\n",
      "(STAGE TWO):  88.34586466165413\n",
      "(STAGE TWO):  88.7218045112782\n",
      "(STAGE TWO):  89.09774436090225\n",
      "(STAGE TWO):  89.47368421052632\n",
      "(STAGE TWO):  89.84962406015038\n",
      "(STAGE TWO):  90.22556390977444\n",
      "(STAGE TWO):  90.6015037593985\n",
      "(STAGE TWO):  90.97744360902256\n",
      "(STAGE TWO):  91.35338345864662\n",
      "(STAGE TWO):  91.72932330827066\n",
      "(STAGE TWO):  92.10526315789474\n",
      "(STAGE TWO):  92.4812030075188\n",
      "(STAGE TWO):  92.85714285714286\n",
      "(STAGE TWO):  93.23308270676691\n",
      "(STAGE TWO):  93.60902255639097\n",
      "(STAGE TWO):  93.98496240601504\n",
      "(STAGE TWO):  94.3609022556391\n",
      "(STAGE TWO):  94.73684210526315\n",
      "(STAGE TWO):  95.11278195488721\n",
      "(STAGE TWO):  95.48872180451127\n",
      "(STAGE TWO):  95.86466165413535\n",
      "(STAGE TWO):  96.2406015037594\n",
      "(STAGE TWO):  96.61654135338345\n",
      "(STAGE TWO):  96.99248120300751\n",
      "(STAGE TWO):  97.36842105263158\n",
      "(STAGE TWO):  97.74436090225564\n",
      "(STAGE TWO):  98.1203007518797\n",
      "(STAGE TWO):  98.49624060150376\n",
      "(STAGE TWO):  98.87218045112782\n",
      "(STAGE TWO):  99.24812030075188\n",
      "(STAGE TWO):  99.62406015037594\n",
      "(STAGE TWO):  100.0\n",
      "(COMM):  0.7575757575757576\n",
      "(COMM):  1.5151515151515151\n",
      "(COMM):  2.272727272727273\n",
      "(COMM):  3.0303030303030303\n",
      "(COMM):  3.787878787878788\n",
      "(COMM):  4.545454545454546\n",
      "(COMM):  5.303030303030303\n",
      "(COMM):  6.0606060606060606\n",
      "(COMM):  6.8181818181818175\n",
      "(COMM):  7.575757575757576\n",
      "(COMM):  8.333333333333332\n",
      "(COMM):  9.090909090909092\n",
      "(COMM):  9.848484848484848\n",
      "(COMM):  10.606060606060606\n",
      "(COMM):  11.363636363636363\n",
      "(COMM):  12.121212121212121\n",
      "(COMM):  12.878787878787879\n",
      "(COMM):  13.636363636363635\n",
      "(COMM):  14.393939393939394\n",
      "(COMM):  15.151515151515152\n",
      "(COMM):  15.909090909090908\n",
      "(COMM):  16.666666666666664\n",
      "(COMM):  17.424242424242426\n",
      "(COMM):  18.181818181818183\n",
      "(COMM):  18.939393939393938\n",
      "(COMM):  19.696969696969695\n",
      "(COMM):  20.454545454545457\n",
      "(COMM):  21.21212121212121\n",
      "(COMM):  21.96969696969697\n",
      "(COMM):  22.727272727272727\n",
      "(COMM):  23.484848484848484\n",
      "(COMM):  24.242424242424242\n",
      "(COMM):  25.0\n",
      "(COMM):  25.757575757575758\n",
      "(COMM):  26.515151515151516\n",
      "(COMM):  27.27272727272727\n",
      "(COMM):  28.030303030303028\n",
      "(COMM):  28.78787878787879\n",
      "(COMM):  29.545454545454547\n",
      "(COMM):  30.303030303030305\n",
      "(COMM):  31.060606060606062\n",
      "(COMM):  31.818181818181817\n",
      "(COMM):  32.57575757575758\n",
      "(COMM):  33.33333333333333\n",
      "(COMM):  34.090909090909086\n",
      "(COMM):  34.84848484848485\n",
      "(COMM):  35.60606060606061\n",
      "(COMM):  36.36363636363637\n",
      "(COMM):  37.121212121212125\n",
      "(COMM):  37.878787878787875\n",
      "(COMM):  38.63636363636363\n",
      "(COMM):  39.39393939393939\n",
      "(COMM):  40.15151515151515\n",
      "(COMM):  40.909090909090914\n",
      "(COMM):  41.66666666666667\n",
      "(COMM):  42.42424242424242\n",
      "(COMM):  43.18181818181818\n",
      "(COMM):  43.93939393939394\n",
      "(COMM):  44.696969696969695\n",
      "(COMM):  45.45454545454545\n",
      "(COMM):  46.21212121212121\n",
      "(COMM):  46.96969696969697\n",
      "(COMM):  47.72727272727273\n",
      "(COMM):  48.484848484848484\n",
      "(COMM):  49.24242424242424\n",
      "(COMM):  50.0\n",
      "(COMM):  50.75757575757576\n",
      "(COMM):  51.515151515151516\n",
      "(COMM):  52.27272727272727\n",
      "(COMM):  53.03030303030303\n",
      "(COMM):  53.78787878787878\n",
      "(COMM):  54.54545454545454\n",
      "(COMM):  55.3030303030303\n",
      "(COMM):  56.060606060606055\n",
      "(COMM):  56.81818181818182\n",
      "(COMM):  57.57575757575758\n",
      "(COMM):  58.333333333333336\n",
      "(COMM):  59.09090909090909\n",
      "(COMM):  59.84848484848485\n",
      "(COMM):  60.60606060606061\n",
      "(COMM):  61.36363636363637\n",
      "(COMM):  62.121212121212125\n",
      "(COMM):  62.878787878787875\n",
      "(COMM):  63.63636363636363\n",
      "(COMM):  64.39393939393939\n",
      "(COMM):  65.15151515151516\n",
      "(COMM):  65.9090909090909\n",
      "(COMM):  66.66666666666666\n",
      "(COMM):  67.42424242424242\n",
      "(COMM):  68.18181818181817\n",
      "(COMM):  68.93939393939394\n",
      "(COMM):  69.6969696969697\n",
      "(COMM):  70.45454545454545\n",
      "(COMM):  71.21212121212122\n",
      "(COMM):  71.96969696969697\n",
      "(COMM):  72.72727272727273\n",
      "(COMM):  73.48484848484848\n",
      "(COMM):  74.24242424242425\n",
      "(COMM):  75.0\n",
      "(COMM):  75.75757575757575\n",
      "(COMM):  76.51515151515152\n",
      "(COMM):  77.27272727272727\n",
      "(COMM):  78.03030303030303\n",
      "(COMM):  78.78787878787878\n",
      "(COMM):  79.54545454545455\n",
      "(COMM):  80.3030303030303\n",
      "(COMM):  81.06060606060606\n",
      "(COMM):  81.81818181818183\n",
      "(COMM):  82.57575757575758\n",
      "(COMM):  83.33333333333334\n",
      "(COMM):  84.0909090909091\n",
      "(COMM):  84.84848484848484\n",
      "(COMM):  85.60606060606061\n",
      "(COMM):  86.36363636363636\n",
      "(COMM):  87.12121212121212\n",
      "(COMM):  87.87878787878788\n",
      "(COMM):  88.63636363636364\n",
      "(COMM):  89.39393939393939\n",
      "(COMM):  90.15151515151516\n",
      "(COMM):  90.9090909090909\n",
      "(COMM):  91.66666666666666\n",
      "(COMM):  92.42424242424242\n",
      "(COMM):  93.18181818181817\n"
     ]
    },
    {
     "name": "stdout",
     "output_type": "stream",
     "text": [
      "(COMM):  93.93939393939394\n",
      "(COMM):  94.6969696969697\n",
      "(COMM):  95.45454545454545\n",
      "(COMM):  96.21212121212122\n",
      "(COMM):  96.96969696969697\n",
      "(COMM):  97.72727272727273\n",
      "(COMM):  98.48484848484848\n",
      "(COMM):  99.24242424242425\n",
      "(COMM):  100.0\n",
      "(STAGE TWO):  50.378787878787875\n",
      "(STAGE TWO):  50.75757575757576\n",
      "(STAGE TWO):  51.13636363636363\n",
      "(STAGE TWO):  51.515151515151516\n",
      "(STAGE TWO):  51.89393939393939\n",
      "(STAGE TWO):  52.27272727272727\n",
      "(STAGE TWO):  52.65151515151515\n",
      "(STAGE TWO):  53.03030303030303\n",
      "(STAGE TWO):  53.40909090909091\n",
      "(STAGE TWO):  53.78787878787878\n",
      "(STAGE TWO):  54.166666666666664\n",
      "(STAGE TWO):  54.54545454545454\n",
      "(STAGE TWO):  54.92424242424242\n",
      "(STAGE TWO):  55.3030303030303\n",
      "(STAGE TWO):  55.68181818181818\n",
      "(STAGE TWO):  56.060606060606055\n",
      "(STAGE TWO):  56.439393939393945\n",
      "(STAGE TWO):  56.81818181818182\n",
      "(STAGE TWO):  57.1969696969697\n",
      "(STAGE TWO):  57.57575757575758\n",
      "(STAGE TWO):  57.95454545454546\n",
      "(STAGE TWO):  58.333333333333336\n",
      "(STAGE TWO):  58.71212121212122\n",
      "(STAGE TWO):  59.09090909090909\n",
      "(STAGE TWO):  59.46969696969697\n",
      "(STAGE TWO):  59.84848484848485\n",
      "(STAGE TWO):  60.22727272727273\n",
      "(STAGE TWO):  60.60606060606061\n",
      "(STAGE TWO):  60.984848484848484\n",
      "(STAGE TWO):  61.36363636363637\n",
      "(STAGE TWO):  61.74242424242424\n",
      "(STAGE TWO):  62.121212121212125\n",
      "(STAGE TWO):  62.5\n",
      "(STAGE TWO):  62.878787878787875\n",
      "(STAGE TWO):  63.25757575757576\n",
      "(STAGE TWO):  63.63636363636363\n",
      "(STAGE TWO):  64.01515151515152\n",
      "(STAGE TWO):  64.39393939393939\n",
      "(STAGE TWO):  64.77272727272727\n",
      "(STAGE TWO):  65.15151515151516\n",
      "(STAGE TWO):  65.53030303030303\n",
      "(STAGE TWO):  65.9090909090909\n",
      "(STAGE TWO):  66.28787878787878\n",
      "(STAGE TWO):  66.66666666666666\n",
      "(STAGE TWO):  67.04545454545455\n",
      "(STAGE TWO):  67.42424242424242\n",
      "(STAGE TWO):  67.8030303030303\n",
      "(STAGE TWO):  68.18181818181817\n",
      "(STAGE TWO):  68.56060606060606\n",
      "(STAGE TWO):  68.93939393939394\n",
      "(STAGE TWO):  69.31818181818183\n",
      "(STAGE TWO):  69.6969696969697\n",
      "(STAGE TWO):  70.07575757575758\n",
      "(STAGE TWO):  70.45454545454545\n",
      "(STAGE TWO):  70.83333333333334\n",
      "(STAGE TWO):  71.21212121212122\n",
      "(STAGE TWO):  71.5909090909091\n",
      "(STAGE TWO):  71.96969696969697\n",
      "(STAGE TWO):  72.34848484848484\n",
      "(STAGE TWO):  72.72727272727273\n",
      "(STAGE TWO):  73.10606060606061\n",
      "(STAGE TWO):  73.48484848484848\n",
      "(STAGE TWO):  73.86363636363636\n",
      "(STAGE TWO):  74.24242424242425\n",
      "(STAGE TWO):  74.62121212121212\n",
      "(STAGE TWO):  75.0\n",
      "(STAGE TWO):  75.37878787878788\n",
      "(STAGE TWO):  75.75757575757575\n",
      "(STAGE TWO):  76.13636363636364\n",
      "(STAGE TWO):  76.51515151515152\n",
      "(STAGE TWO):  76.89393939393939\n",
      "(STAGE TWO):  77.27272727272727\n",
      "(STAGE TWO):  77.65151515151516\n",
      "(STAGE TWO):  78.03030303030303\n",
      "(STAGE TWO):  78.4090909090909\n",
      "(STAGE TWO):  78.78787878787878\n",
      "(STAGE TWO):  79.16666666666666\n",
      "(STAGE TWO):  79.54545454545455\n",
      "(STAGE TWO):  79.92424242424242\n",
      "(STAGE TWO):  80.3030303030303\n",
      "(STAGE TWO):  80.68181818181817\n",
      "(STAGE TWO):  81.06060606060606\n",
      "(STAGE TWO):  81.43939393939394\n",
      "(STAGE TWO):  81.81818181818183\n",
      "(STAGE TWO):  82.1969696969697\n",
      "(STAGE TWO):  82.57575757575758\n",
      "(STAGE TWO):  82.95454545454545\n",
      "(STAGE TWO):  83.33333333333334\n",
      "(STAGE TWO):  83.71212121212122\n",
      "(STAGE TWO):  84.0909090909091\n",
      "(STAGE TWO):  84.46969696969697\n",
      "(STAGE TWO):  84.84848484848484\n",
      "(STAGE TWO):  85.22727272727273\n",
      "(STAGE TWO):  85.60606060606061\n",
      "(STAGE TWO):  85.98484848484848\n",
      "(STAGE TWO):  86.36363636363636\n",
      "(STAGE TWO):  86.74242424242425\n",
      "(STAGE TWO):  87.12121212121212\n",
      "(STAGE TWO):  87.5\n",
      "(STAGE TWO):  87.87878787878788\n",
      "(STAGE TWO):  88.25757575757575\n",
      "(STAGE TWO):  88.63636363636364\n",
      "(STAGE TWO):  89.01515151515152\n",
      "(STAGE TWO):  89.39393939393939\n",
      "(STAGE TWO):  89.77272727272727\n",
      "(STAGE TWO):  90.15151515151516\n",
      "(STAGE TWO):  90.53030303030303\n",
      "(STAGE TWO):  90.9090909090909\n",
      "(STAGE TWO):  91.28787878787878\n",
      "(STAGE TWO):  91.66666666666666\n",
      "(STAGE TWO):  92.04545454545455\n",
      "(STAGE TWO):  92.42424242424242\n",
      "(STAGE TWO):  92.8030303030303\n",
      "(STAGE TWO):  93.18181818181817\n",
      "(STAGE TWO):  93.56060606060606\n",
      "(STAGE TWO):  93.93939393939394\n",
      "(STAGE TWO):  94.31818181818183\n",
      "(STAGE TWO):  94.6969696969697\n",
      "(STAGE TWO):  95.07575757575758\n",
      "(STAGE TWO):  95.45454545454545\n",
      "(STAGE TWO):  95.83333333333334\n",
      "(STAGE TWO):  96.21212121212122\n",
      "(STAGE TWO):  96.5909090909091\n",
      "(STAGE TWO):  96.96969696969697\n",
      "(STAGE TWO):  97.34848484848484\n",
      "(STAGE TWO):  97.72727272727273\n",
      "(STAGE TWO):  98.10606060606061\n",
      "(STAGE TWO):  98.48484848484848\n",
      "(STAGE TWO):  98.86363636363636\n",
      "(STAGE TWO):  99.24242424242425\n",
      "(STAGE TWO):  99.62121212121212\n",
      "(STAGE TWO):  100.0\n",
      "(COMM):  0.7518796992481203\n",
      "(COMM):  1.5037593984962405\n",
      "(COMM):  2.2556390977443606\n",
      "(COMM):  3.007518796992481\n",
      "(COMM):  3.7593984962406015\n",
      "(COMM):  4.511278195488721\n",
      "(COMM):  5.263157894736842\n",
      "(COMM):  6.015037593984962\n",
      "(COMM):  6.7669172932330826\n",
      "(COMM):  7.518796992481203\n",
      "(COMM):  8.270676691729323\n",
      "(COMM):  9.022556390977442\n",
      "(COMM):  9.774436090225564\n",
      "(COMM):  10.526315789473683\n",
      "(COMM):  11.278195488721805\n",
      "(COMM):  12.030075187969924\n",
      "(COMM):  12.781954887218044\n",
      "(COMM):  13.533834586466165\n",
      "(COMM):  14.285714285714285\n",
      "(COMM):  15.037593984962406\n",
      "(COMM):  15.789473684210526\n",
      "(COMM):  16.541353383458645\n",
      "(COMM):  17.293233082706767\n",
      "(COMM):  18.045112781954884\n",
      "(COMM):  18.796992481203006\n",
      "(COMM):  19.548872180451127\n",
      "(COMM):  20.30075187969925\n",
      "(COMM):  21.052631578947366\n",
      "(COMM):  21.804511278195488\n",
      "(COMM):  22.55639097744361\n",
      "(COMM):  23.308270676691727\n",
      "(COMM):  24.06015037593985\n",
      "(COMM):  24.81203007518797\n",
      "(COMM):  25.563909774436087\n",
      "(COMM):  26.31578947368421\n",
      "(COMM):  27.06766917293233\n",
      "(COMM):  27.819548872180448\n",
      "(COMM):  28.57142857142857\n",
      "(COMM):  29.32330827067669\n",
      "(COMM):  30.075187969924812\n",
      "(COMM):  30.82706766917293\n",
      "(COMM):  31.57894736842105\n",
      "(COMM):  32.33082706766917\n",
      "(COMM):  33.08270676691729\n",
      "(COMM):  33.83458646616541\n",
      "(COMM):  34.58646616541353\n",
      "(COMM):  35.338345864661655\n",
      "(COMM):  36.09022556390977\n",
      "(COMM):  36.84210526315789\n",
      "(COMM):  37.59398496240601\n",
      "(COMM):  38.34586466165413\n",
      "(COMM):  39.097744360902254\n",
      "(COMM):  39.849624060150376\n",
      "(COMM):  40.6015037593985\n",
      "(COMM):  41.35338345864661\n",
      "(COMM):  42.10526315789473\n",
      "(COMM):  42.857142857142854\n",
      "(COMM):  43.609022556390975\n",
      "(COMM):  44.3609022556391\n",
      "(COMM):  45.11278195488722\n",
      "(COMM):  45.86466165413533\n",
      "(COMM):  46.616541353383454\n",
      "(COMM):  47.368421052631575\n",
      "(COMM):  48.1203007518797\n",
      "(COMM):  48.87218045112782\n",
      "(COMM):  49.62406015037594\n",
      "(COMM):  50.37593984962406\n",
      "(COMM):  51.127819548872175\n",
      "(COMM):  51.8796992481203\n",
      "(COMM):  52.63157894736842\n",
      "(COMM):  53.383458646616546\n",
      "(COMM):  54.13533834586466\n",
      "(COMM):  54.88721804511278\n",
      "(COMM):  55.639097744360896\n",
      "(COMM):  56.390977443609025\n",
      "(COMM):  57.14285714285714\n",
      "(COMM):  57.89473684210527\n",
      "(COMM):  58.64661654135338\n",
      "(COMM):  59.3984962406015\n",
      "(COMM):  60.150375939849624\n",
      "(COMM):  60.902255639097746\n",
      "(COMM):  61.65413533834586\n",
      "(COMM):  62.40601503759399\n",
      "(COMM):  63.1578947368421\n",
      "(COMM):  63.90977443609023\n",
      "(COMM):  64.66165413533834\n",
      "(COMM):  65.41353383458647\n",
      "(COMM):  66.16541353383458\n",
      "(COMM):  66.9172932330827\n",
      "(COMM):  67.66917293233082\n",
      "(COMM):  68.42105263157895\n",
      "(COMM):  69.17293233082707\n",
      "(COMM):  69.92481203007519\n",
      "(COMM):  70.67669172932331\n",
      "(COMM):  71.42857142857143\n",
      "(COMM):  72.18045112781954\n",
      "(COMM):  72.93233082706767\n",
      "(COMM):  73.68421052631578\n",
      "(COMM):  74.43609022556392\n",
      "(COMM):  75.18796992481202\n",
      "(COMM):  75.93984962406014\n",
      "(COMM):  76.69172932330827\n",
      "(COMM):  77.44360902255639\n",
      "(COMM):  78.19548872180451\n",
      "(COMM):  78.94736842105263\n",
      "(COMM):  79.69924812030075\n",
      "(COMM):  80.45112781954887\n",
      "(COMM):  81.203007518797\n",
      "(COMM):  81.95488721804512\n",
      "(COMM):  82.70676691729322\n",
      "(COMM):  83.45864661654136\n",
      "(COMM):  84.21052631578947\n",
      "(COMM):  84.9624060150376\n",
      "(COMM):  85.71428571428571\n",
      "(COMM):  86.46616541353383\n",
      "(COMM):  87.21804511278195\n",
      "(COMM):  87.96992481203007\n",
      "(COMM):  88.7218045112782\n",
      "(COMM):  89.47368421052632\n",
      "(COMM):  90.22556390977444\n",
      "(COMM):  90.97744360902256\n",
      "(COMM):  91.72932330827066\n",
      "(COMM):  92.4812030075188\n",
      "(COMM):  93.23308270676691\n",
      "(COMM):  93.98496240601504\n",
      "(COMM):  94.73684210526315\n",
      "(COMM):  95.48872180451127\n",
      "(COMM):  96.2406015037594\n",
      "(COMM):  96.99248120300751\n",
      "(COMM):  97.74436090225564\n",
      "(COMM):  98.49624060150376\n",
      "(COMM):  99.24812030075188\n",
      "(COMM):  100.0\n",
      "(STAGE TWO):  50.37593984962406\n",
      "(STAGE TWO):  50.75187969924813\n",
      "(STAGE TWO):  51.127819548872175\n",
      "(STAGE TWO):  51.50375939849624\n",
      "(STAGE TWO):  51.8796992481203\n",
      "(STAGE TWO):  52.255639097744364\n",
      "(STAGE TWO):  52.63157894736842\n",
      "(STAGE TWO):  53.00751879699248\n",
      "(STAGE TWO):  53.383458646616546\n",
      "(STAGE TWO):  53.75939849624061\n",
      "(STAGE TWO):  54.13533834586466\n",
      "(STAGE TWO):  54.51127819548872\n",
      "(STAGE TWO):  54.88721804511278\n",
      "(STAGE TWO):  55.26315789473685\n",
      "(STAGE TWO):  55.639097744360896\n",
      "(STAGE TWO):  56.015037593984964\n",
      "(STAGE TWO):  56.390977443609025\n",
      "(STAGE TWO):  56.766917293233085\n",
      "(STAGE TWO):  57.14285714285714\n",
      "(STAGE TWO):  57.5187969924812\n",
      "(STAGE TWO):  57.89473684210527\n",
      "(STAGE TWO):  58.27067669172933\n",
      "(STAGE TWO):  58.64661654135338\n",
      "(STAGE TWO):  59.02255639097744\n",
      "(STAGE TWO):  59.3984962406015\n",
      "(STAGE TWO):  59.77443609022557\n",
      "(STAGE TWO):  60.150375939849624\n",
      "(STAGE TWO):  60.526315789473685\n",
      "(STAGE TWO):  60.902255639097746\n"
     ]
    },
    {
     "name": "stdout",
     "output_type": "stream",
     "text": [
      "(STAGE TWO):  61.278195488721806\n",
      "(STAGE TWO):  61.65413533834586\n",
      "(STAGE TWO):  62.03007518796993\n",
      "(STAGE TWO):  62.40601503759399\n",
      "(STAGE TWO):  62.78195488721805\n",
      "(STAGE TWO):  63.1578947368421\n",
      "(STAGE TWO):  63.53383458646616\n",
      "(STAGE TWO):  63.90977443609023\n",
      "(STAGE TWO):  64.28571428571429\n",
      "(STAGE TWO):  64.66165413533834\n",
      "(STAGE TWO):  65.0375939849624\n",
      "(STAGE TWO):  65.41353383458647\n",
      "(STAGE TWO):  65.78947368421053\n",
      "(STAGE TWO):  66.16541353383458\n",
      "(STAGE TWO):  66.54135338345864\n",
      "(STAGE TWO):  66.9172932330827\n",
      "(STAGE TWO):  67.29323308270678\n",
      "(STAGE TWO):  67.66917293233082\n",
      "(STAGE TWO):  68.04511278195488\n",
      "(STAGE TWO):  68.42105263157895\n",
      "(STAGE TWO):  68.796992481203\n",
      "(STAGE TWO):  69.17293233082707\n",
      "(STAGE TWO):  69.54887218045113\n",
      "(STAGE TWO):  69.92481203007519\n",
      "(STAGE TWO):  70.30075187969925\n",
      "(STAGE TWO):  70.67669172932331\n",
      "(STAGE TWO):  71.05263157894737\n",
      "(STAGE TWO):  71.42857142857143\n",
      "(STAGE TWO):  71.80451127819549\n",
      "(STAGE TWO):  72.18045112781954\n",
      "(STAGE TWO):  72.55639097744361\n",
      "(STAGE TWO):  72.93233082706767\n",
      "(STAGE TWO):  73.30827067669173\n",
      "(STAGE TWO):  73.68421052631578\n",
      "(STAGE TWO):  74.06015037593986\n",
      "(STAGE TWO):  74.43609022556392\n",
      "(STAGE TWO):  74.81203007518798\n",
      "(STAGE TWO):  75.18796992481202\n",
      "(STAGE TWO):  75.56390977443608\n",
      "(STAGE TWO):  75.93984962406014\n",
      "(STAGE TWO):  76.31578947368422\n",
      "(STAGE TWO):  76.69172932330827\n",
      "(STAGE TWO):  77.06766917293233\n",
      "(STAGE TWO):  77.44360902255639\n",
      "(STAGE TWO):  77.81954887218046\n",
      "(STAGE TWO):  78.19548872180451\n",
      "(STAGE TWO):  78.57142857142857\n",
      "(STAGE TWO):  78.94736842105263\n",
      "(STAGE TWO):  79.32330827067669\n",
      "(STAGE TWO):  79.69924812030075\n",
      "(STAGE TWO):  80.07518796992481\n",
      "(STAGE TWO):  80.45112781954887\n",
      "(STAGE TWO):  80.82706766917293\n",
      "(STAGE TWO):  81.203007518797\n",
      "(STAGE TWO):  81.57894736842105\n",
      "(STAGE TWO):  81.95488721804512\n",
      "(STAGE TWO):  82.33082706766918\n",
      "(STAGE TWO):  82.70676691729322\n",
      "(STAGE TWO):  83.0827067669173\n",
      "(STAGE TWO):  83.45864661654136\n",
      "(STAGE TWO):  83.83458646616542\n",
      "(STAGE TWO):  84.21052631578947\n",
      "(STAGE TWO):  84.58646616541353\n",
      "(STAGE TWO):  84.9624060150376\n",
      "(STAGE TWO):  85.33834586466166\n",
      "(STAGE TWO):  85.71428571428571\n",
      "(STAGE TWO):  86.09022556390977\n",
      "(STAGE TWO):  86.46616541353383\n",
      "(STAGE TWO):  86.8421052631579\n",
      "(STAGE TWO):  87.21804511278195\n",
      "(STAGE TWO):  87.59398496240601\n",
      "(STAGE TWO):  87.96992481203007\n",
      "(STAGE TWO):  88.34586466165413\n",
      "(STAGE TWO):  88.7218045112782\n",
      "(STAGE TWO):  89.09774436090225\n",
      "(STAGE TWO):  89.47368421052632\n",
      "(STAGE TWO):  89.84962406015038\n",
      "(STAGE TWO):  90.22556390977444\n",
      "(STAGE TWO):  90.6015037593985\n",
      "(STAGE TWO):  90.97744360902256\n",
      "(STAGE TWO):  91.35338345864662\n",
      "(STAGE TWO):  91.72932330827066\n",
      "(STAGE TWO):  92.10526315789474\n",
      "(STAGE TWO):  92.4812030075188\n",
      "(STAGE TWO):  92.85714285714286\n",
      "(STAGE TWO):  93.23308270676691\n",
      "(STAGE TWO):  93.60902255639097\n",
      "(STAGE TWO):  93.98496240601504\n",
      "(STAGE TWO):  94.3609022556391\n",
      "(STAGE TWO):  94.73684210526315\n",
      "(STAGE TWO):  95.11278195488721\n",
      "(STAGE TWO):  95.48872180451127\n",
      "(STAGE TWO):  95.86466165413535\n",
      "(STAGE TWO):  96.2406015037594\n",
      "(STAGE TWO):  96.61654135338345\n",
      "(STAGE TWO):  96.99248120300751\n",
      "(STAGE TWO):  97.36842105263158\n",
      "(STAGE TWO):  97.74436090225564\n",
      "(STAGE TWO):  98.1203007518797\n",
      "(STAGE TWO):  98.49624060150376\n",
      "(STAGE TWO):  98.87218045112782\n",
      "(STAGE TWO):  99.24812030075188\n",
      "(STAGE TWO):  99.62406015037594\n",
      "(STAGE TWO):  100.0\n"
     ]
    }
   ],
   "source": [
    "ama_anno_comm_bows = create_comment_BOWs(anno_ama_comm_clean)\n",
    "science_anno_comm_bows = create_comment_BOWs(anno_science_comm_clean)\n",
    "poke_anno_comm_bows = create_comment_BOWs(anno_poke_comm_clean)"
   ]
  },
  {
   "cell_type": "code",
   "execution_count": 259,
   "metadata": {},
   "outputs": [],
   "source": [
    "anno_ama_comm_sub_rels = key_bow_comp(ama_anno_comm_bows, top_ama_features)\n",
    "anno_science_comm_sub_rels = key_bow_comp(science_anno_comm_bows, top_science_features)\n",
    "anno_poke_comm_sub_rels = key_bow_comp(poke_anno_comm_bows, top_poke_features)"
   ]
  },
  {
   "cell_type": "code",
   "execution_count": 260,
   "metadata": {},
   "outputs": [],
   "source": [
    "all_anno_comm_sub_rels = {**anno_ama_comm_sub_rels, **anno_science_comm_sub_rels}\n",
    "all_anno_comm_sub_rels = {**all_anno_comm_sub_rels, **anno_poke_comm_sub_rels}"
   ]
  },
  {
   "cell_type": "code",
   "execution_count": 261,
   "metadata": {},
   "outputs": [],
   "source": [
    "all_anno_comm_bows = {**ama_anno_comm_bows, **science_anno_comm_bows}\n",
    "all_anno_comm_bows = {**all_anno_comm_bows, **poke_anno_comm_bows}"
   ]
  },
  {
   "cell_type": "code",
   "execution_count": 262,
   "metadata": {},
   "outputs": [
    {
     "data": {
      "text/plain": [
       "True"
      ]
     },
     "execution_count": 262,
     "metadata": {},
     "output_type": "execute_result"
    }
   ],
   "source": [
    "all_anno_comm_parent_rels = parent_bow_comp(all_anno_comm_bows,annotated_comm_parent_bows, all_comm_clean)\n",
    "len(all_anno_comm_parent_rels) == (len(all_anno_comm_sub_rels))"
   ]
  },
  {
   "cell_type": "code",
   "execution_count": 263,
   "metadata": {},
   "outputs": [],
   "source": [
    "anno_ama_avg_comm_len = avg_sub_comment_length(ama_comments_clean)\n",
    "anno_science_avg_comm_len = avg_sub_comment_length(science_comments_clean)\n",
    "anno_poke_avg_comm_len = avg_sub_comment_length(poke_comments_clean)"
   ]
  },
  {
   "cell_type": "code",
   "execution_count": 264,
   "metadata": {},
   "outputs": [],
   "source": [
    "anno_ama_comm_len_scores = comm_len_score_calc(anno_ama_comm_clean, anno_ama_avg_comm_len)\n",
    "anno_science_comm_len_scores = comm_len_score_calc(anno_science_comm_clean, anno_science_avg_comm_len)\n",
    "anno_poke_comm_len_scores = comm_len_score_calc(anno_poke_comm_clean, anno_poke_avg_comm_len)"
   ]
  },
  {
   "cell_type": "code",
   "execution_count": 265,
   "metadata": {},
   "outputs": [],
   "source": [
    "anno_all_comm_len_scores = {**anno_ama_comm_len_scores, **anno_science_comm_len_scores}\n",
    "anno_all_comm_len_scores = {**anno_all_comm_len_scores, **anno_poke_comm_len_scores}"
   ]
  },
  {
   "cell_type": "code",
   "execution_count": 266,
   "metadata": {},
   "outputs": [],
   "source": [
    "anno_all_cc_scores = comm_caps_and_curses(annotated_comm_clean)"
   ]
  },
  {
   "cell_type": "code",
   "execution_count": 267,
   "metadata": {},
   "outputs": [],
   "source": [
    "anno_all_avg_thread_times = avg_thread_comm_time(all_posts_clean, all_comm_clean)\n"
   ]
  },
  {
   "cell_type": "code",
   "execution_count": 268,
   "metadata": {},
   "outputs": [],
   "source": [
    "anno_all_comm_time_scores = get_comm_time_scores(annotated_comm_clean, anno_all_avg_thread_times)"
   ]
  },
  {
   "cell_type": "code",
   "execution_count": 269,
   "metadata": {},
   "outputs": [],
   "source": [
    "# all_comm_reply_scores = comm_reply_perc(all_comm_clean, all_posts_clean)"
   ]
  },
  {
   "cell_type": "code",
   "execution_count": 270,
   "metadata": {},
   "outputs": [],
   "source": [
    "# #Cache ama_thread response dict\n",
    "# with open('anno_comm_reply_scores.json', 'w') as file:\n",
    "#     json.dump(all_comm_reply_scores, file, indent=4)"
   ]
  },
  {
   "cell_type": "code",
   "execution_count": 276,
   "metadata": {},
   "outputs": [],
   "source": [
    "#Cache ama_thread response dict\n",
    "with open('anno_comm_reply_scores.json', 'r') as file:\n",
    "    all_comm_reply_scores = json.load(file)"
   ]
  },
  {
   "cell_type": "code",
   "execution_count": 278,
   "metadata": {},
   "outputs": [
    {
     "name": "stdout",
     "output_type": "stream",
     "text": [
      "398\n"
     ]
    }
   ],
   "source": [
    "anno_comm_reply_scores = {}\n",
    "for key in all_comm_reply_scores:\n",
    "    if key in annotated_comm_clean['id'].tolist():\n",
    "        anno_comm_reply_scores[key] = all_comm_reply_scores[key]\n",
    "print(len(anno_comm_reply_scores))"
   ]
  },
  {
   "cell_type": "code",
   "execution_count": 279,
   "metadata": {},
   "outputs": [
    {
     "data": {
      "text/plain": [
       "398"
      ]
     },
     "execution_count": 279,
     "metadata": {},
     "output_type": "execute_result"
    }
   ],
   "source": [
    "# Get Reddit scores for all comments in sample\n",
    "\n",
    "anno_comm_reddit_scores = {}\n",
    "for ix, comm in annotated_comm_clean.iterrows():\n",
    "    anno_comm_reddit_scores[comm[7]] = int(comm[6])\n",
    "len(anno_comm_reddit_scores)"
   ]
  },
  {
   "cell_type": "code",
   "execution_count": 280,
   "metadata": {},
   "outputs": [],
   "source": [
    "anno_comm_link_q_scores = comm_link_quantity(annotated_comm_clean)"
   ]
  },
  {
   "cell_type": "code",
   "execution_count": 281,
   "metadata": {},
   "outputs": [],
   "source": [
    "anno_comm_q_counts = comm_Qcount(annotated_comm_clean)"
   ]
  },
  {
   "cell_type": "code",
   "execution_count": 282,
   "metadata": {},
   "outputs": [
    {
     "name": "stdout",
     "output_type": "stream",
     "text": [
      "398\n"
     ]
    }
   ],
   "source": [
    "master_anno_comm_scores = {}\n",
    "for ix, row in annotated_comm_clean.iterrows():\n",
    "    temp = []\n",
    "    temp.append(all_anno_comm_sub_rels[row[7]]) # Subreddit relevance score\n",
    "    temp.append(all_anno_comm_parent_rels[row[7]]) # Parent relevance score\n",
    "    temp.append(anno_all_comm_len_scores[row[7]]) # Length score\n",
    "    temp.append(anno_all_comm_time_scores[row[7]]) # Time score\n",
    "    temp.append(anno_all_cc_scores[row[7]][0]) # Capitals score\n",
    "    temp.append(anno_all_cc_scores[row[7]][1]) # Curses score\n",
    "    temp.append(anno_comm_reply_scores[row[7]]) # Reply Percentage score\n",
    "    temp.append(anno_comm_reddit_scores[row[7]]) # Reddit (Wilson) score\n",
    "    temp.append(anno_comm_link_q_scores[row[7]]) # Link Quantity score\n",
    "    temp.append(anno_comm_q_counts[row[7]]) #Question Count score\n",
    "#     temp.append(int(row[1]))\n",
    "    master_anno_comm_scores[row[7]] = temp\n",
    "print(len(master_anno_comm_scores))"
   ]
  },
  {
   "cell_type": "code",
   "execution_count": 288,
   "metadata": {},
   "outputs": [
    {
     "name": "stdout",
     "output_type": "stream",
     "text": [
      "(398, 12)\n"
     ]
    },
    {
     "data": {
      "text/html": [
       "<div>\n",
       "<style>\n",
       "    .dataframe thead tr:only-child th {\n",
       "        text-align: right;\n",
       "    }\n",
       "\n",
       "    .dataframe thead th {\n",
       "        text-align: left;\n",
       "    }\n",
       "\n",
       "    .dataframe tbody tr th {\n",
       "        vertical-align: top;\n",
       "    }\n",
       "</style>\n",
       "<table border=\"1\" class=\"dataframe\">\n",
       "  <thead>\n",
       "    <tr style=\"text-align: right;\">\n",
       "      <th></th>\n",
       "      <th>id</th>\n",
       "      <th>sub_rel</th>\n",
       "      <th>parent_rel</th>\n",
       "      <th>length</th>\n",
       "      <th>time</th>\n",
       "      <th>capitals</th>\n",
       "      <th>curses</th>\n",
       "      <th>replies</th>\n",
       "      <th>wilson</th>\n",
       "      <th>links</th>\n",
       "      <th>qcount</th>\n",
       "      <th>rating</th>\n",
       "    </tr>\n",
       "  </thead>\n",
       "  <tbody>\n",
       "    <tr>\n",
       "      <th>0</th>\n",
       "      <td>e57ivu5</td>\n",
       "      <td>0.0</td>\n",
       "      <td>0.105263</td>\n",
       "      <td>1.766148</td>\n",
       "      <td>0.275910</td>\n",
       "      <td>0.0</td>\n",
       "      <td>0.0</td>\n",
       "      <td>0.025641</td>\n",
       "      <td>2.0</td>\n",
       "      <td>0.0</td>\n",
       "      <td>0.0</td>\n",
       "      <td>3</td>\n",
       "    </tr>\n",
       "    <tr>\n",
       "      <th>1</th>\n",
       "      <td>e57nioj</td>\n",
       "      <td>0.0</td>\n",
       "      <td>0.250000</td>\n",
       "      <td>0.377443</td>\n",
       "      <td>0.842695</td>\n",
       "      <td>0.0</td>\n",
       "      <td>0.0</td>\n",
       "      <td>0.004785</td>\n",
       "      <td>1.0</td>\n",
       "      <td>0.0</td>\n",
       "      <td>0.0</td>\n",
       "      <td>3</td>\n",
       "    </tr>\n",
       "    <tr>\n",
       "      <th>2</th>\n",
       "      <td>e57vtty</td>\n",
       "      <td>0.0</td>\n",
       "      <td>0.000000</td>\n",
       "      <td>1.360219</td>\n",
       "      <td>0.440848</td>\n",
       "      <td>0.0</td>\n",
       "      <td>0.0</td>\n",
       "      <td>0.000000</td>\n",
       "      <td>-1.0</td>\n",
       "      <td>0.0</td>\n",
       "      <td>0.0</td>\n",
       "      <td>1</td>\n",
       "    </tr>\n",
       "    <tr>\n",
       "      <th>3</th>\n",
       "      <td>e581nib</td>\n",
       "      <td>0.0</td>\n",
       "      <td>0.000000</td>\n",
       "      <td>0.226874</td>\n",
       "      <td>0.041852</td>\n",
       "      <td>0.0</td>\n",
       "      <td>0.0</td>\n",
       "      <td>0.000221</td>\n",
       "      <td>6.0</td>\n",
       "      <td>0.0</td>\n",
       "      <td>0.0</td>\n",
       "      <td>2</td>\n",
       "    </tr>\n",
       "    <tr>\n",
       "      <th>4</th>\n",
       "      <td>e582um0</td>\n",
       "      <td>0.0</td>\n",
       "      <td>0.000000</td>\n",
       "      <td>0.252082</td>\n",
       "      <td>0.067494</td>\n",
       "      <td>0.0</td>\n",
       "      <td>0.0</td>\n",
       "      <td>0.001104</td>\n",
       "      <td>249.0</td>\n",
       "      <td>0.0</td>\n",
       "      <td>0.0</td>\n",
       "      <td>3</td>\n",
       "    </tr>\n",
       "  </tbody>\n",
       "</table>\n",
       "</div>"
      ],
      "text/plain": [
       "        id  sub_rel  parent_rel    length      time  capitals  curses  \\\n",
       "0  e57ivu5      0.0    0.105263  1.766148  0.275910       0.0     0.0   \n",
       "1  e57nioj      0.0    0.250000  0.377443  0.842695       0.0     0.0   \n",
       "2  e57vtty      0.0    0.000000  1.360219  0.440848       0.0     0.0   \n",
       "3  e581nib      0.0    0.000000  0.226874  0.041852       0.0     0.0   \n",
       "4  e582um0      0.0    0.000000  0.252082  0.067494       0.0     0.0   \n",
       "\n",
       "    replies  wilson  links  qcount  rating  \n",
       "0  0.025641     2.0    0.0     0.0       3  \n",
       "1  0.004785     1.0    0.0     0.0       3  \n",
       "2  0.000000    -1.0    0.0     0.0       1  \n",
       "3  0.000221     6.0    0.0     0.0       2  \n",
       "4  0.001104   249.0    0.0     0.0       3  "
      ]
     },
     "execution_count": 288,
     "metadata": {},
     "output_type": "execute_result"
    }
   ],
   "source": [
    "df_anno_comm_scores = pd.DataFrame(master_anno_comm_scores)\n",
    "df_anno_comm_scores = df_anno_comm_scores.transpose()\n",
    "df_anno_comm_scores = df_anno_comm_scores.reset_index()\n",
    "df_anno_comm_scores.columns = ['id', 'sub_rel', 'parent_rel', 'length', 'time', 'capitals', 'curses', 'replies', 'wilson', 'links', 'qcount']\n",
    "master_anno_comms = pd.merge(df_anno_comm_scores, comm_anno_f, left_on='id', right_on='id')\n",
    "# master_anno_comms = master_anno_comms[['id', 'rating', 'sub_rel', 'parent_rel', 'length', 'time', 'capitals', 'curses', 'replies', 'wilson', 'links', 'qcount']]\n",
    "print(master_anno_comms.shape)\n",
    "master_anno_comms.head(5)"
   ]
  },
  {
   "cell_type": "code",
   "execution_count": 284,
   "metadata": {},
   "outputs": [],
   "source": [
    "# function to give rating a binary representation for logreg\n",
    "def good_bad(x):\n",
    "    if x >= 2.5:\n",
    "        return 1 #Good\n",
    "    else:\n",
    "        return 0 #Bad"
   ]
  },
  {
   "cell_type": "code",
   "execution_count": 290,
   "metadata": {},
   "outputs": [],
   "source": [
    "# Apply function to post and comment score dataframes prior to logistic regression\n",
    "master_anno_posts['rating'] = master_anno_posts['rating'].apply(func=good_bad)\n",
    "master_anno_comms['rating'] = master_anno_comms['rating'].apply(func=good_bad)"
   ]
  },
  {
   "cell_type": "code",
   "execution_count": 293,
   "metadata": {},
   "outputs": [
    {
     "data": {
      "text/html": [
       "<div>\n",
       "<style>\n",
       "    .dataframe thead tr:only-child th {\n",
       "        text-align: right;\n",
       "    }\n",
       "\n",
       "    .dataframe thead th {\n",
       "        text-align: left;\n",
       "    }\n",
       "\n",
       "    .dataframe tbody tr th {\n",
       "        vertical-align: top;\n",
       "    }\n",
       "</style>\n",
       "<table border=\"1\" class=\"dataframe\">\n",
       "  <thead>\n",
       "    <tr style=\"text-align: right;\">\n",
       "      <th></th>\n",
       "      <th>id</th>\n",
       "      <th>sub_rel</th>\n",
       "      <th>parent_rel</th>\n",
       "      <th>length</th>\n",
       "      <th>time</th>\n",
       "      <th>capitals</th>\n",
       "      <th>curses</th>\n",
       "      <th>replies</th>\n",
       "      <th>wilson</th>\n",
       "      <th>links</th>\n",
       "      <th>qcount</th>\n",
       "      <th>rating</th>\n",
       "    </tr>\n",
       "  </thead>\n",
       "  <tbody>\n",
       "    <tr>\n",
       "      <th>0</th>\n",
       "      <td>e57ivu5</td>\n",
       "      <td>0.0</td>\n",
       "      <td>0.105263</td>\n",
       "      <td>1.766148</td>\n",
       "      <td>0.275910</td>\n",
       "      <td>0.0</td>\n",
       "      <td>0.0</td>\n",
       "      <td>0.025641</td>\n",
       "      <td>2.0</td>\n",
       "      <td>0.0</td>\n",
       "      <td>0.0</td>\n",
       "      <td>1</td>\n",
       "    </tr>\n",
       "    <tr>\n",
       "      <th>1</th>\n",
       "      <td>e57nioj</td>\n",
       "      <td>0.0</td>\n",
       "      <td>0.250000</td>\n",
       "      <td>0.377443</td>\n",
       "      <td>0.842695</td>\n",
       "      <td>0.0</td>\n",
       "      <td>0.0</td>\n",
       "      <td>0.004785</td>\n",
       "      <td>1.0</td>\n",
       "      <td>0.0</td>\n",
       "      <td>0.0</td>\n",
       "      <td>1</td>\n",
       "    </tr>\n",
       "    <tr>\n",
       "      <th>2</th>\n",
       "      <td>e57vtty</td>\n",
       "      <td>0.0</td>\n",
       "      <td>0.000000</td>\n",
       "      <td>1.360219</td>\n",
       "      <td>0.440848</td>\n",
       "      <td>0.0</td>\n",
       "      <td>0.0</td>\n",
       "      <td>0.000000</td>\n",
       "      <td>-1.0</td>\n",
       "      <td>0.0</td>\n",
       "      <td>0.0</td>\n",
       "      <td>0</td>\n",
       "    </tr>\n",
       "    <tr>\n",
       "      <th>3</th>\n",
       "      <td>e581nib</td>\n",
       "      <td>0.0</td>\n",
       "      <td>0.000000</td>\n",
       "      <td>0.226874</td>\n",
       "      <td>0.041852</td>\n",
       "      <td>0.0</td>\n",
       "      <td>0.0</td>\n",
       "      <td>0.000221</td>\n",
       "      <td>6.0</td>\n",
       "      <td>0.0</td>\n",
       "      <td>0.0</td>\n",
       "      <td>0</td>\n",
       "    </tr>\n",
       "    <tr>\n",
       "      <th>4</th>\n",
       "      <td>e582um0</td>\n",
       "      <td>0.0</td>\n",
       "      <td>0.000000</td>\n",
       "      <td>0.252082</td>\n",
       "      <td>0.067494</td>\n",
       "      <td>0.0</td>\n",
       "      <td>0.0</td>\n",
       "      <td>0.001104</td>\n",
       "      <td>249.0</td>\n",
       "      <td>0.0</td>\n",
       "      <td>0.0</td>\n",
       "      <td>1</td>\n",
       "    </tr>\n",
       "  </tbody>\n",
       "</table>\n",
       "</div>"
      ],
      "text/plain": [
       "        id  sub_rel  parent_rel    length      time  capitals  curses  \\\n",
       "0  e57ivu5      0.0    0.105263  1.766148  0.275910       0.0     0.0   \n",
       "1  e57nioj      0.0    0.250000  0.377443  0.842695       0.0     0.0   \n",
       "2  e57vtty      0.0    0.000000  1.360219  0.440848       0.0     0.0   \n",
       "3  e581nib      0.0    0.000000  0.226874  0.041852       0.0     0.0   \n",
       "4  e582um0      0.0    0.000000  0.252082  0.067494       0.0     0.0   \n",
       "\n",
       "    replies  wilson  links  qcount  rating  \n",
       "0  0.025641     2.0    0.0     0.0       1  \n",
       "1  0.004785     1.0    0.0     0.0       1  \n",
       "2  0.000000    -1.0    0.0     0.0       0  \n",
       "3  0.000221     6.0    0.0     0.0       0  \n",
       "4  0.001104   249.0    0.0     0.0       1  "
      ]
     },
     "execution_count": 293,
     "metadata": {},
     "output_type": "execute_result"
    }
   ],
   "source": [
    "master_anno_comms.head(5)"
   ]
  },
  {
   "cell_type": "code",
   "execution_count": 310,
   "metadata": {},
   "outputs": [],
   "source": [
    "# https://stackoverflow.com/questions/23848003/detecting-mulicollinear-or-columns-that-have-linear-combinations-while-modelli\n",
    "def independent_columns(A, tol = 0):#1e-05):\n",
    "    \"\"\"\n",
    "    Return an array composed of independent columns of A.\n",
    "\n",
    "    Note the answer may not be unique; this function returns one of many\n",
    "    possible answers.\n",
    "\n",
    "    https://stackoverflow.com/q/13312498/190597 (user1812712)\n",
    "    http://math.stackexchange.com/a/199132/1140 (Gerry Myerson)\n",
    "    http://mail.scipy.org/pipermail/numpy-discussion/2008-November/038705.html\n",
    "        (Anne Archibald)\n",
    "\n",
    "    >>> A = np.array([(2,4,1,3),(-1,-2,1,0),(0,0,2,2),(3,6,2,5)])\n",
    "    2 4 1 3\n",
    "    -1 -2 1 0\n",
    "    0 0 2 2\n",
    "    3 6 2 5\n",
    "    # try with checking the rank of matrixs \n",
    "    >>> independent_columns(A)\n",
    "    np.array([[1, 4],\n",
    "              [2, 5],\n",
    "              [3, 6]])\n",
    "    \"\"\"\n",
    "    Q, R = linalg.qr(A)\n",
    "    independent = np.where(np.abs(R.diagonal()) > tol)[0]\n",
    "    #print independent\n",
    "    return A[:, independent], independent"
   ]
  },
  {
   "cell_type": "code",
   "execution_count": 312,
   "metadata": {},
   "outputs": [
    {
     "name": "stdout",
     "output_type": "stream",
     "text": [
      "Optimization terminated successfully.\n",
      "         Current function value: 0.661164\n",
      "         Iterations 9\n"
     ]
    },
    {
     "name": "stderr",
     "output_type": "stream",
     "text": [
      "/Users/zimmer/anaconda3/lib/python3.6/site-packages/statsmodels/iolib/summary2.py:529: DeprecationWarning: \n",
      ".ix is deprecated. Please use\n",
      ".loc for label based indexing or\n",
      ".iloc for positional indexing\n",
      "\n",
      "See the documentation here:\n",
      "http://pandas.pydata.org/pandas-docs/stable/indexing.html#ix-indexer-is-deprecated\n",
      "  dat.ix[:, 0] = [str(x) + int(pad_index) * ' ' for x in dat.ix[:, 0]]\n",
      "/Users/zimmer/anaconda3/lib/python3.6/site-packages/pandas/core/indexing.py:992: DeprecationWarning: \n",
      ".ix is deprecated. Please use\n",
      ".loc for label based indexing or\n",
      ".iloc for positional indexing\n",
      "\n",
      "See the documentation here:\n",
      "http://pandas.pydata.org/pandas-docs/stable/indexing.html#ix-indexer-is-deprecated\n",
      "  return getattr(section, self.name)[new_key]\n",
      "/Users/zimmer/anaconda3/lib/python3.6/site-packages/statsmodels/iolib/summary2.py:529: DeprecationWarning: \n",
      ".ix is deprecated. Please use\n",
      ".loc for label based indexing or\n",
      ".iloc for positional indexing\n",
      "\n",
      "See the documentation here:\n",
      "http://pandas.pydata.org/pandas-docs/stable/indexing.html#ix-indexer-is-deprecated\n",
      "  dat.ix[:, 0] = [str(x) + int(pad_index) * ' ' for x in dat.ix[:, 0]]\n",
      "/Users/zimmer/anaconda3/lib/python3.6/site-packages/pandas/core/indexing.py:992: DeprecationWarning: \n",
      ".ix is deprecated. Please use\n",
      ".loc for label based indexing or\n",
      ".iloc for positional indexing\n",
      "\n",
      "See the documentation here:\n",
      "http://pandas.pydata.org/pandas-docs/stable/indexing.html#ix-indexer-is-deprecated\n",
      "  return getattr(section, self.name)[new_key]\n",
      "/Users/zimmer/anaconda3/lib/python3.6/site-packages/statsmodels/iolib/summary2.py:529: DeprecationWarning: \n",
      ".ix is deprecated. Please use\n",
      ".loc for label based indexing or\n",
      ".iloc for positional indexing\n",
      "\n",
      "See the documentation here:\n",
      "http://pandas.pydata.org/pandas-docs/stable/indexing.html#ix-indexer-is-deprecated\n",
      "  dat.ix[:, 0] = [str(x) + int(pad_index) * ' ' for x in dat.ix[:, 0]]\n",
      "/Users/zimmer/anaconda3/lib/python3.6/site-packages/pandas/core/indexing.py:992: DeprecationWarning: \n",
      ".ix is deprecated. Please use\n",
      ".loc for label based indexing or\n",
      ".iloc for positional indexing\n",
      "\n",
      "See the documentation here:\n",
      "http://pandas.pydata.org/pandas-docs/stable/indexing.html#ix-indexer-is-deprecated\n",
      "  return getattr(section, self.name)[new_key]\n"
     ]
    },
    {
     "data": {
      "text/html": [
       "<table class=\"simpletable\">\n",
       "<tr>\n",
       "        <td>Model:</td>              <td>Logit</td>       <td>No. Iterations:</td>   <td>9.0000</td> \n",
       "</tr>\n",
       "<tr>\n",
       "  <td>Dependent Variable:</td>      <td>rating</td>      <td>Pseudo R-squared:</td>   <td>0.046</td> \n",
       "</tr>\n",
       "<tr>\n",
       "         <td>Date:</td>        <td>2018-12-17 14:47</td>       <td>AIC:</td>        <td>542.2865</td>\n",
       "</tr>\n",
       "<tr>\n",
       "   <td>No. Observations:</td>         <td>398</td>             <td>BIC:</td>        <td>574.1781</td>\n",
       "</tr>\n",
       "<tr>\n",
       "       <td>Df Model:</td>              <td>7</td>         <td>Log-Likelihood:</td>   <td>-263.14</td>\n",
       "</tr>\n",
       "<tr>\n",
       "     <td>Df Residuals:</td>           <td>390</td>           <td>LL-Null:</td>       <td>-275.79</td>\n",
       "</tr>\n",
       "<tr>\n",
       "      <td>Converged:</td>           <td>1.0000</td>           <td>Scale:</td>        <td>1.0000</td> \n",
       "</tr>\n",
       "</table>\n",
       "<table class=\"simpletable\">\n",
       "<tr>\n",
       "       <td></td>        <th>Coef.</th>  <th>Std.Err.</th>    <th>z</th>     <th>P>|z|</th>  <th>[0.025</th>    <th>0.975]</th> \n",
       "</tr>\n",
       "<tr>\n",
       "  <th>sub_rel</th>    <td>-36.8323</td>  <td>85.0382</td> <td>-0.4331</td> <td>0.6649</td> <td>-203.5041</td> <td>129.8394</td>\n",
       "</tr>\n",
       "<tr>\n",
       "  <th>parent_rel</th>  <td>0.5233</td>   <td>0.8354</td>  <td>0.6265</td>  <td>0.5310</td>  <td>-1.1140</td>   <td>2.1607</td> \n",
       "</tr>\n",
       "<tr>\n",
       "  <th>length</th>      <td>0.1706</td>   <td>0.0616</td>  <td>2.7714</td>  <td>0.0056</td>  <td>0.0500</td>    <td>0.2913</td> \n",
       "</tr>\n",
       "<tr>\n",
       "  <th>time</th>        <td>-0.3015</td>  <td>0.1062</td>  <td>-2.8381</td> <td>0.0045</td>  <td>-0.5098</td>   <td>-0.0933</td>\n",
       "</tr>\n",
       "<tr>\n",
       "  <th>replies</th>     <td>-2.6201</td>  <td>3.3833</td>  <td>-0.7744</td> <td>0.4387</td>  <td>-9.2512</td>   <td>4.0110</td> \n",
       "</tr>\n",
       "<tr>\n",
       "  <th>wilson</th>      <td>0.0014</td>   <td>0.0020</td>  <td>0.7150</td>  <td>0.4746</td>  <td>-0.0025</td>   <td>0.0054</td> \n",
       "</tr>\n",
       "<tr>\n",
       "  <th>links</th>       <td>2.3266</td>   <td>2.5521</td>  <td>0.9116</td>  <td>0.3620</td>  <td>-2.6755</td>   <td>7.3287</td> \n",
       "</tr>\n",
       "<tr>\n",
       "  <th>qcount</th>      <td>0.4544</td>   <td>0.2482</td>  <td>1.8311</td>  <td>0.0671</td>  <td>-0.0320</td>   <td>0.9409</td> \n",
       "</tr>\n",
       "</table>"
      ],
      "text/plain": [
       "<class 'statsmodels.iolib.summary2.Summary'>\n",
       "\"\"\"\n",
       "                        Results: Logit\n",
       "===============================================================\n",
       "Model:              Logit            No. Iterations:   9.0000  \n",
       "Dependent Variable: rating           Pseudo R-squared: 0.046   \n",
       "Date:               2018-12-17 14:47 AIC:              542.2865\n",
       "No. Observations:   398              BIC:              574.1781\n",
       "Df Model:           7                Log-Likelihood:   -263.14 \n",
       "Df Residuals:       390              LL-Null:          -275.79 \n",
       "Converged:          1.0000           Scale:            1.0000  \n",
       "---------------------------------------------------------------\n",
       "             Coef.   Std.Err.    z    P>|z|    [0.025   0.975] \n",
       "---------------------------------------------------------------\n",
       "sub_rel     -36.8323  85.0382 -0.4331 0.6649 -203.5041 129.8394\n",
       "parent_rel    0.5233   0.8354  0.6265 0.5310   -1.1140   2.1607\n",
       "length        0.1706   0.0616  2.7714 0.0056    0.0500   0.2913\n",
       "time         -0.3015   0.1062 -2.8381 0.0045   -0.5098  -0.0933\n",
       "replies      -2.6201   3.3833 -0.7744 0.4387   -9.2512   4.0110\n",
       "wilson        0.0014   0.0020  0.7150 0.4746   -0.0025   0.0054\n",
       "links         2.3266   2.5521  0.9116 0.3620   -2.6755   7.3287\n",
       "qcount        0.4544   0.2482  1.8311 0.0671   -0.0320   0.9409\n",
       "===============================================================\n",
       "\n",
       "\"\"\""
      ]
     },
     "execution_count": 312,
     "metadata": {},
     "output_type": "execute_result"
    }
   ],
   "source": [
    "train_cols = master_anno_comms[['sub_rel', 'parent_rel', 'length', 'time', 'capitals', 'curses', 'replies', 'wilson', 'links', 'qcount']]\n",
    "\n",
    "A,independent_col_indexes=independent_columns(train_cols.as_matrix(columns=None)) \n",
    "#train_cols will not be converted back from a df to a  matrix object,so doing this explicitly\n",
    "A2=pd.DataFrame(A, columns=train_cols.columns[independent_col_indexes])\n",
    "\n",
    "comm_logreg = smf.Logit(master_anno_comms['rating'],A2,missing='drop').fit()\n",
    "comm_logreg.summary2()"
   ]
  },
  {
   "cell_type": "code",
   "execution_count": 311,
   "metadata": {},
   "outputs": [
    {
     "name": "stdout",
     "output_type": "stream",
     "text": [
      "Optimization terminated successfully.\n",
      "         Current function value: 0.610484\n",
      "         Iterations 6\n"
     ]
    },
    {
     "name": "stderr",
     "output_type": "stream",
     "text": [
      "/Users/zimmer/anaconda3/lib/python3.6/site-packages/statsmodels/iolib/summary2.py:529: DeprecationWarning: \n",
      ".ix is deprecated. Please use\n",
      ".loc for label based indexing or\n",
      ".iloc for positional indexing\n",
      "\n",
      "See the documentation here:\n",
      "http://pandas.pydata.org/pandas-docs/stable/indexing.html#ix-indexer-is-deprecated\n",
      "  dat.ix[:, 0] = [str(x) + int(pad_index) * ' ' for x in dat.ix[:, 0]]\n",
      "/Users/zimmer/anaconda3/lib/python3.6/site-packages/pandas/core/indexing.py:992: DeprecationWarning: \n",
      ".ix is deprecated. Please use\n",
      ".loc for label based indexing or\n",
      ".iloc for positional indexing\n",
      "\n",
      "See the documentation here:\n",
      "http://pandas.pydata.org/pandas-docs/stable/indexing.html#ix-indexer-is-deprecated\n",
      "  return getattr(section, self.name)[new_key]\n",
      "/Users/zimmer/anaconda3/lib/python3.6/site-packages/statsmodels/iolib/summary2.py:529: DeprecationWarning: \n",
      ".ix is deprecated. Please use\n",
      ".loc for label based indexing or\n",
      ".iloc for positional indexing\n",
      "\n",
      "See the documentation here:\n",
      "http://pandas.pydata.org/pandas-docs/stable/indexing.html#ix-indexer-is-deprecated\n",
      "  dat.ix[:, 0] = [str(x) + int(pad_index) * ' ' for x in dat.ix[:, 0]]\n",
      "/Users/zimmer/anaconda3/lib/python3.6/site-packages/pandas/core/indexing.py:992: DeprecationWarning: \n",
      ".ix is deprecated. Please use\n",
      ".loc for label based indexing or\n",
      ".iloc for positional indexing\n",
      "\n",
      "See the documentation here:\n",
      "http://pandas.pydata.org/pandas-docs/stable/indexing.html#ix-indexer-is-deprecated\n",
      "  return getattr(section, self.name)[new_key]\n",
      "/Users/zimmer/anaconda3/lib/python3.6/site-packages/statsmodels/iolib/summary2.py:529: DeprecationWarning: \n",
      ".ix is deprecated. Please use\n",
      ".loc for label based indexing or\n",
      ".iloc for positional indexing\n",
      "\n",
      "See the documentation here:\n",
      "http://pandas.pydata.org/pandas-docs/stable/indexing.html#ix-indexer-is-deprecated\n",
      "  dat.ix[:, 0] = [str(x) + int(pad_index) * ' ' for x in dat.ix[:, 0]]\n",
      "/Users/zimmer/anaconda3/lib/python3.6/site-packages/pandas/core/indexing.py:992: DeprecationWarning: \n",
      ".ix is deprecated. Please use\n",
      ".loc for label based indexing or\n",
      ".iloc for positional indexing\n",
      "\n",
      "See the documentation here:\n",
      "http://pandas.pydata.org/pandas-docs/stable/indexing.html#ix-indexer-is-deprecated\n",
      "  return getattr(section, self.name)[new_key]\n"
     ]
    },
    {
     "data": {
      "text/html": [
       "<table class=\"simpletable\">\n",
       "<tr>\n",
       "        <td>Model:</td>              <td>Logit</td>       <td>No. Iterations:</td>   <td>6.0000</td> \n",
       "</tr>\n",
       "<tr>\n",
       "  <td>Dependent Variable:</td>      <td>rating</td>      <td>Pseudo R-squared:</td>   <td>0.081</td> \n",
       "</tr>\n",
       "<tr>\n",
       "         <td>Date:</td>        <td>2018-12-17 14:45</td>       <td>AIC:</td>        <td>466.9790</td>\n",
       "</tr>\n",
       "<tr>\n",
       "   <td>No. Observations:</td>         <td>371</td>             <td>BIC:</td>        <td>494.3924</td>\n",
       "</tr>\n",
       "<tr>\n",
       "       <td>Df Model:</td>              <td>6</td>         <td>Log-Likelihood:</td>   <td>-226.49</td>\n",
       "</tr>\n",
       "<tr>\n",
       "     <td>Df Residuals:</td>           <td>364</td>           <td>LL-Null:</td>       <td>-246.38</td>\n",
       "</tr>\n",
       "<tr>\n",
       "      <td>Converged:</td>           <td>1.0000</td>           <td>Scale:</td>        <td>1.0000</td> \n",
       "</tr>\n",
       "</table>\n",
       "<table class=\"simpletable\">\n",
       "<tr>\n",
       "     <td></td>      <th>Coef.</th>  <th>Std.Err.</th>    <th>z</th>     <th>P>|z|</th>  <th>[0.025</th>  <th>0.975]</th> \n",
       "</tr>\n",
       "<tr>\n",
       "  <th>sub_rel</th> <td>2.5970</td>   <td>0.7171</td>  <td>3.6216</td>  <td>0.0003</td>  <td>1.1915</td>  <td>4.0025</td> \n",
       "</tr>\n",
       "<tr>\n",
       "  <th>length</th>  <td>0.1433</td>   <td>0.0625</td>  <td>2.2919</td>  <td>0.0219</td>  <td>0.0208</td>  <td>0.2659</td> \n",
       "</tr>\n",
       "<tr>\n",
       "  <th>time</th>    <td>-0.0669</td>  <td>0.0273</td>  <td>-2.4534</td> <td>0.0142</td>  <td>-0.1204</td> <td>-0.0135</td>\n",
       "</tr>\n",
       "<tr>\n",
       "  <th>replies</th> <td>8.1657</td>   <td>21.0848</td> <td>0.3873</td>  <td>0.6985</td> <td>-33.1597</td> <td>49.4911</td>\n",
       "</tr>\n",
       "<tr>\n",
       "  <th>wilson</th>  <td>-0.0000</td>  <td>0.0000</td>  <td>-0.9819</td> <td>0.3262</td>  <td>-0.0001</td> <td>0.0000</td> \n",
       "</tr>\n",
       "<tr>\n",
       "  <th>links</th>   <td>-0.1896</td>  <td>8.7309</td>  <td>-0.0217</td> <td>0.9827</td> <td>-17.3017</td> <td>16.9226</td>\n",
       "</tr>\n",
       "<tr>\n",
       "  <th>qcount</th>  <td>-0.1362</td>  <td>0.2503</td>  <td>-0.5442</td> <td>0.5863</td>  <td>-0.6269</td> <td>0.3544</td> \n",
       "</tr>\n",
       "</table>"
      ],
      "text/plain": [
       "<class 'statsmodels.iolib.summary2.Summary'>\n",
       "\"\"\"\n",
       "                        Results: Logit\n",
       "===============================================================\n",
       "Model:              Logit            No. Iterations:   6.0000  \n",
       "Dependent Variable: rating           Pseudo R-squared: 0.081   \n",
       "Date:               2018-12-17 14:45 AIC:              466.9790\n",
       "No. Observations:   371              BIC:              494.3924\n",
       "Df Model:           6                Log-Likelihood:   -226.49 \n",
       "Df Residuals:       364              LL-Null:          -246.38 \n",
       "Converged:          1.0000           Scale:            1.0000  \n",
       "----------------------------------------------------------------\n",
       "            Coef.   Std.Err.     z     P>|z|    [0.025    0.975]\n",
       "----------------------------------------------------------------\n",
       "sub_rel     2.5970    0.7171   3.6216  0.0003    1.1915   4.0025\n",
       "length      0.1433    0.0625   2.2919  0.0219    0.0208   0.2659\n",
       "time       -0.0669    0.0273  -2.4534  0.0142   -0.1204  -0.0135\n",
       "replies     8.1657   21.0848   0.3873  0.6985  -33.1597  49.4911\n",
       "wilson     -0.0000    0.0000  -0.9819  0.3262   -0.0001   0.0000\n",
       "links      -0.1896    8.7309  -0.0217  0.9827  -17.3017  16.9226\n",
       "qcount     -0.1362    0.2503  -0.5442  0.5863   -0.6269   0.3544\n",
       "===============================================================\n",
       "\n",
       "\"\"\""
      ]
     },
     "execution_count": 311,
     "metadata": {},
     "output_type": "execute_result"
    }
   ],
   "source": [
    "train_cols2 = master_anno_posts[['sub_rel', 'length', 'time', 'capitals', 'curses', 'replies', 'wilson', 'links', 'qcount']]\n",
    "\n",
    "B,independent_col_indexes2=independent_columns(train_cols2.as_matrix(columns=None)) \n",
    "#train_cols will not be converted back from a df to a  matrix object,so doing this explicitly\n",
    "B2=pd.DataFrame(B, columns=train_cols2.columns[independent_col_indexes2])\n",
    "\n",
    "post_logreg = smf.Logit(master_anno_posts['rating'],B2,missing='drop').fit()\n",
    "post_logreg.summary2()"
   ]
  },
  {
   "cell_type": "code",
   "execution_count": 313,
   "metadata": {},
   "outputs": [],
   "source": [
    "Y1 = master_anno_comms[['sub_rel', 'parent_rel', 'length', 'time', 'capitals', 'curses', 'replies', 'wilson', 'links', 'qcount']]\n",
    "Y2 = master_anno_comms[['rating']]\n",
    "Z1 = master_anno_posts[['sub_rel', 'length', 'time', 'capitals', 'curses', 'replies', 'wilson', 'links', 'qcount']]\n",
    "Z2 = master_anno_posts[['rating']]"
   ]
  },
  {
   "cell_type": "code",
   "execution_count": 314,
   "metadata": {},
   "outputs": [
    {
     "name": "stderr",
     "output_type": "stream",
     "text": [
      "/Users/zimmer/anaconda3/lib/python3.6/site-packages/sklearn/utils/validation.py:578: DataConversionWarning: A column-vector y was passed when a 1d array was expected. Please change the shape of y to (n_samples, ), for example using ravel().\n",
      "  y = column_or_1d(y, warn=True)\n"
     ]
    },
    {
     "data": {
      "text/plain": [
       "LogisticRegression(C=1.0, class_weight=None, dual=False, fit_intercept=True,\n",
       "          intercept_scaling=1, max_iter=100, multi_class='ovr', n_jobs=1,\n",
       "          penalty='l2', random_state=None, solver='liblinear', tol=0.0001,\n",
       "          verbose=0, warm_start=False)"
      ]
     },
     "execution_count": 314,
     "metadata": {},
     "output_type": "execute_result"
    }
   ],
   "source": [
    "from sklearn.linear_model import LogisticRegression\n",
    "from sklearn.model_selection import train_test_split\n",
    "from sklearn import metrics\n",
    "from sklearn.model_selection import cross_val_score\n",
    "Y_train, Y_test, Y2_train, Y2_test = train_test_split(Y1, Y2, test_size=0.3, random_state=0)\n",
    "comm_lr = LogisticRegression()\n",
    "comm_lr.fit(Y_train, Y2_train)"
   ]
  },
  {
   "cell_type": "code",
   "execution_count": 315,
   "metadata": {},
   "outputs": [
    {
     "name": "stdout",
     "output_type": "stream",
     "text": [
      "Accuracy of logistic regression model: 0.5750\n"
     ]
    }
   ],
   "source": [
    "comm_pred = comm_lr.predict(Y_test)\n",
    "print('Accuracy of logistic regression model: {:.4f}'.format(comm_lr.score(Y_test, Y2_test)))"
   ]
  },
  {
   "cell_type": "code",
   "execution_count": 316,
   "metadata": {},
   "outputs": [
    {
     "name": "stdout",
     "output_type": "stream",
     "text": [
      "10-fold cross validation average accuracy: 0.5828\n"
     ]
    },
    {
     "name": "stderr",
     "output_type": "stream",
     "text": [
      "/Users/zimmer/anaconda3/lib/python3.6/site-packages/sklearn/utils/validation.py:578: DataConversionWarning: A column-vector y was passed when a 1d array was expected. Please change the shape of y to (n_samples, ), for example using ravel().\n",
      "  y = column_or_1d(y, warn=True)\n",
      "/Users/zimmer/anaconda3/lib/python3.6/site-packages/sklearn/utils/validation.py:578: DataConversionWarning: A column-vector y was passed when a 1d array was expected. Please change the shape of y to (n_samples, ), for example using ravel().\n",
      "  y = column_or_1d(y, warn=True)\n",
      "/Users/zimmer/anaconda3/lib/python3.6/site-packages/sklearn/utils/validation.py:578: DataConversionWarning: A column-vector y was passed when a 1d array was expected. Please change the shape of y to (n_samples, ), for example using ravel().\n",
      "  y = column_or_1d(y, warn=True)\n",
      "/Users/zimmer/anaconda3/lib/python3.6/site-packages/sklearn/utils/validation.py:578: DataConversionWarning: A column-vector y was passed when a 1d array was expected. Please change the shape of y to (n_samples, ), for example using ravel().\n",
      "  y = column_or_1d(y, warn=True)\n",
      "/Users/zimmer/anaconda3/lib/python3.6/site-packages/sklearn/utils/validation.py:578: DataConversionWarning: A column-vector y was passed when a 1d array was expected. Please change the shape of y to (n_samples, ), for example using ravel().\n",
      "  y = column_or_1d(y, warn=True)\n",
      "/Users/zimmer/anaconda3/lib/python3.6/site-packages/sklearn/utils/validation.py:578: DataConversionWarning: A column-vector y was passed when a 1d array was expected. Please change the shape of y to (n_samples, ), for example using ravel().\n",
      "  y = column_or_1d(y, warn=True)\n",
      "/Users/zimmer/anaconda3/lib/python3.6/site-packages/sklearn/utils/validation.py:578: DataConversionWarning: A column-vector y was passed when a 1d array was expected. Please change the shape of y to (n_samples, ), for example using ravel().\n",
      "  y = column_or_1d(y, warn=True)\n",
      "/Users/zimmer/anaconda3/lib/python3.6/site-packages/sklearn/utils/validation.py:578: DataConversionWarning: A column-vector y was passed when a 1d array was expected. Please change the shape of y to (n_samples, ), for example using ravel().\n",
      "  y = column_or_1d(y, warn=True)\n",
      "/Users/zimmer/anaconda3/lib/python3.6/site-packages/sklearn/utils/validation.py:578: DataConversionWarning: A column-vector y was passed when a 1d array was expected. Please change the shape of y to (n_samples, ), for example using ravel().\n",
      "  y = column_or_1d(y, warn=True)\n",
      "/Users/zimmer/anaconda3/lib/python3.6/site-packages/sklearn/utils/validation.py:578: DataConversionWarning: A column-vector y was passed when a 1d array was expected. Please change the shape of y to (n_samples, ), for example using ravel().\n",
      "  y = column_or_1d(y, warn=True)\n"
     ]
    }
   ],
   "source": [
    "model = LogisticRegression()\n",
    "acc = cross_val_score(model, Y_train, Y2_train, cv=10, scoring='accuracy')\n",
    "acc\n",
    "print(\"10-fold cross validation average accuracy: %.4f\" % (acc.mean()))"
   ]
  },
  {
   "cell_type": "code",
   "execution_count": 381,
   "metadata": {},
   "outputs": [
    {
     "data": {
      "text/html": [
       "<div>\n",
       "<style>\n",
       "    .dataframe thead tr:only-child th {\n",
       "        text-align: right;\n",
       "    }\n",
       "\n",
       "    .dataframe thead th {\n",
       "        text-align: left;\n",
       "    }\n",
       "\n",
       "    .dataframe tbody tr th {\n",
       "        vertical-align: top;\n",
       "    }\n",
       "</style>\n",
       "<table border=\"1\" class=\"dataframe\">\n",
       "  <thead>\n",
       "    <tr style=\"text-align: right;\">\n",
       "      <th></th>\n",
       "      <th>sub_rel</th>\n",
       "      <th>parent_rel</th>\n",
       "      <th>length</th>\n",
       "      <th>time</th>\n",
       "      <th>capitals</th>\n",
       "      <th>curses</th>\n",
       "      <th>replies</th>\n",
       "      <th>wilson</th>\n",
       "      <th>links</th>\n",
       "      <th>qcount</th>\n",
       "      <th>rating</th>\n",
       "      <th>pred_rating</th>\n",
       "    </tr>\n",
       "  </thead>\n",
       "  <tbody>\n",
       "    <tr>\n",
       "      <th>65</th>\n",
       "      <td>0.0</td>\n",
       "      <td>0.200000</td>\n",
       "      <td>0.705831</td>\n",
       "      <td>0.410497</td>\n",
       "      <td>0.0</td>\n",
       "      <td>0.0</td>\n",
       "      <td>0.000000</td>\n",
       "      <td>9.0</td>\n",
       "      <td>0.0</td>\n",
       "      <td>0.0</td>\n",
       "      <td>1</td>\n",
       "      <td>0</td>\n",
       "    </tr>\n",
       "    <tr>\n",
       "      <th>132</th>\n",
       "      <td>0.0</td>\n",
       "      <td>0.000000</td>\n",
       "      <td>3.019791</td>\n",
       "      <td>1.768347</td>\n",
       "      <td>0.0</td>\n",
       "      <td>0.0</td>\n",
       "      <td>0.000000</td>\n",
       "      <td>1.0</td>\n",
       "      <td>0.0</td>\n",
       "      <td>0.0</td>\n",
       "      <td>0</td>\n",
       "      <td>0</td>\n",
       "    </tr>\n",
       "    <tr>\n",
       "      <th>74</th>\n",
       "      <td>0.0</td>\n",
       "      <td>0.000000</td>\n",
       "      <td>1.365212</td>\n",
       "      <td>0.808007</td>\n",
       "      <td>0.0</td>\n",
       "      <td>0.0</td>\n",
       "      <td>0.002625</td>\n",
       "      <td>12.0</td>\n",
       "      <td>0.0</td>\n",
       "      <td>0.0</td>\n",
       "      <td>0</td>\n",
       "      <td>0</td>\n",
       "    </tr>\n",
       "    <tr>\n",
       "      <th>78</th>\n",
       "      <td>0.0</td>\n",
       "      <td>0.220339</td>\n",
       "      <td>4.234984</td>\n",
       "      <td>0.051226</td>\n",
       "      <td>0.0</td>\n",
       "      <td>0.0</td>\n",
       "      <td>0.000347</td>\n",
       "      <td>177.0</td>\n",
       "      <td>0.0</td>\n",
       "      <td>9.0</td>\n",
       "      <td>1</td>\n",
       "      <td>1</td>\n",
       "    </tr>\n",
       "    <tr>\n",
       "      <th>37</th>\n",
       "      <td>0.0</td>\n",
       "      <td>0.117647</td>\n",
       "      <td>1.565543</td>\n",
       "      <td>1.442962</td>\n",
       "      <td>0.0</td>\n",
       "      <td>0.0</td>\n",
       "      <td>0.000000</td>\n",
       "      <td>1.0</td>\n",
       "      <td>0.0</td>\n",
       "      <td>0.0</td>\n",
       "      <td>0</td>\n",
       "      <td>0</td>\n",
       "    </tr>\n",
       "  </tbody>\n",
       "</table>\n",
       "</div>"
      ],
      "text/plain": [
       "     sub_rel  parent_rel    length      time  capitals  curses   replies  \\\n",
       "65       0.0    0.200000  0.705831  0.410497       0.0     0.0  0.000000   \n",
       "132      0.0    0.000000  3.019791  1.768347       0.0     0.0  0.000000   \n",
       "74       0.0    0.000000  1.365212  0.808007       0.0     0.0  0.002625   \n",
       "78       0.0    0.220339  4.234984  0.051226       0.0     0.0  0.000347   \n",
       "37       0.0    0.117647  1.565543  1.442962       0.0     0.0  0.000000   \n",
       "\n",
       "     wilson  links  qcount  rating  pred_rating  \n",
       "65      9.0    0.0     0.0       1            0  \n",
       "132     1.0    0.0     0.0       0            0  \n",
       "74     12.0    0.0     0.0       0            0  \n",
       "78    177.0    0.0     9.0       1            1  \n",
       "37      1.0    0.0     0.0       0            0  "
      ]
     },
     "execution_count": 381,
     "metadata": {},
     "output_type": "execute_result"
    }
   ],
   "source": [
    "Y_test_df = pd.merge(Y_test,Y2_test, left_index=True, right_index=True)\n",
    "Y_train_df = pd.merge(Y_train,Y2_train, left_index=True, right_index=True)\n",
    "Y_test_df['pred_rating'] = comm_lr.predict(Y_test)\n",
    "Y_train_df['pred_rating'] = comm_lr.predict(Y_train)\n",
    "Y_all_test = pd.concat([Y_test_df, Y_train_df])\n",
    "Y_all_test.head(5)"
   ]
  },
  {
   "cell_type": "code",
   "execution_count": 382,
   "metadata": {},
   "outputs": [
    {
     "data": {
      "text/plain": [
       "(398, 12)"
      ]
     },
     "execution_count": 382,
     "metadata": {},
     "output_type": "execute_result"
    }
   ],
   "source": [
    "Y_all_test.shape"
   ]
  },
  {
   "cell_type": "code",
   "execution_count": 384,
   "metadata": {},
   "outputs": [
    {
     "name": "stdout",
     "output_type": "stream",
     "text": [
      "Good -  195 Bad -  203\n"
     ]
    }
   ],
   "source": [
    "print('Good - ', len(Y_all_test[Y_all_test['rating'] == 1]), 'Bad - ', len(Y_all_test[Y_all_test['rating'] == 0]))"
   ]
  },
  {
   "cell_type": "code",
   "execution_count": 350,
   "metadata": {},
   "outputs": [],
   "source": [
    "# master_anno_comms_preds = master_anno_comms.copy()\n",
    "# master_anno_comms_preds['pred_rating'] = comm_pred"
   ]
  },
  {
   "cell_type": "code",
   "execution_count": 351,
   "metadata": {},
   "outputs": [],
   "source": [
    "# sklearn.metrics.accuracy_score(y_true=master_anno_comms['rating'], y_pred=master_anno_comms['pred_rating'])"
   ]
  },
  {
   "cell_type": "code",
   "execution_count": 352,
   "metadata": {},
   "outputs": [
    {
     "data": {
      "text/plain": [
       "LogisticRegression(C=1.0, class_weight=None, dual=False, fit_intercept=True,\n",
       "          intercept_scaling=1, max_iter=100, multi_class='ovr', n_jobs=1,\n",
       "          penalty='l2', random_state=None, solver='liblinear', tol=0.0001,\n",
       "          verbose=0, warm_start=False)"
      ]
     },
     "execution_count": 352,
     "metadata": {},
     "output_type": "execute_result"
    }
   ],
   "source": [
    "Z_train, Z_test, Z2_train, Z2_test = train_test_split(Z1, Z2, test_size=0.3, random_state=0)\n",
    "post_lr = LogisticRegression()\n",
    "post_lr.fit(Z_train, Z2_train)"
   ]
  },
  {
   "cell_type": "code",
   "execution_count": 354,
   "metadata": {},
   "outputs": [
    {
     "name": "stdout",
     "output_type": "stream",
     "text": [
      "Accuracy of logistic regression model: 0.5982\n"
     ]
    }
   ],
   "source": [
    "post_pred = post_lr.predict(Z_test)\n",
    "print('Accuracy of logistic regression model: {:.4f}'.format(post_lr.score(Z_test, Z2_test)))"
   ]
  },
  {
   "cell_type": "code",
   "execution_count": 355,
   "metadata": {
    "scrolled": true
   },
   "outputs": [
    {
     "name": "stdout",
     "output_type": "stream",
     "text": [
      "10-fold cross validation average accuracy: 0.6638\n"
     ]
    },
    {
     "name": "stderr",
     "output_type": "stream",
     "text": [
      "/Users/zimmer/anaconda3/lib/python3.6/site-packages/sklearn/utils/validation.py:578: DataConversionWarning: A column-vector y was passed when a 1d array was expected. Please change the shape of y to (n_samples, ), for example using ravel().\n",
      "  y = column_or_1d(y, warn=True)\n",
      "/Users/zimmer/anaconda3/lib/python3.6/site-packages/sklearn/utils/validation.py:578: DataConversionWarning: A column-vector y was passed when a 1d array was expected. Please change the shape of y to (n_samples, ), for example using ravel().\n",
      "  y = column_or_1d(y, warn=True)\n",
      "/Users/zimmer/anaconda3/lib/python3.6/site-packages/sklearn/utils/validation.py:578: DataConversionWarning: A column-vector y was passed when a 1d array was expected. Please change the shape of y to (n_samples, ), for example using ravel().\n",
      "  y = column_or_1d(y, warn=True)\n",
      "/Users/zimmer/anaconda3/lib/python3.6/site-packages/sklearn/utils/validation.py:578: DataConversionWarning: A column-vector y was passed when a 1d array was expected. Please change the shape of y to (n_samples, ), for example using ravel().\n",
      "  y = column_or_1d(y, warn=True)\n",
      "/Users/zimmer/anaconda3/lib/python3.6/site-packages/sklearn/utils/validation.py:578: DataConversionWarning: A column-vector y was passed when a 1d array was expected. Please change the shape of y to (n_samples, ), for example using ravel().\n",
      "  y = column_or_1d(y, warn=True)\n",
      "/Users/zimmer/anaconda3/lib/python3.6/site-packages/sklearn/utils/validation.py:578: DataConversionWarning: A column-vector y was passed when a 1d array was expected. Please change the shape of y to (n_samples, ), for example using ravel().\n",
      "  y = column_or_1d(y, warn=True)\n",
      "/Users/zimmer/anaconda3/lib/python3.6/site-packages/sklearn/utils/validation.py:578: DataConversionWarning: A column-vector y was passed when a 1d array was expected. Please change the shape of y to (n_samples, ), for example using ravel().\n",
      "  y = column_or_1d(y, warn=True)\n",
      "/Users/zimmer/anaconda3/lib/python3.6/site-packages/sklearn/utils/validation.py:578: DataConversionWarning: A column-vector y was passed when a 1d array was expected. Please change the shape of y to (n_samples, ), for example using ravel().\n",
      "  y = column_or_1d(y, warn=True)\n",
      "/Users/zimmer/anaconda3/lib/python3.6/site-packages/sklearn/utils/validation.py:578: DataConversionWarning: A column-vector y was passed when a 1d array was expected. Please change the shape of y to (n_samples, ), for example using ravel().\n",
      "  y = column_or_1d(y, warn=True)\n",
      "/Users/zimmer/anaconda3/lib/python3.6/site-packages/sklearn/utils/validation.py:578: DataConversionWarning: A column-vector y was passed when a 1d array was expected. Please change the shape of y to (n_samples, ), for example using ravel().\n",
      "  y = column_or_1d(y, warn=True)\n"
     ]
    }
   ],
   "source": [
    "model2 = LogisticRegression()\n",
    "acc2 = cross_val_score(model2, Z_train,Z2_train, cv=10, scoring='accuracy')\n",
    "acc2\n",
    "print(\"10-fold cross validation average accuracy: %.4f\" % (acc2.mean()))"
   ]
  },
  {
   "cell_type": "code",
   "execution_count": 378,
   "metadata": {},
   "outputs": [
    {
     "data": {
      "text/html": [
       "<div>\n",
       "<style>\n",
       "    .dataframe thead tr:only-child th {\n",
       "        text-align: right;\n",
       "    }\n",
       "\n",
       "    .dataframe thead th {\n",
       "        text-align: left;\n",
       "    }\n",
       "\n",
       "    .dataframe tbody tr th {\n",
       "        vertical-align: top;\n",
       "    }\n",
       "</style>\n",
       "<table border=\"1\" class=\"dataframe\">\n",
       "  <thead>\n",
       "    <tr style=\"text-align: right;\">\n",
       "      <th></th>\n",
       "      <th>sub_rel</th>\n",
       "      <th>length</th>\n",
       "      <th>time</th>\n",
       "      <th>capitals</th>\n",
       "      <th>curses</th>\n",
       "      <th>replies</th>\n",
       "      <th>wilson</th>\n",
       "      <th>links</th>\n",
       "      <th>qcount</th>\n",
       "      <th>rating</th>\n",
       "      <th>pred_rating</th>\n",
       "    </tr>\n",
       "  </thead>\n",
       "  <tbody>\n",
       "    <tr>\n",
       "      <th>141</th>\n",
       "      <td>0.64</td>\n",
       "      <td>4.582432</td>\n",
       "      <td>0.480242</td>\n",
       "      <td>0.0</td>\n",
       "      <td>0.0</td>\n",
       "      <td>0.008343</td>\n",
       "      <td>4253.0</td>\n",
       "      <td>0.027027</td>\n",
       "      <td>0.0</td>\n",
       "      <td>1</td>\n",
       "      <td>1</td>\n",
       "    </tr>\n",
       "    <tr>\n",
       "      <th>142</th>\n",
       "      <td>0.44</td>\n",
       "      <td>5.165895</td>\n",
       "      <td>1.113576</td>\n",
       "      <td>0.0</td>\n",
       "      <td>0.0</td>\n",
       "      <td>0.005198</td>\n",
       "      <td>1869.0</td>\n",
       "      <td>0.006410</td>\n",
       "      <td>0.0</td>\n",
       "      <td>1</td>\n",
       "      <td>1</td>\n",
       "    </tr>\n",
       "    <tr>\n",
       "      <th>313</th>\n",
       "      <td>0.56</td>\n",
       "      <td>3.018284</td>\n",
       "      <td>5.571763</td>\n",
       "      <td>0.0</td>\n",
       "      <td>0.0</td>\n",
       "      <td>0.002013</td>\n",
       "      <td>82.0</td>\n",
       "      <td>0.018987</td>\n",
       "      <td>0.0</td>\n",
       "      <td>1</td>\n",
       "      <td>1</td>\n",
       "    </tr>\n",
       "    <tr>\n",
       "      <th>60</th>\n",
       "      <td>0.38</td>\n",
       "      <td>4.670597</td>\n",
       "      <td>0.071763</td>\n",
       "      <td>0.0</td>\n",
       "      <td>0.0</td>\n",
       "      <td>0.000737</td>\n",
       "      <td>54.0</td>\n",
       "      <td>0.007692</td>\n",
       "      <td>0.0</td>\n",
       "      <td>1</td>\n",
       "      <td>1</td>\n",
       "    </tr>\n",
       "    <tr>\n",
       "      <th>302</th>\n",
       "      <td>0.00</td>\n",
       "      <td>0.632401</td>\n",
       "      <td>3.323799</td>\n",
       "      <td>0.0</td>\n",
       "      <td>0.0</td>\n",
       "      <td>0.000000</td>\n",
       "      <td>1.0</td>\n",
       "      <td>0.000000</td>\n",
       "      <td>0.0</td>\n",
       "      <td>1</td>\n",
       "      <td>1</td>\n",
       "    </tr>\n",
       "  </tbody>\n",
       "</table>\n",
       "</div>"
      ],
      "text/plain": [
       "     sub_rel    length      time  capitals  curses   replies  wilson  \\\n",
       "141     0.64  4.582432  0.480242       0.0     0.0  0.008343  4253.0   \n",
       "142     0.44  5.165895  1.113576       0.0     0.0  0.005198  1869.0   \n",
       "313     0.56  3.018284  5.571763       0.0     0.0  0.002013    82.0   \n",
       "60      0.38  4.670597  0.071763       0.0     0.0  0.000737    54.0   \n",
       "302     0.00  0.632401  3.323799       0.0     0.0  0.000000     1.0   \n",
       "\n",
       "        links  qcount  rating  pred_rating  \n",
       "141  0.027027     0.0       1            1  \n",
       "142  0.006410     0.0       1            1  \n",
       "313  0.018987     0.0       1            1  \n",
       "60   0.007692     0.0       1            1  \n",
       "302  0.000000     0.0       1            1  "
      ]
     },
     "execution_count": 378,
     "metadata": {},
     "output_type": "execute_result"
    }
   ],
   "source": [
    "Z_test_df = pd.merge(Z_test,Z2_test, left_index=True, right_index=True)\n",
    "Z_train_df = pd.merge(Z_train,Z2_train, left_index=True, right_index=True)\n",
    "Z_test_df['pred_rating'] = post_lr.predict(Z_test)\n",
    "Z_train_df['pred_rating'] = post_lr.predict(Z_train)\n",
    "Z_all_test = pd.concat([Z_test_df, Z_train_df])\n",
    "Z_all_test.head(5)"
   ]
  },
  {
   "cell_type": "code",
   "execution_count": 379,
   "metadata": {},
   "outputs": [
    {
     "data": {
      "text/plain": [
       "(371, 11)"
      ]
     },
     "execution_count": 379,
     "metadata": {},
     "output_type": "execute_result"
    }
   ],
   "source": [
    "Z_all_test.shape"
   ]
  },
  {
   "cell_type": "code",
   "execution_count": 385,
   "metadata": {},
   "outputs": [
    {
     "name": "stdout",
     "output_type": "stream",
     "text": [
      "Good -  230 Bad -  141\n"
     ]
    }
   ],
   "source": [
    "print('Good - ', len(Z_all_test[Z_all_test['rating'] == 1]), 'Bad - ', len(Z_all_test[Z_all_test['rating'] == 0]))"
   ]
  },
  {
   "cell_type": "code",
   "execution_count": 400,
   "metadata": {},
   "outputs": [
    {
     "name": "stderr",
     "output_type": "stream",
     "text": [
      "/Users/zimmer/anaconda3/lib/python3.6/site-packages/seaborn/distributions.py:191: RuntimeWarning: Mean of empty slice.\n",
      "  line, = ax.plot(a.mean(), 0)\n",
      "/Users/zimmer/anaconda3/lib/python3.6/site-packages/numpy/core/_methods.py:85: RuntimeWarning: invalid value encountered in double_scalars\n",
      "  ret = ret.dtype.type(ret / rcount)\n"
     ]
    },
    {
     "ename": "ZeroDivisionError",
     "evalue": "float division by zero",
     "output_type": "error",
     "traceback": [
      "\u001b[0;31m---------------------------------------------------------------------------\u001b[0m",
      "\u001b[0;31mZeroDivisionError\u001b[0m                         Traceback (most recent call last)",
      "\u001b[0;32m<ipython-input-400-e500e117a866>\u001b[0m in \u001b[0;36m<module>\u001b[0;34m\u001b[0m\n\u001b[0;32m----> 1\u001b[0;31m \u001b[0msns\u001b[0m\u001b[0;34m.\u001b[0m\u001b[0mdistplot\u001b[0m\u001b[0;34m(\u001b[0m\u001b[0mZ_all_test\u001b[0m\u001b[0;34m[\u001b[0m\u001b[0mZ_all_test\u001b[0m\u001b[0;34m[\u001b[0m\u001b[0;34m'rating'\u001b[0m\u001b[0;34m]\u001b[0m \u001b[0;34m>\u001b[0m \u001b[0;36m2.5\u001b[0m\u001b[0;34m]\u001b[0m\u001b[0;34m[\u001b[0m\u001b[0;34m'time'\u001b[0m\u001b[0;34m]\u001b[0m\u001b[0;34m)\u001b[0m \u001b[0;31m# good posts\u001b[0m\u001b[0;34m\u001b[0m\u001b[0m\n\u001b[0m",
      "\u001b[0;32m~/anaconda3/lib/python3.6/site-packages/seaborn/distributions.py\u001b[0m in \u001b[0;36mdistplot\u001b[0;34m(a, bins, hist, kde, rug, fit, hist_kws, kde_kws, rug_kws, fit_kws, color, vertical, norm_hist, axlabel, label, ax)\u001b[0m\n\u001b[1;32m    206\u001b[0m     \u001b[0;32mif\u001b[0m \u001b[0mhist\u001b[0m\u001b[0;34m:\u001b[0m\u001b[0;34m\u001b[0m\u001b[0m\n\u001b[1;32m    207\u001b[0m         \u001b[0;32mif\u001b[0m \u001b[0mbins\u001b[0m \u001b[0;32mis\u001b[0m \u001b[0;32mNone\u001b[0m\u001b[0;34m:\u001b[0m\u001b[0;34m\u001b[0m\u001b[0m\n\u001b[0;32m--> 208\u001b[0;31m             \u001b[0mbins\u001b[0m \u001b[0;34m=\u001b[0m \u001b[0mmin\u001b[0m\u001b[0;34m(\u001b[0m\u001b[0m_freedman_diaconis_bins\u001b[0m\u001b[0;34m(\u001b[0m\u001b[0ma\u001b[0m\u001b[0;34m)\u001b[0m\u001b[0;34m,\u001b[0m \u001b[0;36m50\u001b[0m\u001b[0;34m)\u001b[0m\u001b[0;34m\u001b[0m\u001b[0m\n\u001b[0m\u001b[1;32m    209\u001b[0m         \u001b[0mhist_kws\u001b[0m\u001b[0;34m.\u001b[0m\u001b[0msetdefault\u001b[0m\u001b[0;34m(\u001b[0m\u001b[0;34m\"alpha\"\u001b[0m\u001b[0;34m,\u001b[0m \u001b[0;36m0.4\u001b[0m\u001b[0;34m)\u001b[0m\u001b[0;34m\u001b[0m\u001b[0m\n\u001b[1;32m    210\u001b[0m         \u001b[0mhist_kws\u001b[0m\u001b[0;34m.\u001b[0m\u001b[0msetdefault\u001b[0m\u001b[0;34m(\u001b[0m\u001b[0;34m\"normed\"\u001b[0m\u001b[0;34m,\u001b[0m \u001b[0mnorm_hist\u001b[0m\u001b[0;34m)\u001b[0m\u001b[0;34m\u001b[0m\u001b[0m\n",
      "\u001b[0;32m~/anaconda3/lib/python3.6/site-packages/seaborn/distributions.py\u001b[0m in \u001b[0;36m_freedman_diaconis_bins\u001b[0;34m(a)\u001b[0m\n\u001b[1;32m     27\u001b[0m     \u001b[0;31m# From http://stats.stackexchange.com/questions/798/\u001b[0m\u001b[0;34m\u001b[0m\u001b[0;34m\u001b[0m\u001b[0m\n\u001b[1;32m     28\u001b[0m     \u001b[0ma\u001b[0m \u001b[0;34m=\u001b[0m \u001b[0mnp\u001b[0m\u001b[0;34m.\u001b[0m\u001b[0masarray\u001b[0m\u001b[0;34m(\u001b[0m\u001b[0ma\u001b[0m\u001b[0;34m)\u001b[0m\u001b[0;34m\u001b[0m\u001b[0m\n\u001b[0;32m---> 29\u001b[0;31m     \u001b[0mh\u001b[0m \u001b[0;34m=\u001b[0m \u001b[0;36m2\u001b[0m \u001b[0;34m*\u001b[0m \u001b[0miqr\u001b[0m\u001b[0;34m(\u001b[0m\u001b[0ma\u001b[0m\u001b[0;34m)\u001b[0m \u001b[0;34m/\u001b[0m \u001b[0;34m(\u001b[0m\u001b[0mlen\u001b[0m\u001b[0;34m(\u001b[0m\u001b[0ma\u001b[0m\u001b[0;34m)\u001b[0m \u001b[0;34m**\u001b[0m \u001b[0;34m(\u001b[0m\u001b[0;36m1\u001b[0m \u001b[0;34m/\u001b[0m \u001b[0;36m3\u001b[0m\u001b[0;34m)\u001b[0m\u001b[0;34m)\u001b[0m\u001b[0;34m\u001b[0m\u001b[0m\n\u001b[0m\u001b[1;32m     30\u001b[0m     \u001b[0;31m# fall back to sqrt(a) bins if iqr is 0\u001b[0m\u001b[0;34m\u001b[0m\u001b[0;34m\u001b[0m\u001b[0m\n\u001b[1;32m     31\u001b[0m     \u001b[0;32mif\u001b[0m \u001b[0mh\u001b[0m \u001b[0;34m==\u001b[0m \u001b[0;36m0\u001b[0m\u001b[0;34m:\u001b[0m\u001b[0;34m\u001b[0m\u001b[0m\n",
      "\u001b[0;31mZeroDivisionError\u001b[0m: float division by zero"
     ]
    },
    {
     "data": {
      "image/png": "[encoded data removed]",
      "text/plain": [
       "<matplotlib.figure.Figure at 0x118b46828>"
      ]
     },
     "metadata": {
      "needs_background": "light"
     },
     "output_type": "display_data"
    }
   ],
   "source": [
    "sns.distplot(['time']) # good posts"
   ]
  },
  {
   "cell_type": "code",
   "execution_count": 410,
   "metadata": {},
   "outputs": [
    {
     "data": {
      "text/plain": [
       "<matplotlib.axes._subplots.AxesSubplot at 0x13372b7b8>"
      ]
     },
     "execution_count": 410,
     "metadata": {},
     "output_type": "execute_result"
    },
    {
     "data": {
      "image/png": "[encoded data removed]",
      "text/plain": [
       "<matplotlib.figure.Figure at 0x12d4c9ba8>"
      ]
     },
     "metadata": {
      "needs_background": "light"
     },
     "output_type": "display_data"
    }
   ],
   "source": [
    "sns.distplot(Z_all_test[ Z_all_test['rating'] == 1]['time'])"
   ]
  },
  {
   "cell_type": "code",
   "execution_count": 411,
   "metadata": {},
   "outputs": [
    {
     "data": {
      "text/plain": [
       "<matplotlib.axes._subplots.AxesSubplot at 0x13372be80>"
      ]
     },
     "execution_count": 411,
     "metadata": {},
     "output_type": "execute_result"
    },
    {
     "data": {
      "image/png": "[encoded data removed]",
      "text/plain": [
       "<matplotlib.figure.Figure at 0x1317f3eb8>"
      ]
     },
     "metadata": {
      "needs_background": "light"
     },
     "output_type": "display_data"
    }
   ],
   "source": [
    "sns.distplot(Z_all_test[ Z_all_test['rating'] == 0]['time'])"
   ]
  },
  {
   "cell_type": "code",
   "execution_count": 412,
   "metadata": {},
   "outputs": [
    {
     "data": {
      "text/plain": [
       "<matplotlib.axes._subplots.AxesSubplot at 0x133759a90>"
      ]
     },
     "execution_count": 412,
     "metadata": {},
     "output_type": "execute_result"
    },
    {
     "data": {
      "image/png": "[encoded data removed]",
      "text/plain": [
       "<matplotlib.figure.Figure at 0x130f88da0>"
      ]
     },
     "metadata": {
      "needs_background": "light"
     },
     "output_type": "display_data"
    }
   ],
   "source": [
    "sns.distplot(Y_all_test[Y_all_test['rating'] == 1]['time'])"
   ]
  },
  {
   "cell_type": "code",
   "execution_count": 413,
   "metadata": {},
   "outputs": [
    {
     "data": {
      "text/plain": [
       "<matplotlib.axes._subplots.AxesSubplot at 0x130f939b0>"
      ]
     },
     "execution_count": 413,
     "metadata": {},
     "output_type": "execute_result"
    },
    {
     "data": {
      "image/png": "[encoded data removed]",
      "text/plain": [
       "<matplotlib.figure.Figure at 0x130eba128>"
      ]
     },
     "metadata": {
      "needs_background": "light"
     },
     "output_type": "display_data"
    }
   ],
   "source": [
    "sns.distplot(Y_all_test[Y_all_test['rating'] == 0]['time'])"
   ]
  },
  {
   "cell_type": "code",
   "execution_count": 414,
   "metadata": {},
   "outputs": [
    {
     "data": {
      "text/plain": [
       "<matplotlib.axes._subplots.AxesSubplot at 0x1190ade80>"
      ]
     },
     "execution_count": 414,
     "metadata": {},
     "output_type": "execute_result"
    },
    {
     "data": {
      "image/png": "[encoded data removed]",
      "text/plain": [
       "<matplotlib.figure.Figure at 0x1197ef240>"
      ]
     },
     "metadata": {
      "needs_background": "light"
     },
     "output_type": "display_data"
    }
   ],
   "source": [
    "sns.distplot(Y_all_test[Y_all_test['rating'] == 1]['length'])"
   ]
  },
  {
   "cell_type": "code",
   "execution_count": 415,
   "metadata": {},
   "outputs": [
    {
     "data": {
      "text/plain": [
       "<matplotlib.axes._subplots.AxesSubplot at 0x12d803e80>"
      ]
     },
     "execution_count": 415,
     "metadata": {},
     "output_type": "execute_result"
    },
    {
     "data": {
      "image/png": "[encoded data removed]",
      "text/plain": [
       "<matplotlib.figure.Figure at 0x11973e940>"
      ]
     },
     "metadata": {
      "needs_background": "light"
     },
     "output_type": "display_data"
    }
   ],
   "source": [
    "sns.distplot(Y_all_test[Y_all_test['rating'] == 0]['length'])"
   ]
  },
  {
   "cell_type": "code",
   "execution_count": 416,
   "metadata": {},
   "outputs": [
    {
     "data": {
      "text/plain": [
       "<matplotlib.axes._subplots.AxesSubplot at 0x12d803b00>"
      ]
     },
     "execution_count": 416,
     "metadata": {},
     "output_type": "execute_result"
    },
    {
     "data": {
      "image/png": "[encoded data removed]",
      "text/plain": [
       "<matplotlib.figure.Figure at 0x12d50c550>"
      ]
     },
     "metadata": {
      "needs_background": "light"
     },
     "output_type": "display_data"
    }
   ],
   "source": [
    "sns.distplot(Z_all_test[Z_all_test['rating'] == 1]['length'])"
   ]
  },
  {
   "cell_type": "code",
   "execution_count": 417,
   "metadata": {},
   "outputs": [
    {
     "data": {
      "text/plain": [
       "<matplotlib.axes._subplots.AxesSubplot at 0x12f64d198>"
      ]
     },
     "execution_count": 417,
     "metadata": {},
     "output_type": "execute_result"
    },
    {
     "data": {
      "image/png": "[encoded data removed]",
      "text/plain": [
       "<matplotlib.figure.Figure at 0x12f6cd240>"
      ]
     },
     "metadata": {
      "needs_background": "light"
     },
     "output_type": "display_data"
    }
   ],
   "source": [
    "sns.distplot(Z_all_test[Z_all_test['rating'] == 0]['length'])"
   ]
  },
  {
   "cell_type": "code",
   "execution_count": null,
   "metadata": {},
   "outputs": [],
   "source": []
  }
 ],
 "metadata": {
  "kernelspec": {
   "display_name": "Python 3",
   "language": "python",
   "name": "python3"
  },
  "language_info": {
   "codemirror_mode": {
    "name": "ipython",
    "version": 3
   },
   "file_extension": ".py",
   "mimetype": "text/x-python",
   "name": "python",
   "nbconvert_exporter": "python",
   "pygments_lexer": "ipython3",
   "version": "3.6.3"
  }
 },
 "nbformat": 4,
 "nbformat_minor": 2
}
